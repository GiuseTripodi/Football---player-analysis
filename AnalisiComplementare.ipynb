{
 "cells": [
  {
   "cell_type": "markdown",
   "id": "informative-perth",
   "metadata": {},
   "source": [
    "<h1>Obiettivi dello studio</h1>"
   ]
  },
  {
   "cell_type": "markdown",
   "id": "understanding-miller",
   "metadata": {},
   "source": [
    "Si è svolta un'analisi complementare finalizzata al riconoscimento dei giocatori che potrebbero performare meglio in un ruolo diverso da quello loro assegnato."
   ]
  },
  {
   "cell_type": "code",
   "execution_count": 58,
   "id": "employed-associate",
   "metadata": {
    "jupyter": {
     "source_hidden": true
    },
    "tags": []
   },
   "outputs": [],
   "source": [
    "import numpy as np\n",
    "from io import StringIO\n",
    "import pandas as pd\n",
    "import numpy as np\n",
    "import os\n",
    "import matplotlib.pyplot as plt\n",
    "import seaborn as sns\n",
    "from pandas import DataFrame, Series\n",
    "from pandas.plotting import scatter_matrix\n",
    "from datetime import datetime\n",
    "from sklearn.cluster import KMeans\n",
    "from sklearn.preprocessing import StandardScaler\n",
    "\n",
    "from sklearn.datasets import make_blobs\n",
    "from sklearn.cluster import KMeans\n",
    "from plotly.subplots import make_subplots\n",
    "\n",
    "from sklearn.metrics import silhouette_samples, silhouette_score\n",
    "\n",
    "import matplotlib.pyplot as plt\n",
    "import matplotlib.cm as cm\n",
    "import numpy as np\n",
    "import copy\n",
    "import matplotlib as mlt\n",
    "\n",
    "\n",
    "\n",
    "import random\n",
    "\n",
    "#plotly imports\n",
    "import plotly as py\n",
    "import plotly.express as px\n",
    "import plotly.graph_objects as go\n",
    "from plotly.offline import download_plotlyjs, init_notebook_mode, plot, iplot\n",
    "\n",
    "#sklearn imports\n",
    "from sklearn.decomposition import PCA #Principal Component Analysis\n",
    "from sklearn.manifold import TSNE #T-Distributed Stochastic Neighbor Embedding\n",
    "from sklearn.cluster import KMeans #K-Means Clustering\n",
    "from sklearn.preprocessing import StandardScaler #used for 'Feature Scaling'\n",
    "from sklearn.preprocessing import StandardScaler"
   ]
  },
  {
   "cell_type": "markdown",
   "id": "lesser-growth",
   "metadata": {},
   "source": [
    "<h2>Caricamento del DataSet</h2>"
   ]
  },
  {
   "cell_type": "code",
   "execution_count": 59,
   "id": "diverse-worcester",
   "metadata": {
    "jupyter": {
     "source_hidden": true
    },
    "tags": []
   },
   "outputs": [],
   "source": [
    "#carichiamo i vari dataset\n",
    "pass1 = pd.read_csv(\"./DataSet/DataSet_Classificazione/serieA_1_passing.csv\", index_col=0, thousands=\",\", decimal=\".\")\n",
    "pass2 = pd.read_csv(\"./DataSet/DataSet_Classificazione/serieA_2_passing.csv\", index_col=0, thousands=\",\", decimal=\".\")\n",
    "shot1 = pd.read_csv(\"./DataSet/DataSet_Classificazione/serieA_1_shot.csv\", index_col=0, thousands=\",\", decimal=\".\")\n",
    "shot2 = pd.read_csv(\"./DataSet/DataSet_Classificazione/serieA_2_shot.csv\", index_col=0, thousands=\",\", decimal=\".\")\n",
    "poss1 = pd.read_csv(\"./DataSet/DataSet_Classificazione/possession1.csv\", index_col=0, thousands=\",\", decimal=\".\")\n",
    "poss2 = pd.read_csv(\"./DataSet/DataSet_Classificazione/possession2.csv\", index_col=0, thousands=\",\", decimal=\".\")\n",
    "def1 = pd.read_csv(\"./DataSet/DataSet_Classificazione/defense1.csv\", index_col=0, thousands=\",\", decimal=\".\")\n",
    "def2 = pd.read_csv(\"./DataSet/DataSet_Classificazione/defense2.csv\", index_col=0, thousands=\",\", decimal=\".\")\n",
    "misc1 = pd.read_csv(\"./DataSet/DataSet_Classificazione/misc_1.csv\", index_col=0, thousands=\",\", decimal=\".\")\n",
    "misc2 = pd.read_csv(\"./DataSet/DataSet_Classificazione/misc_2.csv\", index_col=0, thousands=\",\", decimal=\".\")"
   ]
  },
  {
   "cell_type": "code",
   "execution_count": 60,
   "id": "activated-residence",
   "metadata": {
    "jupyter": {
     "source_hidden": true
    },
    "scrolled": true,
    "tags": []
   },
   "outputs": [],
   "source": [
    "pass_ = pd.concat([pass1, pass2],axis=0, sort=True)\n",
    "shot = pd.concat([shot1, shot2], axis=0, sort=True)\n",
    "poss = pd.concat([poss1, poss2], axis=0, sort=True)\n",
    "def_ = pd.concat([def1, def2], axis=0,sort=True)\n",
    "misc_ = pd.concat([misc1, misc2], axis=0,sort=True)\n",
    "\n"
   ]
  },
  {
   "cell_type": "markdown",
   "id": "third-highlight",
   "metadata": {},
   "source": [
    "Unisco tutto in un unica tabella, prima di fare ciò eliminiamo gli indici duplicati"
   ]
  },
  {
   "cell_type": "code",
   "execution_count": 61,
   "id": "regional-arabic",
   "metadata": {
    "jupyter": {
     "source_hidden": true
    },
    "scrolled": true,
    "tags": []
   },
   "outputs": [
    {
     "name": "stdout",
     "output_type": "stream",
     "text": [
      "<class 'pandas.core.frame.DataFrame'>\n",
      "Index: 594 entries, Jeroen Zoet to Sergej MilinkoviÄ‡-SaviÄ‡\n",
      "Data columns (total 23 columns):\n",
      "2CrdY      594 non-null int64\n",
      "90s        594 non-null float64\n",
      "Age        594 non-null int64\n",
      "Born       594 non-null int64\n",
      "CrdR       594 non-null int64\n",
      "CrdY       594 non-null int64\n",
      "Crs        594 non-null int64\n",
      "Fld        594 non-null int64\n",
      "Fls        594 non-null int64\n",
      "Int        594 non-null int64\n",
      "Lost       593 non-null float64\n",
      "Matches    594 non-null object\n",
      "Nation     594 non-null object\n",
      "OG         594 non-null int64\n",
      "Off        594 non-null int64\n",
      "PKcon      593 non-null float64\n",
      "PKwon      593 non-null float64\n",
      "Pos        594 non-null object\n",
      "Recov      593 non-null float64\n",
      "Squad      594 non-null object\n",
      "TklW       594 non-null int64\n",
      "Won        593 non-null float64\n",
      "Won%       501 non-null float64\n",
      "dtypes: float64(7), int64(12), object(4)\n",
      "memory usage: 111.4+ KB\n"
     ]
    }
   ],
   "source": [
    "pass_ = pass_[~pass_.index.duplicated(keep='first')]\n",
    "shot = shot[~shot.index.duplicated(keep='first')]\n",
    "poss = poss[~poss.index.duplicated(keep='first')]\n",
    "def_ = def_[~def_.index.duplicated(keep='first')]\n",
    "misc_ = misc_[~misc_.index.duplicated(keep='first')]\n",
    "misc_.info()\n",
    "ruolo = misc_[\"Pos\"]"
   ]
  },
  {
   "cell_type": "markdown",
   "id": "greek-clear",
   "metadata": {},
   "source": [
    "<h2>Preprocessing</h2>"
   ]
  },
  {
   "cell_type": "markdown",
   "id": "steady-joint",
   "metadata": {},
   "source": [
    "Per non gestire troppi attribuiti in un'unica volta effettuiamo il preprocessing dei dataset di ogni statistica singolarmente, dopo di che uniamo tutti i dataset."
   ]
  },
  {
   "cell_type": "code",
   "execution_count": 62,
   "id": "unsigned-snake",
   "metadata": {},
   "outputs": [],
   "source": [
    "#inseriamo il valore minimo delle partite giocate da un giocatore\n",
    "limitePresenze= 11"
   ]
  },
  {
   "cell_type": "markdown",
   "id": "joint-country",
   "metadata": {
    "tags": []
   },
   "source": [
    "Alcune operazioni di preprocessing sono comuni ad ogni dataset:\n",
    "1. Eliminiamo i portieri -> Non sono oggetto dell'analisi in quanto non cambiano ruolo ed hanno statistiche diverse rispetto agli altri ruoli.\n",
    "2. Eliminiamo i giocatori con poche presenze -> Le statistiche per giocatori che hanno giocato poche partite non danno risultati attendibili."
   ]
  },
  {
   "cell_type": "markdown",
   "id": "natural-sitting",
   "metadata": {
    "tags": []
   },
   "source": [
    "<h4>Shooting</h4>"
   ]
  },
  {
   "cell_type": "code",
   "execution_count": 63,
   "id": "statewide-movement",
   "metadata": {},
   "outputs": [],
   "source": [
    "shot = pd.concat([shot,ruolo], axis=1, sort=True )\n",
    "shot = shot[shot[\"90s\"] > limitePresenze ] \n",
    "shot = shot[shot[\"Pos\"] != \"GK\"] "
   ]
  },
  {
   "cell_type": "code",
   "execution_count": 64,
   "id": "biblical-meter",
   "metadata": {},
   "outputs": [
    {
     "data": {
      "text/html": [
       "<div>\n",
       "<style scoped>\n",
       "    .dataframe tbody tr th:only-of-type {\n",
       "        vertical-align: middle;\n",
       "    }\n",
       "\n",
       "    .dataframe tbody tr th {\n",
       "        vertical-align: top;\n",
       "    }\n",
       "\n",
       "    .dataframe thead th {\n",
       "        text-align: right;\n",
       "    }\n",
       "</style>\n",
       "<table border=\"1\" class=\"dataframe\">\n",
       "  <thead>\n",
       "    <tr style=\"text-align: right;\">\n",
       "      <th></th>\n",
       "      <th>90s</th>\n",
       "      <th>Age</th>\n",
       "      <th>Born</th>\n",
       "      <th>Dist</th>\n",
       "      <th>FK</th>\n",
       "      <th>G-xG</th>\n",
       "      <th>G/Sh</th>\n",
       "      <th>G/SoT</th>\n",
       "      <th>Gls</th>\n",
       "      <th>PK</th>\n",
       "      <th>PKatt</th>\n",
       "      <th>Sh</th>\n",
       "      <th>Sh/90</th>\n",
       "      <th>SoT</th>\n",
       "      <th>SoT%</th>\n",
       "      <th>SoT/90</th>\n",
       "      <th>Squad</th>\n",
       "      <th>np:G-xG</th>\n",
       "      <th>npxG</th>\n",
       "      <th>npxG/Sh</th>\n",
       "      <th>xG</th>\n",
       "      <th>Pos</th>\n",
       "    </tr>\n",
       "  </thead>\n",
       "  <tbody>\n",
       "    <tr>\n",
       "      <th>Aaron Ramsey</th>\n",
       "      <td>12.1</td>\n",
       "      <td>29</td>\n",
       "      <td>1990</td>\n",
       "      <td>13.8</td>\n",
       "      <td>0.0</td>\n",
       "      <td>-3.0</td>\n",
       "      <td>0.09</td>\n",
       "      <td>0.20</td>\n",
       "      <td>2</td>\n",
       "      <td>0</td>\n",
       "      <td>0</td>\n",
       "      <td>23</td>\n",
       "      <td>1.90</td>\n",
       "      <td>10</td>\n",
       "      <td>43.5</td>\n",
       "      <td>0.83</td>\n",
       "      <td>Juventus</td>\n",
       "      <td>-3.0</td>\n",
       "      <td>5.0</td>\n",
       "      <td>0.22</td>\n",
       "      <td>5.0</td>\n",
       "      <td>MF</td>\n",
       "    </tr>\n",
       "    <tr>\n",
       "      <th>Achraf Hakimi</th>\n",
       "      <td>29.6</td>\n",
       "      <td>21</td>\n",
       "      <td>1998</td>\n",
       "      <td>16.3</td>\n",
       "      <td>2.0</td>\n",
       "      <td>2.4</td>\n",
       "      <td>0.18</td>\n",
       "      <td>0.47</td>\n",
       "      <td>7</td>\n",
       "      <td>0</td>\n",
       "      <td>0</td>\n",
       "      <td>38</td>\n",
       "      <td>1.28</td>\n",
       "      <td>15</td>\n",
       "      <td>39.5</td>\n",
       "      <td>0.51</td>\n",
       "      <td>Inter</td>\n",
       "      <td>2.4</td>\n",
       "      <td>4.6</td>\n",
       "      <td>0.12</td>\n",
       "      <td>4.6</td>\n",
       "      <td>DF</td>\n",
       "    </tr>\n",
       "    <tr>\n",
       "      <th>Adam MaruÅ¡iÄ‡</th>\n",
       "      <td>33.0</td>\n",
       "      <td>27</td>\n",
       "      <td>1992</td>\n",
       "      <td>14.5</td>\n",
       "      <td>0.0</td>\n",
       "      <td>0.0</td>\n",
       "      <td>0.07</td>\n",
       "      <td>0.17</td>\n",
       "      <td>2</td>\n",
       "      <td>0</td>\n",
       "      <td>0</td>\n",
       "      <td>27</td>\n",
       "      <td>0.82</td>\n",
       "      <td>12</td>\n",
       "      <td>44.4</td>\n",
       "      <td>0.36</td>\n",
       "      <td>Lazio</td>\n",
       "      <td>0.0</td>\n",
       "      <td>2.0</td>\n",
       "      <td>0.08</td>\n",
       "      <td>2.0</td>\n",
       "      <td>DF</td>\n",
       "    </tr>\n",
       "    <tr>\n",
       "      <th>Adam Ounas</th>\n",
       "      <td>13.3</td>\n",
       "      <td>23</td>\n",
       "      <td>1996</td>\n",
       "      <td>17.1</td>\n",
       "      <td>0.0</td>\n",
       "      <td>2.0</td>\n",
       "      <td>0.16</td>\n",
       "      <td>0.40</td>\n",
       "      <td>4</td>\n",
       "      <td>0</td>\n",
       "      <td>0</td>\n",
       "      <td>25</td>\n",
       "      <td>1.88</td>\n",
       "      <td>10</td>\n",
       "      <td>40.0</td>\n",
       "      <td>0.75</td>\n",
       "      <td>Crotone</td>\n",
       "      <td>2.0</td>\n",
       "      <td>2.0</td>\n",
       "      <td>0.08</td>\n",
       "      <td>2.0</td>\n",
       "      <td>FW,MF</td>\n",
       "    </tr>\n",
       "    <tr>\n",
       "      <th>Adama Soumaoro</th>\n",
       "      <td>19.5</td>\n",
       "      <td>28</td>\n",
       "      <td>1992</td>\n",
       "      <td>7.4</td>\n",
       "      <td>0.0</td>\n",
       "      <td>-0.2</td>\n",
       "      <td>0.14</td>\n",
       "      <td>0.50</td>\n",
       "      <td>1</td>\n",
       "      <td>0</td>\n",
       "      <td>0</td>\n",
       "      <td>7</td>\n",
       "      <td>0.36</td>\n",
       "      <td>2</td>\n",
       "      <td>28.6</td>\n",
       "      <td>0.10</td>\n",
       "      <td>Bologna</td>\n",
       "      <td>-0.2</td>\n",
       "      <td>1.2</td>\n",
       "      <td>0.17</td>\n",
       "      <td>1.2</td>\n",
       "      <td>DF</td>\n",
       "    </tr>\n",
       "  </tbody>\n",
       "</table>\n",
       "</div>"
      ],
      "text/plain": [
       "                 90s  Age  Born  Dist   FK  G-xG  G/Sh  G/SoT  Gls  PK  PKatt  \\\n",
       "Aaron Ramsey    12.1   29  1990  13.8  0.0  -3.0  0.09   0.20    2   0      0   \n",
       "Achraf Hakimi   29.6   21  1998  16.3  2.0   2.4  0.18   0.47    7   0      0   \n",
       "Adam MaruÅ¡iÄ‡  33.0   27  1992  14.5  0.0   0.0  0.07   0.17    2   0      0   \n",
       "Adam Ounas      13.3   23  1996  17.1  0.0   2.0  0.16   0.40    4   0      0   \n",
       "Adama Soumaoro  19.5   28  1992   7.4  0.0  -0.2  0.14   0.50    1   0      0   \n",
       "\n",
       "                Sh  Sh/90  SoT  SoT%  SoT/90     Squad  np:G-xG  npxG  \\\n",
       "Aaron Ramsey    23   1.90   10  43.5    0.83  Juventus     -3.0   5.0   \n",
       "Achraf Hakimi   38   1.28   15  39.5    0.51     Inter      2.4   4.6   \n",
       "Adam MaruÅ¡iÄ‡  27   0.82   12  44.4    0.36     Lazio      0.0   2.0   \n",
       "Adam Ounas      25   1.88   10  40.0    0.75   Crotone      2.0   2.0   \n",
       "Adama Soumaoro   7   0.36    2  28.6    0.10   Bologna     -0.2   1.2   \n",
       "\n",
       "                npxG/Sh   xG    Pos  \n",
       "Aaron Ramsey       0.22  5.0     MF  \n",
       "Achraf Hakimi      0.12  4.6     DF  \n",
       "Adam MaruÅ¡iÄ‡     0.08  2.0     DF  \n",
       "Adam Ounas         0.08  2.0  FW,MF  \n",
       "Adama Soumaoro     0.17  1.2     DF  "
      ]
     },
     "execution_count": 64,
     "metadata": {},
     "output_type": "execute_result"
    }
   ],
   "source": [
    "shot.head()"
   ]
  },
  {
   "cell_type": "code",
   "execution_count": 65,
   "id": "dutch-shadow",
   "metadata": {
    "scrolled": true,
    "tags": []
   },
   "outputs": [
    {
     "name": "stdout",
     "output_type": "stream",
     "text": [
      "<class 'pandas.core.frame.DataFrame'>\n",
      "Index: 295 entries, Aaron Ramsey to È˜tefan Radu\n",
      "Data columns (total 22 columns):\n",
      "90s        295 non-null float64\n",
      "Age        295 non-null int64\n",
      "Born       295 non-null int64\n",
      "Dist       294 non-null float64\n",
      "FK         294 non-null float64\n",
      "G-xG       294 non-null float64\n",
      "G/Sh       295 non-null float64\n",
      "G/SoT      280 non-null float64\n",
      "Gls        295 non-null int64\n",
      "PK         295 non-null int64\n",
      "PKatt      295 non-null int64\n",
      "Sh         295 non-null int64\n",
      "Sh/90      295 non-null float64\n",
      "SoT        295 non-null int64\n",
      "SoT%       295 non-null float64\n",
      "SoT/90     295 non-null float64\n",
      "Squad      295 non-null object\n",
      "np:G-xG    294 non-null float64\n",
      "npxG       294 non-null float64\n",
      "npxG/Sh    294 non-null float64\n",
      "xG         294 non-null float64\n",
      "Pos        295 non-null object\n",
      "dtypes: float64(13), int64(7), object(2)\n",
      "memory usage: 53.0+ KB\n"
     ]
    }
   ],
   "source": [
    "shot.info()"
   ]
  },
  {
   "cell_type": "markdown",
   "id": "continuous-surrey",
   "metadata": {},
   "source": [
    "Droppiamo le colonne che sicuramente non useremo per fare analisi"
   ]
  },
  {
   "cell_type": "code",
   "execution_count": 66,
   "id": "every-presence",
   "metadata": {},
   "outputs": [],
   "source": [
    "shot.drop(shot.columns.difference(['np:G-xG']), 1, inplace=True)"
   ]
  },
  {
   "cell_type": "markdown",
   "id": "recreational-switch",
   "metadata": {},
   "source": [
    "<h4>Passaggi</h4>"
   ]
  },
  {
   "cell_type": "code",
   "execution_count": 67,
   "id": "finnish-amber",
   "metadata": {
    "scrolled": true,
    "tags": []
   },
   "outputs": [],
   "source": [
    "pass_ = pass_[pass_[\"90s\"] > limitePresenze] \n",
    "pass_ = pass_[pass_[\"Pos\"] != \"GK\"]"
   ]
  },
  {
   "cell_type": "code",
   "execution_count": 68,
   "id": "contrary-pickup",
   "metadata": {
    "tags": []
   },
   "outputs": [
    {
     "data": {
      "text/html": [
       "<div>\n",
       "<style scoped>\n",
       "    .dataframe tbody tr th:only-of-type {\n",
       "        vertical-align: middle;\n",
       "    }\n",
       "\n",
       "    .dataframe tbody tr th {\n",
       "        vertical-align: top;\n",
       "    }\n",
       "\n",
       "    .dataframe thead th {\n",
       "        text-align: right;\n",
       "    }\n",
       "</style>\n",
       "<table border=\"1\" class=\"dataframe\">\n",
       "  <thead>\n",
       "    <tr style=\"text-align: right;\">\n",
       "      <th></th>\n",
       "      <th>1/3</th>\n",
       "      <th>90s</th>\n",
       "      <th>A-xA</th>\n",
       "      <th>Age</th>\n",
       "      <th>Ast</th>\n",
       "      <th>Att</th>\n",
       "      <th>Att.1</th>\n",
       "      <th>Att.2</th>\n",
       "      <th>Att.3</th>\n",
       "      <th>Born</th>\n",
       "      <th>Cmp</th>\n",
       "      <th>Cmp%</th>\n",
       "      <th>Cmp%.1</th>\n",
       "      <th>Cmp%.2</th>\n",
       "      <th>Cmp%.3</th>\n",
       "      <th>Cmp.1</th>\n",
       "      <th>Cmp.2</th>\n",
       "      <th>Cmp.3</th>\n",
       "      <th>CrsPA</th>\n",
       "      <th>KP</th>\n",
       "      <th>PPA</th>\n",
       "      <th>Pos</th>\n",
       "      <th>PrgDist</th>\n",
       "      <th>Prog</th>\n",
       "      <th>Squad</th>\n",
       "      <th>TotDist</th>\n",
       "      <th>xA</th>\n",
       "    </tr>\n",
       "    <tr>\n",
       "      <th>Player</th>\n",
       "      <th></th>\n",
       "      <th></th>\n",
       "      <th></th>\n",
       "      <th></th>\n",
       "      <th></th>\n",
       "      <th></th>\n",
       "      <th></th>\n",
       "      <th></th>\n",
       "      <th></th>\n",
       "      <th></th>\n",
       "      <th></th>\n",
       "      <th></th>\n",
       "      <th></th>\n",
       "      <th></th>\n",
       "      <th></th>\n",
       "      <th></th>\n",
       "      <th></th>\n",
       "      <th></th>\n",
       "      <th></th>\n",
       "      <th></th>\n",
       "      <th></th>\n",
       "      <th></th>\n",
       "      <th></th>\n",
       "      <th></th>\n",
       "      <th></th>\n",
       "      <th></th>\n",
       "      <th></th>\n",
       "    </tr>\n",
       "  </thead>\n",
       "  <tbody>\n",
       "    <tr>\n",
       "      <th>Marvin Zeegelaar</th>\n",
       "      <td>37.0</td>\n",
       "      <td>19.3</td>\n",
       "      <td>-1.1</td>\n",
       "      <td>29</td>\n",
       "      <td>0</td>\n",
       "      <td>777.0</td>\n",
       "      <td>325.0</td>\n",
       "      <td>324.0</td>\n",
       "      <td>101.0</td>\n",
       "      <td>1990</td>\n",
       "      <td>604.0</td>\n",
       "      <td>77.7</td>\n",
       "      <td>83.7</td>\n",
       "      <td>83.0</td>\n",
       "      <td>53.5</td>\n",
       "      <td>272.0</td>\n",
       "      <td>269.0</td>\n",
       "      <td>54.0</td>\n",
       "      <td>9.0</td>\n",
       "      <td>10.0</td>\n",
       "      <td>12.0</td>\n",
       "      <td>DF</td>\n",
       "      <td>3676.0</td>\n",
       "      <td>65.0</td>\n",
       "      <td>Udinese</td>\n",
       "      <td>10454.0</td>\n",
       "      <td>1.1</td>\n",
       "    </tr>\n",
       "    <tr>\n",
       "      <th>Davide Zappacosta</th>\n",
       "      <td>23.0</td>\n",
       "      <td>22.7</td>\n",
       "      <td>0.7</td>\n",
       "      <td>28</td>\n",
       "      <td>2</td>\n",
       "      <td>1093.0</td>\n",
       "      <td>507.0</td>\n",
       "      <td>415.0</td>\n",
       "      <td>119.0</td>\n",
       "      <td>1992</td>\n",
       "      <td>876.0</td>\n",
       "      <td>80.1</td>\n",
       "      <td>90.5</td>\n",
       "      <td>82.2</td>\n",
       "      <td>52.9</td>\n",
       "      <td>459.0</td>\n",
       "      <td>341.0</td>\n",
       "      <td>63.0</td>\n",
       "      <td>10.0</td>\n",
       "      <td>12.0</td>\n",
       "      <td>20.0</td>\n",
       "      <td>DF</td>\n",
       "      <td>4499.0</td>\n",
       "      <td>52.0</td>\n",
       "      <td>Genoa</td>\n",
       "      <td>14391.0</td>\n",
       "      <td>1.3</td>\n",
       "    </tr>\n",
       "    <tr>\n",
       "      <th>Gabriele Zappa</th>\n",
       "      <td>56.0</td>\n",
       "      <td>26.6</td>\n",
       "      <td>1.4</td>\n",
       "      <td>20</td>\n",
       "      <td>4</td>\n",
       "      <td>1313.0</td>\n",
       "      <td>584.0</td>\n",
       "      <td>516.0</td>\n",
       "      <td>165.0</td>\n",
       "      <td>1999</td>\n",
       "      <td>1029.0</td>\n",
       "      <td>78.4</td>\n",
       "      <td>89.0</td>\n",
       "      <td>79.8</td>\n",
       "      <td>49.7</td>\n",
       "      <td>520.0</td>\n",
       "      <td>412.0</td>\n",
       "      <td>82.0</td>\n",
       "      <td>19.0</td>\n",
       "      <td>31.0</td>\n",
       "      <td>43.0</td>\n",
       "      <td>DF</td>\n",
       "      <td>7245.0</td>\n",
       "      <td>121.0</td>\n",
       "      <td>Cagliari</td>\n",
       "      <td>16978.0</td>\n",
       "      <td>2.6</td>\n",
       "    </tr>\n",
       "    <tr>\n",
       "      <th>Ashley Young</th>\n",
       "      <td>25.0</td>\n",
       "      <td>15.8</td>\n",
       "      <td>1.3</td>\n",
       "      <td>35</td>\n",
       "      <td>4</td>\n",
       "      <td>676.0</td>\n",
       "      <td>279.0</td>\n",
       "      <td>289.0</td>\n",
       "      <td>78.0</td>\n",
       "      <td>1985</td>\n",
       "      <td>551.0</td>\n",
       "      <td>81.5</td>\n",
       "      <td>95.0</td>\n",
       "      <td>81.0</td>\n",
       "      <td>60.3</td>\n",
       "      <td>265.0</td>\n",
       "      <td>234.0</td>\n",
       "      <td>47.0</td>\n",
       "      <td>10.0</td>\n",
       "      <td>29.0</td>\n",
       "      <td>27.0</td>\n",
       "      <td>DF</td>\n",
       "      <td>3131.0</td>\n",
       "      <td>49.0</td>\n",
       "      <td>Inter</td>\n",
       "      <td>9420.0</td>\n",
       "      <td>2.7</td>\n",
       "    </tr>\n",
       "    <tr>\n",
       "      <th>Maya Yoshida</th>\n",
       "      <td>52.0</td>\n",
       "      <td>25.3</td>\n",
       "      <td>1.3</td>\n",
       "      <td>31</td>\n",
       "      <td>2</td>\n",
       "      <td>1187.0</td>\n",
       "      <td>255.0</td>\n",
       "      <td>593.0</td>\n",
       "      <td>318.0</td>\n",
       "      <td>1988</td>\n",
       "      <td>1012.0</td>\n",
       "      <td>85.3</td>\n",
       "      <td>88.6</td>\n",
       "      <td>94.4</td>\n",
       "      <td>67.9</td>\n",
       "      <td>226.0</td>\n",
       "      <td>560.0</td>\n",
       "      <td>216.0</td>\n",
       "      <td>0.0</td>\n",
       "      <td>5.0</td>\n",
       "      <td>1.0</td>\n",
       "      <td>DF</td>\n",
       "      <td>6386.0</td>\n",
       "      <td>52.0</td>\n",
       "      <td>Sampdoria</td>\n",
       "      <td>23530.0</td>\n",
       "      <td>0.7</td>\n",
       "    </tr>\n",
       "  </tbody>\n",
       "</table>\n",
       "</div>"
      ],
      "text/plain": [
       "                    1/3   90s  A-xA  Age  Ast     Att  Att.1  Att.2  Att.3  \\\n",
       "Player                                                                       \n",
       "Marvin Zeegelaar   37.0  19.3  -1.1   29    0   777.0  325.0  324.0  101.0   \n",
       "Davide Zappacosta  23.0  22.7   0.7   28    2  1093.0  507.0  415.0  119.0   \n",
       "Gabriele Zappa     56.0  26.6   1.4   20    4  1313.0  584.0  516.0  165.0   \n",
       "Ashley Young       25.0  15.8   1.3   35    4   676.0  279.0  289.0   78.0   \n",
       "Maya Yoshida       52.0  25.3   1.3   31    2  1187.0  255.0  593.0  318.0   \n",
       "\n",
       "                   Born     Cmp  Cmp%  Cmp%.1  Cmp%.2  Cmp%.3  Cmp.1  Cmp.2  \\\n",
       "Player                                                                        \n",
       "Marvin Zeegelaar   1990   604.0  77.7    83.7    83.0    53.5  272.0  269.0   \n",
       "Davide Zappacosta  1992   876.0  80.1    90.5    82.2    52.9  459.0  341.0   \n",
       "Gabriele Zappa     1999  1029.0  78.4    89.0    79.8    49.7  520.0  412.0   \n",
       "Ashley Young       1985   551.0  81.5    95.0    81.0    60.3  265.0  234.0   \n",
       "Maya Yoshida       1988  1012.0  85.3    88.6    94.4    67.9  226.0  560.0   \n",
       "\n",
       "                   Cmp.3  CrsPA    KP   PPA Pos  PrgDist   Prog      Squad  \\\n",
       "Player                                                                       \n",
       "Marvin Zeegelaar    54.0    9.0  10.0  12.0  DF   3676.0   65.0    Udinese   \n",
       "Davide Zappacosta   63.0   10.0  12.0  20.0  DF   4499.0   52.0      Genoa   \n",
       "Gabriele Zappa      82.0   19.0  31.0  43.0  DF   7245.0  121.0   Cagliari   \n",
       "Ashley Young        47.0   10.0  29.0  27.0  DF   3131.0   49.0      Inter   \n",
       "Maya Yoshida       216.0    0.0   5.0   1.0  DF   6386.0   52.0  Sampdoria   \n",
       "\n",
       "                   TotDist   xA  \n",
       "Player                           \n",
       "Marvin Zeegelaar   10454.0  1.1  \n",
       "Davide Zappacosta  14391.0  1.3  \n",
       "Gabriele Zappa     16978.0  2.6  \n",
       "Ashley Young        9420.0  2.7  \n",
       "Maya Yoshida       23530.0  0.7  "
      ]
     },
     "execution_count": 68,
     "metadata": {},
     "output_type": "execute_result"
    }
   ],
   "source": [
    "pass_.head()"
   ]
  },
  {
   "cell_type": "code",
   "execution_count": 69,
   "id": "orange-river",
   "metadata": {
    "tags": []
   },
   "outputs": [
    {
     "name": "stdout",
     "output_type": "stream",
     "text": [
      "<class 'pandas.core.frame.DataFrame'>\n",
      "Index: 295 entries, Marvin Zeegelaar to Piotr ZieliÅ„ski\n",
      "Data columns (total 27 columns):\n",
      "1/3        294 non-null float64\n",
      "90s        295 non-null float64\n",
      "A-xA       294 non-null float64\n",
      "Age        295 non-null int64\n",
      "Ast        295 non-null int64\n",
      "Att        294 non-null float64\n",
      "Att.1      294 non-null float64\n",
      "Att.2      294 non-null float64\n",
      "Att.3      294 non-null float64\n",
      "Born       295 non-null int64\n",
      "Cmp        294 non-null float64\n",
      "Cmp%       294 non-null float64\n",
      "Cmp%.1     294 non-null float64\n",
      "Cmp%.2     294 non-null float64\n",
      "Cmp%.3     294 non-null float64\n",
      "Cmp.1      294 non-null float64\n",
      "Cmp.2      294 non-null float64\n",
      "Cmp.3      294 non-null float64\n",
      "CrsPA      294 non-null float64\n",
      "KP         294 non-null float64\n",
      "PPA        294 non-null float64\n",
      "Pos        295 non-null object\n",
      "PrgDist    294 non-null float64\n",
      "Prog       294 non-null float64\n",
      "Squad      295 non-null object\n",
      "TotDist    294 non-null float64\n",
      "xA         294 non-null float64\n",
      "dtypes: float64(22), int64(3), object(2)\n",
      "memory usage: 64.5+ KB\n"
     ]
    }
   ],
   "source": [
    "pass_.info()"
   ]
  },
  {
   "cell_type": "code",
   "execution_count": 70,
   "id": "knowing-corruption",
   "metadata": {},
   "outputs": [],
   "source": [
    "pass_.drop(pass_.columns.difference(['KP','Prog', 'Cmp%', \"CrsPA\"]), 1, inplace=True)\n",
    "pass_.rename(columns = {\"Cmp%\": \"Cmp_PS%\", \"Prog\": \"ProgressivePasses\"}, inplace= True)"
   ]
  },
  {
   "cell_type": "markdown",
   "id": "established-clerk",
   "metadata": {},
   "source": [
    "<h4>Possession</h4>"
   ]
  },
  {
   "cell_type": "code",
   "execution_count": 71,
   "id": "structured-receptor",
   "metadata": {
    "scrolled": true,
    "tags": []
   },
   "outputs": [],
   "source": [
    "poss = pd.concat([poss, ruolo], axis=1, sort=True )\n",
    "poss = poss[poss[\"90s\"] > limitePresenze] \n",
    "poss = poss[poss[\"Pos\"] != \"GK\"]"
   ]
  },
  {
   "cell_type": "code",
   "execution_count": 72,
   "id": "detected-rochester",
   "metadata": {
    "tags": []
   },
   "outputs": [
    {
     "data": {
      "text/html": [
       "<div>\n",
       "<style scoped>\n",
       "    .dataframe tbody tr th:only-of-type {\n",
       "        vertical-align: middle;\n",
       "    }\n",
       "\n",
       "    .dataframe tbody tr th {\n",
       "        vertical-align: top;\n",
       "    }\n",
       "\n",
       "    .dataframe thead th {\n",
       "        text-align: right;\n",
       "    }\n",
       "</style>\n",
       "<table border=\"1\" class=\"dataframe\">\n",
       "  <thead>\n",
       "    <tr style=\"text-align: right;\">\n",
       "      <th></th>\n",
       "      <th>#Pl</th>\n",
       "      <th>1/3</th>\n",
       "      <th>90s</th>\n",
       "      <th>Age</th>\n",
       "      <th>Att</th>\n",
       "      <th>Att 3rd</th>\n",
       "      <th>Att Pen</th>\n",
       "      <th>Born</th>\n",
       "      <th>CPA</th>\n",
       "      <th>Carries</th>\n",
       "      <th>Def 3rd</th>\n",
       "      <th>Def Pen</th>\n",
       "      <th>Dis</th>\n",
       "      <th>Live</th>\n",
       "      <th>Megs</th>\n",
       "      <th>Mid 3rd</th>\n",
       "      <th>Mis</th>\n",
       "      <th>PrgDist</th>\n",
       "      <th>Prog</th>\n",
       "      <th>Prog.1</th>\n",
       "      <th>Rec</th>\n",
       "      <th>Rec%</th>\n",
       "      <th>Squad</th>\n",
       "      <th>Succ</th>\n",
       "      <th>Succ%</th>\n",
       "      <th>Targ</th>\n",
       "      <th>TotDist</th>\n",
       "      <th>Touches</th>\n",
       "      <th>Pos</th>\n",
       "    </tr>\n",
       "  </thead>\n",
       "  <tbody>\n",
       "    <tr>\n",
       "      <th>Aaron Ramsey</th>\n",
       "      <td>12.0</td>\n",
       "      <td>22.0</td>\n",
       "      <td>12.1</td>\n",
       "      <td>29</td>\n",
       "      <td>19.0</td>\n",
       "      <td>352.0</td>\n",
       "      <td>71.0</td>\n",
       "      <td>1990</td>\n",
       "      <td>9.0</td>\n",
       "      <td>619.0</td>\n",
       "      <td>122.0</td>\n",
       "      <td>17.0</td>\n",
       "      <td>10.0</td>\n",
       "      <td>840.0</td>\n",
       "      <td>1.0</td>\n",
       "      <td>446.0</td>\n",
       "      <td>24.0</td>\n",
       "      <td>1471.0</td>\n",
       "      <td>79.0</td>\n",
       "      <td>113.0</td>\n",
       "      <td>702.0</td>\n",
       "      <td>85.5</td>\n",
       "      <td>Juventus</td>\n",
       "      <td>12.0</td>\n",
       "      <td>63.2</td>\n",
       "      <td>821.0</td>\n",
       "      <td>3261.0</td>\n",
       "      <td>862.0</td>\n",
       "      <td>MF</td>\n",
       "    </tr>\n",
       "    <tr>\n",
       "      <th>Achraf Hakimi</th>\n",
       "      <td>40.0</td>\n",
       "      <td>51.0</td>\n",
       "      <td>29.6</td>\n",
       "      <td>21</td>\n",
       "      <td>67.0</td>\n",
       "      <td>867.0</td>\n",
       "      <td>137.0</td>\n",
       "      <td>1998</td>\n",
       "      <td>36.0</td>\n",
       "      <td>1255.0</td>\n",
       "      <td>389.0</td>\n",
       "      <td>50.0</td>\n",
       "      <td>33.0</td>\n",
       "      <td>1645.0</td>\n",
       "      <td>8.0</td>\n",
       "      <td>716.0</td>\n",
       "      <td>44.0</td>\n",
       "      <td>4411.0</td>\n",
       "      <td>221.0</td>\n",
       "      <td>163.0</td>\n",
       "      <td>1296.0</td>\n",
       "      <td>86.5</td>\n",
       "      <td>Inter</td>\n",
       "      <td>36.0</td>\n",
       "      <td>53.7</td>\n",
       "      <td>1499.0</td>\n",
       "      <td>6621.0</td>\n",
       "      <td>1863.0</td>\n",
       "      <td>DF</td>\n",
       "    </tr>\n",
       "    <tr>\n",
       "      <th>Adam MaruÅ¡iÄ‡</th>\n",
       "      <td>28.0</td>\n",
       "      <td>49.0</td>\n",
       "      <td>33.0</td>\n",
       "      <td>27</td>\n",
       "      <td>54.0</td>\n",
       "      <td>550.0</td>\n",
       "      <td>66.0</td>\n",
       "      <td>1992</td>\n",
       "      <td>10.0</td>\n",
       "      <td>1216.0</td>\n",
       "      <td>605.0</td>\n",
       "      <td>111.0</td>\n",
       "      <td>23.0</td>\n",
       "      <td>1721.0</td>\n",
       "      <td>1.0</td>\n",
       "      <td>911.0</td>\n",
       "      <td>18.0</td>\n",
       "      <td>3968.0</td>\n",
       "      <td>160.0</td>\n",
       "      <td>107.0</td>\n",
       "      <td>1241.0</td>\n",
       "      <td>88.0</td>\n",
       "      <td>Lazio</td>\n",
       "      <td>27.0</td>\n",
       "      <td>50.0</td>\n",
       "      <td>1411.0</td>\n",
       "      <td>7369.0</td>\n",
       "      <td>1912.0</td>\n",
       "      <td>DF</td>\n",
       "    </tr>\n",
       "    <tr>\n",
       "      <th>Adam Ounas</th>\n",
       "      <td>48.0</td>\n",
       "      <td>42.0</td>\n",
       "      <td>13.3</td>\n",
       "      <td>23</td>\n",
       "      <td>68.0</td>\n",
       "      <td>288.0</td>\n",
       "      <td>48.0</td>\n",
       "      <td>1996</td>\n",
       "      <td>15.0</td>\n",
       "      <td>553.0</td>\n",
       "      <td>84.0</td>\n",
       "      <td>5.0</td>\n",
       "      <td>40.0</td>\n",
       "      <td>628.0</td>\n",
       "      <td>3.0</td>\n",
       "      <td>383.0</td>\n",
       "      <td>23.0</td>\n",
       "      <td>2133.0</td>\n",
       "      <td>79.0</td>\n",
       "      <td>71.0</td>\n",
       "      <td>497.0</td>\n",
       "      <td>77.9</td>\n",
       "      <td>Crotone</td>\n",
       "      <td>46.0</td>\n",
       "      <td>67.6</td>\n",
       "      <td>638.0</td>\n",
       "      <td>3371.0</td>\n",
       "      <td>660.0</td>\n",
       "      <td>FW,MF</td>\n",
       "    </tr>\n",
       "    <tr>\n",
       "      <th>Adama Soumaoro</th>\n",
       "      <td>3.0</td>\n",
       "      <td>4.0</td>\n",
       "      <td>19.5</td>\n",
       "      <td>28</td>\n",
       "      <td>3.0</td>\n",
       "      <td>32.0</td>\n",
       "      <td>10.0</td>\n",
       "      <td>1992</td>\n",
       "      <td>0.0</td>\n",
       "      <td>602.0</td>\n",
       "      <td>583.0</td>\n",
       "      <td>166.0</td>\n",
       "      <td>2.0</td>\n",
       "      <td>1045.0</td>\n",
       "      <td>0.0</td>\n",
       "      <td>553.0</td>\n",
       "      <td>4.0</td>\n",
       "      <td>1580.0</td>\n",
       "      <td>31.0</td>\n",
       "      <td>2.0</td>\n",
       "      <td>627.0</td>\n",
       "      <td>97.4</td>\n",
       "      <td>Bologna</td>\n",
       "      <td>3.0</td>\n",
       "      <td>100.0</td>\n",
       "      <td>644.0</td>\n",
       "      <td>3253.0</td>\n",
       "      <td>1110.0</td>\n",
       "      <td>DF</td>\n",
       "    </tr>\n",
       "  </tbody>\n",
       "</table>\n",
       "</div>"
      ],
      "text/plain": [
       "                 #Pl   1/3   90s  Age   Att  Att 3rd  Att Pen  Born   CPA  \\\n",
       "Aaron Ramsey    12.0  22.0  12.1   29  19.0    352.0     71.0  1990   9.0   \n",
       "Achraf Hakimi   40.0  51.0  29.6   21  67.0    867.0    137.0  1998  36.0   \n",
       "Adam MaruÅ¡iÄ‡  28.0  49.0  33.0   27  54.0    550.0     66.0  1992  10.0   \n",
       "Adam Ounas      48.0  42.0  13.3   23  68.0    288.0     48.0  1996  15.0   \n",
       "Adama Soumaoro   3.0   4.0  19.5   28   3.0     32.0     10.0  1992   0.0   \n",
       "\n",
       "                Carries  Def 3rd  Def Pen   Dis    Live  Megs  Mid 3rd   Mis  \\\n",
       "Aaron Ramsey      619.0    122.0     17.0  10.0   840.0   1.0    446.0  24.0   \n",
       "Achraf Hakimi    1255.0    389.0     50.0  33.0  1645.0   8.0    716.0  44.0   \n",
       "Adam MaruÅ¡iÄ‡   1216.0    605.0    111.0  23.0  1721.0   1.0    911.0  18.0   \n",
       "Adam Ounas        553.0     84.0      5.0  40.0   628.0   3.0    383.0  23.0   \n",
       "Adama Soumaoro    602.0    583.0    166.0   2.0  1045.0   0.0    553.0   4.0   \n",
       "\n",
       "                PrgDist   Prog  Prog.1     Rec  Rec%     Squad  Succ  Succ%  \\\n",
       "Aaron Ramsey     1471.0   79.0   113.0   702.0  85.5  Juventus  12.0   63.2   \n",
       "Achraf Hakimi    4411.0  221.0   163.0  1296.0  86.5     Inter  36.0   53.7   \n",
       "Adam MaruÅ¡iÄ‡   3968.0  160.0   107.0  1241.0  88.0     Lazio  27.0   50.0   \n",
       "Adam Ounas       2133.0   79.0    71.0   497.0  77.9   Crotone  46.0   67.6   \n",
       "Adama Soumaoro   1580.0   31.0     2.0   627.0  97.4   Bologna   3.0  100.0   \n",
       "\n",
       "                  Targ  TotDist  Touches    Pos  \n",
       "Aaron Ramsey     821.0   3261.0    862.0     MF  \n",
       "Achraf Hakimi   1499.0   6621.0   1863.0     DF  \n",
       "Adam MaruÅ¡iÄ‡  1411.0   7369.0   1912.0     DF  \n",
       "Adam Ounas       638.0   3371.0    660.0  FW,MF  \n",
       "Adama Soumaoro   644.0   3253.0   1110.0     DF  "
      ]
     },
     "execution_count": 72,
     "metadata": {},
     "output_type": "execute_result"
    }
   ],
   "source": [
    "poss.head()"
   ]
  },
  {
   "cell_type": "code",
   "execution_count": 73,
   "id": "first-growing",
   "metadata": {
    "tags": []
   },
   "outputs": [
    {
     "name": "stdout",
     "output_type": "stream",
     "text": [
      "<class 'pandas.core.frame.DataFrame'>\n",
      "Index: 295 entries, Aaron Ramsey to È˜tefan Radu\n",
      "Data columns (total 29 columns):\n",
      "#Pl        294 non-null float64\n",
      "1/3        294 non-null float64\n",
      "90s        295 non-null float64\n",
      "Age        295 non-null int64\n",
      "Att        294 non-null float64\n",
      "Att 3rd    294 non-null float64\n",
      "Att Pen    294 non-null float64\n",
      "Born       295 non-null int64\n",
      "CPA        294 non-null float64\n",
      "Carries    294 non-null float64\n",
      "Def 3rd    294 non-null float64\n",
      "Def Pen    294 non-null float64\n",
      "Dis        294 non-null float64\n",
      "Live       294 non-null float64\n",
      "Megs       294 non-null float64\n",
      "Mid 3rd    294 non-null float64\n",
      "Mis        294 non-null float64\n",
      "PrgDist    294 non-null float64\n",
      "Prog       294 non-null float64\n",
      "Prog.1     294 non-null float64\n",
      "Rec        294 non-null float64\n",
      "Rec%       294 non-null float64\n",
      "Squad      295 non-null object\n",
      "Succ       294 non-null float64\n",
      "Succ%      290 non-null float64\n",
      "Targ       294 non-null float64\n",
      "TotDist    294 non-null float64\n",
      "Touches    294 non-null float64\n",
      "Pos        295 non-null object\n",
      "dtypes: float64(25), int64(2), object(2)\n",
      "memory usage: 69.1+ KB\n"
     ]
    }
   ],
   "source": [
    "poss.info()"
   ]
  },
  {
   "cell_type": "code",
   "execution_count": 74,
   "id": "respective-plasma",
   "metadata": {},
   "outputs": [],
   "source": [
    "poss.drop(poss.columns.difference(['Succ', \"Prog\"]), 1, inplace=True)\n",
    "poss[\"Succ\"].fillna(0,inplace=True)"
   ]
  },
  {
   "cell_type": "markdown",
   "id": "virtual-weight",
   "metadata": {},
   "source": [
    "<h4>Miscellaneus</h4>"
   ]
  },
  {
   "cell_type": "code",
   "execution_count": 75,
   "id": "valuable-darwin",
   "metadata": {
    "scrolled": true,
    "tags": []
   },
   "outputs": [],
   "source": [
    "misc_ = misc_[misc_[\"90s\"] > limitePresenze] \n",
    "misc_ = misc_[misc_[\"Pos\"] != \"GK\"]"
   ]
  },
  {
   "cell_type": "code",
   "execution_count": 76,
   "id": "motivated-failure",
   "metadata": {
    "tags": []
   },
   "outputs": [
    {
     "data": {
      "text/html": [
       "<div>\n",
       "<style scoped>\n",
       "    .dataframe tbody tr th:only-of-type {\n",
       "        vertical-align: middle;\n",
       "    }\n",
       "\n",
       "    .dataframe tbody tr th {\n",
       "        vertical-align: top;\n",
       "    }\n",
       "\n",
       "    .dataframe thead th {\n",
       "        text-align: right;\n",
       "    }\n",
       "</style>\n",
       "<table border=\"1\" class=\"dataframe\">\n",
       "  <thead>\n",
       "    <tr style=\"text-align: right;\">\n",
       "      <th></th>\n",
       "      <th>2CrdY</th>\n",
       "      <th>90s</th>\n",
       "      <th>Age</th>\n",
       "      <th>Born</th>\n",
       "      <th>CrdR</th>\n",
       "      <th>CrdY</th>\n",
       "      <th>Crs</th>\n",
       "      <th>Fld</th>\n",
       "      <th>Fls</th>\n",
       "      <th>Int</th>\n",
       "      <th>Lost</th>\n",
       "      <th>Matches</th>\n",
       "      <th>Nation</th>\n",
       "      <th>OG</th>\n",
       "      <th>Off</th>\n",
       "      <th>PKcon</th>\n",
       "      <th>PKwon</th>\n",
       "      <th>Pos</th>\n",
       "      <th>Recov</th>\n",
       "      <th>Squad</th>\n",
       "      <th>TklW</th>\n",
       "      <th>Won</th>\n",
       "      <th>Won%</th>\n",
       "    </tr>\n",
       "    <tr>\n",
       "      <th>Player</th>\n",
       "      <th></th>\n",
       "      <th></th>\n",
       "      <th></th>\n",
       "      <th></th>\n",
       "      <th></th>\n",
       "      <th></th>\n",
       "      <th></th>\n",
       "      <th></th>\n",
       "      <th></th>\n",
       "      <th></th>\n",
       "      <th></th>\n",
       "      <th></th>\n",
       "      <th></th>\n",
       "      <th></th>\n",
       "      <th></th>\n",
       "      <th></th>\n",
       "      <th></th>\n",
       "      <th></th>\n",
       "      <th></th>\n",
       "      <th></th>\n",
       "      <th></th>\n",
       "      <th></th>\n",
       "      <th></th>\n",
       "    </tr>\n",
       "  </thead>\n",
       "  <tbody>\n",
       "    <tr>\n",
       "      <th>Marvin Zeegelaar</th>\n",
       "      <td>0</td>\n",
       "      <td>19.3</td>\n",
       "      <td>29</td>\n",
       "      <td>1990</td>\n",
       "      <td>0</td>\n",
       "      <td>6</td>\n",
       "      <td>34</td>\n",
       "      <td>7</td>\n",
       "      <td>39</td>\n",
       "      <td>14</td>\n",
       "      <td>26.0</td>\n",
       "      <td>Matches</td>\n",
       "      <td>nl NED</td>\n",
       "      <td>0</td>\n",
       "      <td>4</td>\n",
       "      <td>1.0</td>\n",
       "      <td>0.0</td>\n",
       "      <td>DF</td>\n",
       "      <td>134.0</td>\n",
       "      <td>Udinese</td>\n",
       "      <td>26</td>\n",
       "      <td>32.0</td>\n",
       "      <td>55.2</td>\n",
       "    </tr>\n",
       "    <tr>\n",
       "      <th>Davide Zappacosta</th>\n",
       "      <td>0</td>\n",
       "      <td>22.7</td>\n",
       "      <td>28</td>\n",
       "      <td>1992</td>\n",
       "      <td>0</td>\n",
       "      <td>3</td>\n",
       "      <td>67</td>\n",
       "      <td>19</td>\n",
       "      <td>23</td>\n",
       "      <td>16</td>\n",
       "      <td>17.0</td>\n",
       "      <td>Matches</td>\n",
       "      <td>it ITA</td>\n",
       "      <td>0</td>\n",
       "      <td>8</td>\n",
       "      <td>0.0</td>\n",
       "      <td>0.0</td>\n",
       "      <td>DF</td>\n",
       "      <td>153.0</td>\n",
       "      <td>Genoa</td>\n",
       "      <td>19</td>\n",
       "      <td>12.0</td>\n",
       "      <td>41.4</td>\n",
       "    </tr>\n",
       "    <tr>\n",
       "      <th>Gabriele Zappa</th>\n",
       "      <td>0</td>\n",
       "      <td>26.6</td>\n",
       "      <td>20</td>\n",
       "      <td>1999</td>\n",
       "      <td>0</td>\n",
       "      <td>3</td>\n",
       "      <td>69</td>\n",
       "      <td>11</td>\n",
       "      <td>25</td>\n",
       "      <td>26</td>\n",
       "      <td>35.0</td>\n",
       "      <td>Matches</td>\n",
       "      <td>it ITA</td>\n",
       "      <td>0</td>\n",
       "      <td>1</td>\n",
       "      <td>0.0</td>\n",
       "      <td>0.0</td>\n",
       "      <td>DF</td>\n",
       "      <td>199.0</td>\n",
       "      <td>Cagliari</td>\n",
       "      <td>23</td>\n",
       "      <td>12.0</td>\n",
       "      <td>25.5</td>\n",
       "    </tr>\n",
       "    <tr>\n",
       "      <th>Ashley Young</th>\n",
       "      <td>0</td>\n",
       "      <td>15.8</td>\n",
       "      <td>35</td>\n",
       "      <td>1985</td>\n",
       "      <td>0</td>\n",
       "      <td>4</td>\n",
       "      <td>36</td>\n",
       "      <td>15</td>\n",
       "      <td>13</td>\n",
       "      <td>9</td>\n",
       "      <td>8.0</td>\n",
       "      <td>Matches</td>\n",
       "      <td>eng ENG</td>\n",
       "      <td>0</td>\n",
       "      <td>3</td>\n",
       "      <td>1.0</td>\n",
       "      <td>0.0</td>\n",
       "      <td>DF</td>\n",
       "      <td>83.0</td>\n",
       "      <td>Inter</td>\n",
       "      <td>9</td>\n",
       "      <td>5.0</td>\n",
       "      <td>38.5</td>\n",
       "    </tr>\n",
       "    <tr>\n",
       "      <th>Maya Yoshida</th>\n",
       "      <td>0</td>\n",
       "      <td>25.3</td>\n",
       "      <td>31</td>\n",
       "      <td>1988</td>\n",
       "      <td>0</td>\n",
       "      <td>5</td>\n",
       "      <td>0</td>\n",
       "      <td>21</td>\n",
       "      <td>16</td>\n",
       "      <td>42</td>\n",
       "      <td>27.0</td>\n",
       "      <td>Matches</td>\n",
       "      <td>jp JPN</td>\n",
       "      <td>0</td>\n",
       "      <td>0</td>\n",
       "      <td>0.0</td>\n",
       "      <td>0.0</td>\n",
       "      <td>DF</td>\n",
       "      <td>259.0</td>\n",
       "      <td>Sampdoria</td>\n",
       "      <td>15</td>\n",
       "      <td>60.0</td>\n",
       "      <td>69.0</td>\n",
       "    </tr>\n",
       "  </tbody>\n",
       "</table>\n",
       "</div>"
      ],
      "text/plain": [
       "                   2CrdY   90s  Age  Born  CrdR  CrdY  Crs  Fld  Fls  Int  \\\n",
       "Player                                                                      \n",
       "Marvin Zeegelaar       0  19.3   29  1990     0     6   34    7   39   14   \n",
       "Davide Zappacosta      0  22.7   28  1992     0     3   67   19   23   16   \n",
       "Gabriele Zappa         0  26.6   20  1999     0     3   69   11   25   26   \n",
       "Ashley Young           0  15.8   35  1985     0     4   36   15   13    9   \n",
       "Maya Yoshida           0  25.3   31  1988     0     5    0   21   16   42   \n",
       "\n",
       "                   Lost  Matches   Nation  OG  Off  PKcon  PKwon Pos  Recov  \\\n",
       "Player                                                                        \n",
       "Marvin Zeegelaar   26.0  Matches   nl NED   0    4    1.0    0.0  DF  134.0   \n",
       "Davide Zappacosta  17.0  Matches   it ITA   0    8    0.0    0.0  DF  153.0   \n",
       "Gabriele Zappa     35.0  Matches   it ITA   0    1    0.0    0.0  DF  199.0   \n",
       "Ashley Young        8.0  Matches  eng ENG   0    3    1.0    0.0  DF   83.0   \n",
       "Maya Yoshida       27.0  Matches   jp JPN   0    0    0.0    0.0  DF  259.0   \n",
       "\n",
       "                       Squad  TklW   Won  Won%  \n",
       "Player                                          \n",
       "Marvin Zeegelaar     Udinese    26  32.0  55.2  \n",
       "Davide Zappacosta      Genoa    19  12.0  41.4  \n",
       "Gabriele Zappa      Cagliari    23  12.0  25.5  \n",
       "Ashley Young           Inter     9   5.0  38.5  \n",
       "Maya Yoshida       Sampdoria    15  60.0  69.0  "
      ]
     },
     "execution_count": 76,
     "metadata": {},
     "output_type": "execute_result"
    }
   ],
   "source": [
    "misc_.head()"
   ]
  },
  {
   "cell_type": "code",
   "execution_count": 77,
   "id": "ranging-passenger",
   "metadata": {
    "tags": []
   },
   "outputs": [
    {
     "name": "stdout",
     "output_type": "stream",
     "text": [
      "<class 'pandas.core.frame.DataFrame'>\n",
      "Index: 296 entries, Marvin Zeegelaar to Sergej MilinkoviÄ‡-SaviÄ‡\n",
      "Data columns (total 23 columns):\n",
      "2CrdY      296 non-null int64\n",
      "90s        296 non-null float64\n",
      "Age        296 non-null int64\n",
      "Born       296 non-null int64\n",
      "CrdR       296 non-null int64\n",
      "CrdY       296 non-null int64\n",
      "Crs        296 non-null int64\n",
      "Fld        296 non-null int64\n",
      "Fls        296 non-null int64\n",
      "Int        296 non-null int64\n",
      "Lost       295 non-null float64\n",
      "Matches    296 non-null object\n",
      "Nation     296 non-null object\n",
      "OG         296 non-null int64\n",
      "Off        296 non-null int64\n",
      "PKcon      295 non-null float64\n",
      "PKwon      295 non-null float64\n",
      "Pos        296 non-null object\n",
      "Recov      295 non-null float64\n",
      "Squad      296 non-null object\n",
      "TklW       296 non-null int64\n",
      "Won        295 non-null float64\n",
      "Won%       295 non-null float64\n",
      "dtypes: float64(7), int64(12), object(4)\n",
      "memory usage: 55.5+ KB\n"
     ]
    }
   ],
   "source": [
    "misc_.info()"
   ]
  },
  {
   "cell_type": "code",
   "execution_count": 78,
   "id": "white-tucson",
   "metadata": {},
   "outputs": [],
   "source": [
    "misc_.drop(misc_.columns.difference(['Won%']), 1, inplace=True)"
   ]
  },
  {
   "cell_type": "markdown",
   "id": "improved-frost",
   "metadata": {},
   "source": [
    "<h4>Defense</h4>"
   ]
  },
  {
   "cell_type": "code",
   "execution_count": 79,
   "id": "monetary-judge",
   "metadata": {
    "jupyter": {
     "source_hidden": true
    },
    "scrolled": true,
    "tags": []
   },
   "outputs": [],
   "source": [
    "def_ = pd.concat([def_, ruolo], axis=1, sort=True )\n",
    "def_ = def_[def_[\"90s\"] > limitePresenze] \n",
    "def_ = def_[def_[\"Pos\"] != \"GK\"] "
   ]
  },
  {
   "cell_type": "code",
   "execution_count": 80,
   "id": "tender-bruce",
   "metadata": {
    "jupyter": {
     "source_hidden": true
    },
    "tags": []
   },
   "outputs": [
    {
     "data": {
      "text/html": [
       "<div>\n",
       "<style scoped>\n",
       "    .dataframe tbody tr th:only-of-type {\n",
       "        vertical-align: middle;\n",
       "    }\n",
       "\n",
       "    .dataframe tbody tr th {\n",
       "        vertical-align: top;\n",
       "    }\n",
       "\n",
       "    .dataframe thead th {\n",
       "        text-align: right;\n",
       "    }\n",
       "</style>\n",
       "<table border=\"1\" class=\"dataframe\">\n",
       "  <thead>\n",
       "    <tr style=\"text-align: right;\">\n",
       "      <th></th>\n",
       "      <th>%</th>\n",
       "      <th>90s</th>\n",
       "      <th>Age</th>\n",
       "      <th>Att</th>\n",
       "      <th>Att 3rd</th>\n",
       "      <th>Att 3rd.1</th>\n",
       "      <th>Blocks</th>\n",
       "      <th>Born</th>\n",
       "      <th>Clr</th>\n",
       "      <th>Def 3rd</th>\n",
       "      <th>Def 3rd.1</th>\n",
       "      <th>Err</th>\n",
       "      <th>Int</th>\n",
       "      <th>Mid 3rd</th>\n",
       "      <th>Mid 3rd.1</th>\n",
       "      <th>Pass</th>\n",
       "      <th>Past</th>\n",
       "      <th>Press</th>\n",
       "      <th>Sh</th>\n",
       "      <th>ShSv</th>\n",
       "      <th>Squad</th>\n",
       "      <th>Succ</th>\n",
       "      <th>Tkl</th>\n",
       "      <th>Tkl%</th>\n",
       "      <th>Tkl+Int</th>\n",
       "      <th>Tkl.1</th>\n",
       "      <th>TklW</th>\n",
       "      <th>Pos</th>\n",
       "    </tr>\n",
       "  </thead>\n",
       "  <tbody>\n",
       "    <tr>\n",
       "      <th>Aaron Ramsey</th>\n",
       "      <td>32.4</td>\n",
       "      <td>12.1</td>\n",
       "      <td>29</td>\n",
       "      <td>24.0</td>\n",
       "      <td>2.0</td>\n",
       "      <td>63.0</td>\n",
       "      <td>14.0</td>\n",
       "      <td>1990</td>\n",
       "      <td>9.0</td>\n",
       "      <td>8.0</td>\n",
       "      <td>54.0</td>\n",
       "      <td>1.0</td>\n",
       "      <td>6</td>\n",
       "      <td>14.0</td>\n",
       "      <td>108.0</td>\n",
       "      <td>12.0</td>\n",
       "      <td>19.0</td>\n",
       "      <td>225.0</td>\n",
       "      <td>2.0</td>\n",
       "      <td>0.0</td>\n",
       "      <td>Juventus</td>\n",
       "      <td>73.0</td>\n",
       "      <td>24.0</td>\n",
       "      <td>20.8</td>\n",
       "      <td>30.0</td>\n",
       "      <td>5.0</td>\n",
       "      <td>16</td>\n",
       "      <td>MF</td>\n",
       "    </tr>\n",
       "    <tr>\n",
       "      <th>Achraf Hakimi</th>\n",
       "      <td>29.0</td>\n",
       "      <td>29.6</td>\n",
       "      <td>21</td>\n",
       "      <td>56.0</td>\n",
       "      <td>8.0</td>\n",
       "      <td>147.0</td>\n",
       "      <td>40.0</td>\n",
       "      <td>1998</td>\n",
       "      <td>28.0</td>\n",
       "      <td>26.0</td>\n",
       "      <td>183.0</td>\n",
       "      <td>0.0</td>\n",
       "      <td>25</td>\n",
       "      <td>18.0</td>\n",
       "      <td>170.0</td>\n",
       "      <td>39.0</td>\n",
       "      <td>32.0</td>\n",
       "      <td>500.0</td>\n",
       "      <td>1.0</td>\n",
       "      <td>0.0</td>\n",
       "      <td>Inter</td>\n",
       "      <td>145.0</td>\n",
       "      <td>52.0</td>\n",
       "      <td>42.9</td>\n",
       "      <td>77.0</td>\n",
       "      <td>24.0</td>\n",
       "      <td>30</td>\n",
       "      <td>DF</td>\n",
       "    </tr>\n",
       "    <tr>\n",
       "      <th>Adam MaruÅ¡iÄ‡</th>\n",
       "      <td>30.1</td>\n",
       "      <td>33.0</td>\n",
       "      <td>27</td>\n",
       "      <td>41.0</td>\n",
       "      <td>3.0</td>\n",
       "      <td>53.0</td>\n",
       "      <td>56.0</td>\n",
       "      <td>1992</td>\n",
       "      <td>66.0</td>\n",
       "      <td>29.0</td>\n",
       "      <td>139.0</td>\n",
       "      <td>1.0</td>\n",
       "      <td>48</td>\n",
       "      <td>18.0</td>\n",
       "      <td>117.0</td>\n",
       "      <td>50.0</td>\n",
       "      <td>22.0</td>\n",
       "      <td>309.0</td>\n",
       "      <td>6.0</td>\n",
       "      <td>0.0</td>\n",
       "      <td>Lazio</td>\n",
       "      <td>93.0</td>\n",
       "      <td>50.0</td>\n",
       "      <td>46.3</td>\n",
       "      <td>98.0</td>\n",
       "      <td>19.0</td>\n",
       "      <td>28</td>\n",
       "      <td>DF</td>\n",
       "    </tr>\n",
       "    <tr>\n",
       "      <th>Adama Soumaoro</th>\n",
       "      <td>35.8</td>\n",
       "      <td>19.5</td>\n",
       "      <td>28</td>\n",
       "      <td>12.0</td>\n",
       "      <td>0.0</td>\n",
       "      <td>6.0</td>\n",
       "      <td>46.0</td>\n",
       "      <td>1992</td>\n",
       "      <td>99.0</td>\n",
       "      <td>23.0</td>\n",
       "      <td>129.0</td>\n",
       "      <td>0.0</td>\n",
       "      <td>32</td>\n",
       "      <td>5.0</td>\n",
       "      <td>80.0</td>\n",
       "      <td>20.0</td>\n",
       "      <td>6.0</td>\n",
       "      <td>215.0</td>\n",
       "      <td>26.0</td>\n",
       "      <td>0.0</td>\n",
       "      <td>Bologna</td>\n",
       "      <td>77.0</td>\n",
       "      <td>28.0</td>\n",
       "      <td>50.0</td>\n",
       "      <td>60.0</td>\n",
       "      <td>6.0</td>\n",
       "      <td>16</td>\n",
       "      <td>DF</td>\n",
       "    </tr>\n",
       "    <tr>\n",
       "      <th>Adrien Rabiot</th>\n",
       "      <td>29.7</td>\n",
       "      <td>25.7</td>\n",
       "      <td>25</td>\n",
       "      <td>57.0</td>\n",
       "      <td>11.0</td>\n",
       "      <td>85.0</td>\n",
       "      <td>46.0</td>\n",
       "      <td>1995</td>\n",
       "      <td>37.0</td>\n",
       "      <td>28.0</td>\n",
       "      <td>160.0</td>\n",
       "      <td>1.0</td>\n",
       "      <td>31</td>\n",
       "      <td>33.0</td>\n",
       "      <td>240.0</td>\n",
       "      <td>35.0</td>\n",
       "      <td>32.0</td>\n",
       "      <td>485.0</td>\n",
       "      <td>11.0</td>\n",
       "      <td>0.0</td>\n",
       "      <td>Juventus</td>\n",
       "      <td>144.0</td>\n",
       "      <td>72.0</td>\n",
       "      <td>43.9</td>\n",
       "      <td>103.0</td>\n",
       "      <td>25.0</td>\n",
       "      <td>45</td>\n",
       "      <td>MF</td>\n",
       "    </tr>\n",
       "  </tbody>\n",
       "</table>\n",
       "</div>"
      ],
      "text/plain": [
       "                   %   90s  Age   Att  Att 3rd  Att 3rd.1  Blocks  Born   Clr  \\\n",
       "Aaron Ramsey    32.4  12.1   29  24.0      2.0       63.0    14.0  1990   9.0   \n",
       "Achraf Hakimi   29.0  29.6   21  56.0      8.0      147.0    40.0  1998  28.0   \n",
       "Adam MaruÅ¡iÄ‡  30.1  33.0   27  41.0      3.0       53.0    56.0  1992  66.0   \n",
       "Adama Soumaoro  35.8  19.5   28  12.0      0.0        6.0    46.0  1992  99.0   \n",
       "Adrien Rabiot   29.7  25.7   25  57.0     11.0       85.0    46.0  1995  37.0   \n",
       "\n",
       "                Def 3rd  Def 3rd.1  Err  Int  Mid 3rd  Mid 3rd.1  Pass  Past  \\\n",
       "Aaron Ramsey        8.0       54.0  1.0    6     14.0      108.0  12.0  19.0   \n",
       "Achraf Hakimi      26.0      183.0  0.0   25     18.0      170.0  39.0  32.0   \n",
       "Adam MaruÅ¡iÄ‡     29.0      139.0  1.0   48     18.0      117.0  50.0  22.0   \n",
       "Adama Soumaoro     23.0      129.0  0.0   32      5.0       80.0  20.0   6.0   \n",
       "Adrien Rabiot      28.0      160.0  1.0   31     33.0      240.0  35.0  32.0   \n",
       "\n",
       "                Press    Sh  ShSv     Squad   Succ   Tkl  Tkl%  Tkl+Int  \\\n",
       "Aaron Ramsey    225.0   2.0   0.0  Juventus   73.0  24.0  20.8     30.0   \n",
       "Achraf Hakimi   500.0   1.0   0.0     Inter  145.0  52.0  42.9     77.0   \n",
       "Adam MaruÅ¡iÄ‡  309.0   6.0   0.0     Lazio   93.0  50.0  46.3     98.0   \n",
       "Adama Soumaoro  215.0  26.0   0.0   Bologna   77.0  28.0  50.0     60.0   \n",
       "Adrien Rabiot   485.0  11.0   0.0  Juventus  144.0  72.0  43.9    103.0   \n",
       "\n",
       "                Tkl.1  TklW Pos  \n",
       "Aaron Ramsey      5.0    16  MF  \n",
       "Achraf Hakimi    24.0    30  DF  \n",
       "Adam MaruÅ¡iÄ‡   19.0    28  DF  \n",
       "Adama Soumaoro    6.0    16  DF  \n",
       "Adrien Rabiot    25.0    45  MF  "
      ]
     },
     "execution_count": 80,
     "metadata": {},
     "output_type": "execute_result"
    }
   ],
   "source": [
    "def_.head()"
   ]
  },
  {
   "cell_type": "code",
   "execution_count": 81,
   "id": "hindu-mailman",
   "metadata": {
    "tags": []
   },
   "outputs": [
    {
     "name": "stdout",
     "output_type": "stream",
     "text": [
      "<class 'pandas.core.frame.DataFrame'>\n",
      "Index: 295 entries, Aaron Ramsey to È˜tefan Radu\n",
      "Data columns (total 28 columns):\n",
      "%            294 non-null float64\n",
      "90s          295 non-null float64\n",
      "Age          295 non-null int64\n",
      "Att          294 non-null float64\n",
      "Att 3rd      294 non-null float64\n",
      "Att 3rd.1    294 non-null float64\n",
      "Blocks       294 non-null float64\n",
      "Born         295 non-null int64\n",
      "Clr          294 non-null float64\n",
      "Def 3rd      294 non-null float64\n",
      "Def 3rd.1    294 non-null float64\n",
      "Err          294 non-null float64\n",
      "Int          295 non-null int64\n",
      "Mid 3rd      294 non-null float64\n",
      "Mid 3rd.1    294 non-null float64\n",
      "Pass         294 non-null float64\n",
      "Past         294 non-null float64\n",
      "Press        294 non-null float64\n",
      "Sh           294 non-null float64\n",
      "ShSv         294 non-null float64\n",
      "Squad        295 non-null object\n",
      "Succ         294 non-null float64\n",
      "Tkl          294 non-null float64\n",
      "Tkl%         294 non-null float64\n",
      "Tkl+Int      294 non-null float64\n",
      "Tkl.1        294 non-null float64\n",
      "TklW         295 non-null int64\n",
      "Pos          295 non-null object\n",
      "dtypes: float64(22), int64(4), object(2)\n",
      "memory usage: 66.8+ KB\n"
     ]
    }
   ],
   "source": [
    "def_.info()"
   ]
  },
  {
   "cell_type": "code",
   "execution_count": 82,
   "id": "technical-criticism",
   "metadata": {},
   "outputs": [],
   "source": [
    "def_.drop(def_.columns.difference(['TklW', \"Int\"]), 1, inplace=True)"
   ]
  },
  {
   "cell_type": "markdown",
   "id": "rough-bailey",
   "metadata": {},
   "source": [
    "-----------------------------------------------------------"
   ]
  },
  {
   "cell_type": "markdown",
   "id": "desperate-integer",
   "metadata": {},
   "source": [
    "Concateniamo tutte le tabelle con le varie statistiche in un unica tabella"
   ]
  },
  {
   "cell_type": "code",
   "execution_count": 83,
   "id": "detailed-childhood",
   "metadata": {
    "tags": []
   },
   "outputs": [
    {
     "data": {
      "text/html": [
       "<div>\n",
       "<style scoped>\n",
       "    .dataframe tbody tr th:only-of-type {\n",
       "        vertical-align: middle;\n",
       "    }\n",
       "\n",
       "    .dataframe tbody tr th {\n",
       "        vertical-align: top;\n",
       "    }\n",
       "\n",
       "    .dataframe thead th {\n",
       "        text-align: right;\n",
       "    }\n",
       "</style>\n",
       "<table border=\"1\" class=\"dataframe\">\n",
       "  <thead>\n",
       "    <tr style=\"text-align: right;\">\n",
       "      <th></th>\n",
       "      <th>Cmp_PS%</th>\n",
       "      <th>Cross</th>\n",
       "      <th>KP</th>\n",
       "      <th>ProgressivePasses</th>\n",
       "      <th>np:G-xG</th>\n",
       "      <th>ProgressiveCarries</th>\n",
       "      <th>Dribbling</th>\n",
       "      <th>Interceptions</th>\n",
       "      <th>TackleWon</th>\n",
       "      <th>ADwon%</th>\n",
       "    </tr>\n",
       "  </thead>\n",
       "  <tbody>\n",
       "    <tr>\n",
       "      <th>Aaron Ramsey</th>\n",
       "      <td>85.5</td>\n",
       "      <td>4.0</td>\n",
       "      <td>30.0</td>\n",
       "      <td>59.0</td>\n",
       "      <td>-3.0</td>\n",
       "      <td>79.0</td>\n",
       "      <td>12.0</td>\n",
       "      <td>6</td>\n",
       "      <td>16</td>\n",
       "      <td>30.4</td>\n",
       "    </tr>\n",
       "    <tr>\n",
       "      <th>Achraf Hakimi</th>\n",
       "      <td>82.5</td>\n",
       "      <td>21.0</td>\n",
       "      <td>36.0</td>\n",
       "      <td>124.0</td>\n",
       "      <td>2.4</td>\n",
       "      <td>221.0</td>\n",
       "      <td>36.0</td>\n",
       "      <td>25</td>\n",
       "      <td>30</td>\n",
       "      <td>31.0</td>\n",
       "    </tr>\n",
       "    <tr>\n",
       "      <th>Adam MaruÅ¡iÄ‡</th>\n",
       "      <td>83.5</td>\n",
       "      <td>17.0</td>\n",
       "      <td>32.0</td>\n",
       "      <td>90.0</td>\n",
       "      <td>0.0</td>\n",
       "      <td>160.0</td>\n",
       "      <td>27.0</td>\n",
       "      <td>48</td>\n",
       "      <td>28</td>\n",
       "      <td>63.2</td>\n",
       "    </tr>\n",
       "    <tr>\n",
       "      <th>Adama Soumaoro</th>\n",
       "      <td>91.5</td>\n",
       "      <td>0.0</td>\n",
       "      <td>2.0</td>\n",
       "      <td>36.0</td>\n",
       "      <td>-0.2</td>\n",
       "      <td>31.0</td>\n",
       "      <td>3.0</td>\n",
       "      <td>32</td>\n",
       "      <td>16</td>\n",
       "      <td>79.5</td>\n",
       "    </tr>\n",
       "    <tr>\n",
       "      <th>Adrien Rabiot</th>\n",
       "      <td>90.4</td>\n",
       "      <td>3.0</td>\n",
       "      <td>10.0</td>\n",
       "      <td>103.0</td>\n",
       "      <td>1.0</td>\n",
       "      <td>142.0</td>\n",
       "      <td>26.0</td>\n",
       "      <td>31</td>\n",
       "      <td>45</td>\n",
       "      <td>63.5</td>\n",
       "    </tr>\n",
       "  </tbody>\n",
       "</table>\n",
       "</div>"
      ],
      "text/plain": [
       "                Cmp_PS%  Cross    KP  ProgressivePasses  np:G-xG  \\\n",
       "Aaron Ramsey       85.5    4.0  30.0               59.0     -3.0   \n",
       "Achraf Hakimi      82.5   21.0  36.0              124.0      2.4   \n",
       "Adam MaruÅ¡iÄ‡     83.5   17.0  32.0               90.0      0.0   \n",
       "Adama Soumaoro     91.5    0.0   2.0               36.0     -0.2   \n",
       "Adrien Rabiot      90.4    3.0  10.0              103.0      1.0   \n",
       "\n",
       "                ProgressiveCarries  Dribbling  Interceptions  TackleWon  \\\n",
       "Aaron Ramsey                  79.0       12.0              6         16   \n",
       "Achraf Hakimi                221.0       36.0             25         30   \n",
       "Adam MaruÅ¡iÄ‡               160.0       27.0             48         28   \n",
       "Adama Soumaoro                31.0        3.0             32         16   \n",
       "Adrien Rabiot                142.0       26.0             31         45   \n",
       "\n",
       "                ADwon%  \n",
       "Aaron Ramsey      30.4  \n",
       "Achraf Hakimi     31.0  \n",
       "Adam MaruÅ¡iÄ‡    63.2  \n",
       "Adama Soumaoro    79.5  \n",
       "Adrien Rabiot     63.5  "
      ]
     },
     "execution_count": 83,
     "metadata": {},
     "output_type": "execute_result"
    }
   ],
   "source": [
    "dt = pd.concat([pass_, shot, poss, def_, misc_], axis=1, sort=True , join='inner')\n",
    "dt.rename(columns ={\"CrsPA\":\"Cross\", \"Prog\":\"ProgressiveCarries\", \"Succ\":\"Dribbling\", \"Int\":\"Interceptions\", \"TklW\":\"TackleWon\", \"Won%\":\"ADwon%\"}, inplace=True)\n",
    "dt.head()"
   ]
  },
  {
   "cell_type": "code",
   "execution_count": 84,
   "id": "mounted-retreat",
   "metadata": {
    "tags": []
   },
   "outputs": [
    {
     "name": "stdout",
     "output_type": "stream",
     "text": [
      "<class 'pandas.core.frame.DataFrame'>\n",
      "Index: 293 entries, Aaron Ramsey to È˜tefan Radu\n",
      "Data columns (total 10 columns):\n",
      "Cmp_PS%               292 non-null float64\n",
      "Cross                 292 non-null float64\n",
      "KP                    292 non-null float64\n",
      "ProgressivePasses     292 non-null float64\n",
      "np:G-xG               292 non-null float64\n",
      "ProgressiveCarries    292 non-null float64\n",
      "Dribbling             293 non-null float64\n",
      "Interceptions         293 non-null int64\n",
      "TackleWon             293 non-null int64\n",
      "ADwon%                292 non-null float64\n",
      "dtypes: float64(8), int64(2)\n",
      "memory usage: 25.2+ KB\n"
     ]
    }
   ],
   "source": [
    "dt.info()"
   ]
  },
  {
   "cell_type": "markdown",
   "id": "sufficient-robert",
   "metadata": {},
   "source": [
    "Droppiamo le righe che hanno valori null visto che sono poche"
   ]
  },
  {
   "cell_type": "code",
   "execution_count": 85,
   "id": "committed-cradle",
   "metadata": {},
   "outputs": [],
   "source": [
    "dt.dropna(inplace=True)"
   ]
  },
  {
   "cell_type": "markdown",
   "id": "continuous-antigua",
   "metadata": {},
   "source": [
    "Combiniamo alcune misure per diminuire il numero complessivo degli attributii e per aumentarne il potere espressivo.\n",
    "\\\n",
    "Aggreghiamo in un'unica statistica il numero di passaggi progressivi ed il numero di corse progressive"
   ]
  },
  {
   "cell_type": "code",
   "execution_count": 86,
   "id": "liquid-holiday",
   "metadata": {},
   "outputs": [],
   "source": [
    "dt[\"Progressive\"] = dt[\"ProgressivePasses\"] + dt[\"ProgressiveCarries\"]\n",
    "dt.drop(columns = {\"ProgressivePasses\", \"ProgressiveCarries\"}, inplace=True)"
   ]
  },
  {
   "cell_type": "markdown",
   "id": "miniature-curve",
   "metadata": {},
   "source": [
    "Uniamo anche le informazioni corrispondenti al numero di contrasti vinti ed il numero di intercettazioni."
   ]
  },
  {
   "cell_type": "code",
   "execution_count": 87,
   "id": "apparent-enclosure",
   "metadata": {},
   "outputs": [],
   "source": [
    "dt[\"WonPossession\"] = dt[\"TackleWon\"] + dt[\"Interceptions\"]\n",
    "dt.drop(columns = {\"TackleWon\", \"Interceptions\"}, inplace=True)"
   ]
  },
  {
   "cell_type": "markdown",
   "id": "thick-belgium",
   "metadata": {},
   "source": [
    "Vediamo la media"
   ]
  },
  {
   "cell_type": "code",
   "execution_count": 88,
   "id": "weird-intent",
   "metadata": {},
   "outputs": [
    {
     "data": {
      "text/plain": [
       "Cmp_PS%           80.897603\n",
       "Cross              4.780822\n",
       "KP                20.280822\n",
       "np:G-xG            0.105137\n",
       "Dribbling         19.886986\n",
       "ADwon%            47.532877\n",
       "Progressive      173.373288\n",
       "WonPossession     46.479452\n",
       "dtype: float64"
      ]
     },
     "execution_count": 88,
     "metadata": {},
     "output_type": "execute_result"
    }
   ],
   "source": [
    "dt.mean()"
   ]
  },
  {
   "cell_type": "markdown",
   "id": "oriental-checkout",
   "metadata": {},
   "source": [
    "I valori hanno scale totalmente diverse, per questo motivo procediamo a scalare i valori."
   ]
  },
  {
   "cell_type": "code",
   "execution_count": 103,
   "id": "coated-brunei",
   "metadata": {
    "scrolled": true,
    "tags": []
   },
   "outputs": [
    {
     "data": {
      "text/html": [
       "<div>\n",
       "<style scoped>\n",
       "    .dataframe tbody tr th:only-of-type {\n",
       "        vertical-align: middle;\n",
       "    }\n",
       "\n",
       "    .dataframe tbody tr th {\n",
       "        vertical-align: top;\n",
       "    }\n",
       "\n",
       "    .dataframe thead th {\n",
       "        text-align: right;\n",
       "    }\n",
       "</style>\n",
       "<table border=\"1\" class=\"dataframe\">\n",
       "  <thead>\n",
       "    <tr style=\"text-align: right;\">\n",
       "      <th></th>\n",
       "      <th>Cmp_PS%</th>\n",
       "      <th>Cross</th>\n",
       "      <th>KP</th>\n",
       "      <th>np:G-xG</th>\n",
       "      <th>Dribbling</th>\n",
       "      <th>ADwon%</th>\n",
       "      <th>Progressive</th>\n",
       "      <th>WonPossession</th>\n",
       "    </tr>\n",
       "  </thead>\n",
       "  <tbody>\n",
       "    <tr>\n",
       "      <th>Aaron Ramsey</th>\n",
       "      <td>0.689260</td>\n",
       "      <td>-0.139762</td>\n",
       "      <td>0.578197</td>\n",
       "      <td>-2.247801</td>\n",
       "      <td>-0.475026</td>\n",
       "      <td>-1.059185</td>\n",
       "      <td>-0.347701</td>\n",
       "      <td>-0.961972</td>\n",
       "    </tr>\n",
       "    <tr>\n",
       "      <th>Achraf Hakimi</th>\n",
       "      <td>0.239977</td>\n",
       "      <td>2.903129</td>\n",
       "      <td>0.935138</td>\n",
       "      <td>1.661246</td>\n",
       "      <td>0.970472</td>\n",
       "      <td>-1.022092</td>\n",
       "      <td>1.687000</td>\n",
       "      <td>0.334833</td>\n",
       "    </tr>\n",
       "    <tr>\n",
       "      <th>Adam MaruÅ¡iÄ‡</th>\n",
       "      <td>0.389738</td>\n",
       "      <td>2.187155</td>\n",
       "      <td>0.697177</td>\n",
       "      <td>-0.076108</td>\n",
       "      <td>0.428410</td>\n",
       "      <td>0.968570</td>\n",
       "      <td>0.753200</td>\n",
       "      <td>1.160073</td>\n",
       "    </tr>\n",
       "    <tr>\n",
       "      <th>Adama Soumaoro</th>\n",
       "      <td>1.587827</td>\n",
       "      <td>-0.855737</td>\n",
       "      <td>-1.087531</td>\n",
       "      <td>-0.220888</td>\n",
       "      <td>-1.017088</td>\n",
       "      <td>1.976265</td>\n",
       "      <td>-1.045593</td>\n",
       "      <td>0.059753</td>\n",
       "    </tr>\n",
       "    <tr>\n",
       "      <th>Adrien Rabiot</th>\n",
       "      <td>1.423090</td>\n",
       "      <td>-0.318756</td>\n",
       "      <td>-0.611609</td>\n",
       "      <td>0.647789</td>\n",
       "      <td>0.368181</td>\n",
       "      <td>0.987116</td>\n",
       "      <td>0.704053</td>\n",
       "      <td>1.160073</td>\n",
       "    </tr>\n",
       "  </tbody>\n",
       "</table>\n",
       "</div>"
      ],
      "text/plain": [
       "                 Cmp_PS%     Cross        KP   np:G-xG  Dribbling    ADwon%  \\\n",
       "Aaron Ramsey    0.689260 -0.139762  0.578197 -2.247801  -0.475026 -1.059185   \n",
       "Achraf Hakimi   0.239977  2.903129  0.935138  1.661246   0.970472 -1.022092   \n",
       "Adam MaruÅ¡iÄ‡  0.389738  2.187155  0.697177 -0.076108   0.428410  0.968570   \n",
       "Adama Soumaoro  1.587827 -0.855737 -1.087531 -0.220888  -1.017088  1.976265   \n",
       "Adrien Rabiot   1.423090 -0.318756 -0.611609  0.647789   0.368181  0.987116   \n",
       "\n",
       "                Progressive  WonPossession  \n",
       "Aaron Ramsey      -0.347701      -0.961972  \n",
       "Achraf Hakimi      1.687000       0.334833  \n",
       "Adam MaruÅ¡iÄ‡     0.753200       1.160073  \n",
       "Adama Soumaoro    -1.045593       0.059753  \n",
       "Adrien Rabiot      0.704053       1.160073  "
      ]
     },
     "execution_count": 103,
     "metadata": {},
     "output_type": "execute_result"
    }
   ],
   "source": [
    "scaler = StandardScaler()\n",
    "\n",
    "#memorizziamo in un dataframe i valori non scalati, in modo da utilizzare questo dataframe per le print\n",
    "plotPrint = pd.DataFrame.copy(dt)\n",
    "\n",
    "dt = pd.DataFrame(scaler.fit_transform(dt), index=dt.index, columns= dt.columns)\n",
    "\n",
    "plotX = pd.DataFrame.copy(dt)\n",
    "\n",
    "dt.head()"
   ]
  },
  {
   "cell_type": "markdown",
   "id": "union-bolivia",
   "metadata": {},
   "source": [
    "Le statistiche rimaste sono le seguenti:\n",
    "\n",
    "- Cmp_PS%: percentuale di passaggi e lanci completati\n",
    "- ADwon%: percentuale di duelli aerei vinti\n",
    "- np: G-xG: differenza tra il numero di gol segnati e il numero di gol attesi, cioè che il giocatore avrebbe dovuto segnare (sulla base di parametri che valutano la pericolosità dell'azione, come la posizione del tiro, la postura del tiratore etc); da questa misura si escludono i rigori\n",
    "- KP: passaggi chiave, ossia quelli che portano ad un tiro\n",
    "- Progressive: numero di corse progressive (ossia conduzioni palla verso la porta avversaria di almeno 5 yards) e passaggi progressivi (ossia passaggi che guadagnano almeno 10 yards verso la porta avversaria), escludendo quelli iniziati nel primo terzo di campo\n",
    "- Cross: cross completati verso l'area avversaria (senza includere calci da fermo)\n",
    "- Dribbling: numero di dribbling completati\n",
    "- WonPossession: numero di possessi vinti, ossia numero di contrasti vinti + numero di intercetti"
   ]
  },
  {
   "cell_type": "markdown",
   "id": "marked-period",
   "metadata": {},
   "source": [
    "<h3>Analisi di correlazione</h3>"
   ]
  },
  {
   "cell_type": "code",
   "execution_count": 90,
   "id": "pharmaceutical-barcelona",
   "metadata": {},
   "outputs": [
    {
     "data": {
      "image/png": "[encoded data removed]",
      "text/plain": [
       "<Figure size 1080x720 with 64 Axes>"
      ]
     },
     "metadata": {
      "needs_background": "light"
     },
     "output_type": "display_data"
    }
   ],
   "source": [
    "attributes = plotPrint.columns\n",
    "scatter_matrix(plotPrint[attributes], figsize=(15, 10));"
   ]
  },
  {
   "cell_type": "markdown",
   "id": "faced-radical",
   "metadata": {},
   "source": [
    "Possiamo notare come non sia presente una forte correlazione tra gli attributi rimasti, per questo motivo non ne eliminiamo altri."
   ]
  },
  {
   "cell_type": "markdown",
   "id": "presidential-planning",
   "metadata": {},
   "source": [
    "<h2>Clustering</h2>"
   ]
  },
  {
   "cell_type": "markdown",
   "id": "running-oxford",
   "metadata": {},
   "source": [
    "Sfruttiamo l'elbow method ed il silhouette diagram per scegliere il numero di cluster. "
   ]
  },
  {
   "cell_type": "code",
   "execution_count": 91,
   "id": "wireless-council",
   "metadata": {},
   "outputs": [
    {
     "data": {
      "image/png": "[encoded data removed]",
      "text/plain": [
       "<Figure size 432x288 with 1 Axes>"
      ]
     },
     "metadata": {
      "needs_background": "light"
     },
     "output_type": "display_data"
    }
   ],
   "source": [
    "inertia = []\n",
    "K = range(5,14)\n",
    "for k in K:\n",
    "    kmeanModel = KMeans(n_clusters=k, random_state= 0).fit(dt)\n",
    "    inertia.append(kmeanModel.inertia_)\n",
    "\n",
    "#plottiamo l'elbow\n",
    "\n",
    "plt.plot(K, inertia, 'bx-')\n",
    "plt.xlabel('k')\n",
    "plt.ylabel('Inertia')\n",
    "\n",
    "plt.show()"
   ]
  },
  {
   "cell_type": "code",
   "execution_count": 92,
   "id": "mature-contributor",
   "metadata": {},
   "outputs": [],
   "source": [
    "range_ = range(5, 14)\n",
    "\n",
    "kmeans_per_k = [KMeans(n_clusters=k, random_state=0).fit(dt)\n",
    "                for k in range_]\n",
    "\n",
    "silhouette_scores = [silhouette_score(dt, model.labels_)\n",
    "                     for model in kmeans_per_k]"
   ]
  },
  {
   "cell_type": "code",
   "execution_count": 93,
   "id": "composite-departure",
   "metadata": {},
   "outputs": [
    {
     "data": {
      "image/png": "[encoded data removed]",
      "text/plain": [
       "<Figure size 720x216 with 1 Axes>"
      ]
     },
     "metadata": {
      "needs_background": "light"
     },
     "output_type": "display_data"
    }
   ],
   "source": [
    "plt.figure(figsize=(10, 3))\n",
    "plt.plot(range_, silhouette_scores, \"bo-\")\n",
    "plt.xlabel(\"$k$\", fontsize=14)\n",
    "plt.ylabel(\"Silhouette score\", fontsize=14)\n",
    "plt.show()"
   ]
  },
  {
   "cell_type": "markdown",
   "id": "multiple-funeral",
   "metadata": {},
   "source": [
    "Benchè i grafici non diano indicazioni nette, notiamo in corrispondenza dei valori $8$ e $11$ un miglioramento sia in termini di pendenza del grafico dell'inerzia sia nel silhouette diagram. Scegliamo come valore finale $8$ in quanto più verosimile al numero di ruoli da riconoscere. "
   ]
  },
  {
   "cell_type": "code",
   "execution_count": 94,
   "id": "extreme-utility",
   "metadata": {},
   "outputs": [
    {
     "data": {
      "text/plain": [
       "991.5658210213011"
      ]
     },
     "execution_count": 94,
     "metadata": {},
     "output_type": "execute_result"
    }
   ],
   "source": [
    "kmeans= KMeans(n_clusters=8, random_state=0)\n",
    "plotX[\"cluster\"] = kmeans.fit_predict(dt)\n",
    "kmeans.inertia_"
   ]
  },
  {
   "cell_type": "code",
   "execution_count": 95,
   "id": "lucky-bloom",
   "metadata": {
    "scrolled": true,
    "tags": []
   },
   "outputs": [
    {
     "data": {
      "text/plain": [
       "{0:                        Cmp_PS%  Cross    KP  np:G-xG  Dribbling  ADwon%  \\\n",
       " Adrien Silva              87.5    0.0  10.0      0.6       10.0    33.3   \n",
       " Alexis Saelemaekers       80.1    7.0  31.0     -0.9       44.0    21.9   \n",
       " AntonÃ­n BarÃ¡k           78.2    4.0  24.0      1.2       31.0    42.7   \n",
       " Arthur Melo               94.4    0.0  17.0      0.8       16.0    16.7   \n",
       " Artur IoniÈ›Äƒ            78.0    3.0   9.0      0.5       20.0    44.4   \n",
       " Brahim DÃ­az              86.8    3.0  19.0      0.7       33.0    16.7   \n",
       " Bruno Peres               83.0    7.0  28.0     -0.2       14.0    25.0   \n",
       " Diego Demme               89.4    2.0  18.0      0.6        4.0    30.4   \n",
       " Diego Farias              81.4    4.0  31.0      0.6       24.0    47.1   \n",
       " Franck RibÃ©ry            86.4    2.0  31.0     -1.0       61.0    14.7   \n",
       " GastÃ³n Brugman           83.2    0.0  25.0     -0.2       16.0    44.4   \n",
       " Gervinho                  81.9    3.0  27.0      0.8       43.0     0.0   \n",
       " Giorgos Kiriakopoulos     83.3    7.0  14.0     -0.4       28.0    46.5   \n",
       " GrÃ©goire Defrel          87.6    1.0  20.0      0.2       13.0    22.9   \n",
       " Hamed Junior TraorÃ¨      76.3    0.0  33.0      0.6       45.0    38.9   \n",
       " IsmaÃ«l Bennacer          86.6    2.0   5.0     -0.7       28.0    40.5   \n",
       " Ivan IliÄ‡                83.9    1.0  14.0      0.9       30.0    52.5   \n",
       " Jeremie Boga              88.5    0.0  12.0      0.4       83.0    37.5   \n",
       " Jeremy Toljan             88.7    4.0  13.0     -0.5        6.0    21.1   \n",
       " JoaquÃ­n Correa           82.2    0.0  28.0     -0.8       33.0    26.7   \n",
       " Jordan Veretout           84.8    2.0  25.0      1.3       13.0    50.0   \n",
       " Karol Linetty             82.7    0.0  16.0      0.2       15.0    34.8   \n",
       " Kevin Strootman           80.9    4.0  22.0     -0.5        9.0    45.5   \n",
       " M'Bala Nzola              85.1    0.0  21.0      1.0       22.0    22.1   \n",
       " Mario PaÅ¡aliÄ‡           85.9    1.0  18.0      1.5       15.0    48.7   \n",
       " Marko Pjaca               83.9    2.0  17.0      0.1       26.0    20.6   \n",
       " Marko Rog                 87.5    1.0   9.0     -0.3       21.0    36.4   \n",
       " Matteo Pessina            83.7    0.0  23.0     -0.5       17.0    38.5   \n",
       " Mattias Svanberg          80.3    0.0  16.0      1.0       21.0    48.7   \n",
       " Maxime Busi               83.3    7.0   7.0     -0.5       11.0    38.9   \n",
       " Maxime Lopez              92.4    0.0  20.0      0.4       16.0    28.6   \n",
       " Mert MÃ¼ldÃ¼r             79.8    6.0   7.0     -1.0       23.0    42.5   \n",
       " Miha Zajc                 80.9    2.0  19.0     -1.2       26.0    34.0   \n",
       " Mitchell Dijks            76.8    3.0   6.0      0.0       29.0    41.4   \n",
       " NicolÃ² Rovella           85.0    4.0  18.0     -0.7        9.0    27.8   \n",
       " Paulo Dybala              82.0    4.0  31.0     -0.6       27.0     8.3   \n",
       " Pedro                     78.3    4.0  28.0     -0.1       27.0    11.8   \n",
       " Sandro Tonali             82.3    1.0  16.0     -0.5        6.0    37.5   \n",
       " SaÅ¡a LukiÄ‡              80.3    7.0  24.0      1.0       23.0    31.7   \n",
       " Sofyan Amrabat            88.8    5.0  11.0     -0.4       40.0    30.8   \n",
       " \n",
       "                        Progressive  WonPossession  cluster  \n",
       " Adrien Silva                 121.0             60        0  \n",
       " Alexis Saelemaekers          168.0             59        0  \n",
       " AntonÃ­n BarÃ¡k              272.0             46        0  \n",
       " Arthur Melo                  147.0             31        0  \n",
       " Artur IoniÈ›Äƒ                99.0             70        0  \n",
       " Brahim DÃ­az                 102.0             26        0  \n",
       " Bruno Peres                  155.0             41        0  \n",
       " Diego Demme                  170.0             54        0  \n",
       " Diego Farias                 166.0             21        0  \n",
       " Franck RibÃ©ry               281.0             28        0  \n",
       " GastÃ³n Brugman              172.0             62        0  \n",
       " Gervinho                     185.0             17        0  \n",
       " Giorgos Kiriakopoulos        171.0             40        0  \n",
       " GrÃ©goire Defrel              83.0             20        0  \n",
       " Hamed Junior TraorÃ¨         184.0             42        0  \n",
       " IsmaÃ«l Bennacer             159.0             46        0  \n",
       " Ivan IliÄ‡                   192.0             45        0  \n",
       " Jeremie Boga                 209.0             25        0  \n",
       " Jeremy Toljan                100.0             33        0  \n",
       " JoaquÃ­n Correa              185.0             19        0  \n",
       " Jordan Veretout              239.0             36        0  \n",
       " Karol Linetty                129.0             46        0  \n",
       " Kevin Strootman              122.0             55        0  \n",
       " M'Bala Nzola                  57.0             14        0  \n",
       " Mario PaÅ¡aliÄ‡              150.0             25        0  \n",
       " Marko Pjaca                  122.0             19        0  \n",
       " Marko Rog                    105.0             37        0  \n",
       " Matteo Pessina               196.0             26        0  \n",
       " Mattias Svanberg             139.0             53        0  \n",
       " Maxime Busi                  144.0             30        0  \n",
       " Maxime Lopez                 237.0             42        0  \n",
       " Mert MÃ¼ldÃ¼r                152.0             41        0  \n",
       " Miha Zajc                    167.0             50        0  \n",
       " Mitchell Dijks               121.0             37        0  \n",
       " NicolÃ² Rovella              101.0             34        0  \n",
       " Paulo Dybala                 159.0             14        0  \n",
       " Pedro                        190.0             32        0  \n",
       " Sandro Tonali                108.0             34        0  \n",
       " SaÅ¡a LukiÄ‡                 165.0             43        0  \n",
       " Sofyan Amrabat               219.0             63        0  ,\n",
       " 1:                         Cmp_PS%  Cross    KP  np:G-xG  Dribbling  ADwon%  \\\n",
       " Adama Soumaoro             91.5    0.0   2.0     -0.2        3.0    79.5   \n",
       " Ahmad Benali               84.9    3.0  14.0     -0.8       10.0    64.7   \n",
       " Alberto Grassi             80.3    1.0   4.0     -0.6        5.0    50.0   \n",
       " Alessandro Tuia            79.0    1.0   3.0      0.6        4.0    65.1   \n",
       " Alessio Romagnoli          90.5    1.0   3.0     -1.3        0.0    69.9   \n",
       " Amir Rrahmani              92.0    0.0   0.0      0.4        3.0    63.6   \n",
       " Andrea Carboni             78.6    2.0   3.0     -0.2        5.0    47.5   \n",
       " Andrea Masiello            85.3    2.0   7.0     -0.4        2.0    47.6   \n",
       " Ardian Ismajli             89.3    1.0   0.0      0.5        0.0    62.3   \n",
       " Arturo Vidal               85.5    4.0  10.0     -1.5        5.0    57.9   \n",
       " Bram Nuytinck              85.8    1.0   2.0      0.7        3.0    72.3   \n",
       " Bruno Alves                86.9    1.0   2.0      0.7        2.0    86.5   \n",
       " Bryan Dabo                 78.1    3.0   9.0     -1.2       14.0    71.6   \n",
       " Chris Smalling             92.3    0.0   2.0     -0.4        4.0    69.6   \n",
       " Christian Eriksen          82.1    4.0  30.0      1.3       10.0    70.6   \n",
       " Claudio Terzi              83.7    0.0   3.0      0.7        4.0    61.6   \n",
       " Daam Foulon                73.8    3.0   6.0      0.0        5.0    70.6   \n",
       " Daniele Rugani             79.8    0.0   1.0      0.6        3.0    68.9   \n",
       " Danilo Larangeira          81.2    0.0   6.0     -0.7        2.0    58.8   \n",
       " Domenico Criscito          81.5    1.0   6.0     -0.1        4.0    44.0   \n",
       " Elseid Hysaj               85.0    0.0  14.0     -0.2       17.0    50.0   \n",
       " Fikayo Tomori              90.6    0.0   0.0      0.6        5.0    55.6   \n",
       " GermÃ¡n Pezzella           87.5    0.0   2.0     -0.3        1.0    61.9   \n",
       " Giangiacomo Magnani        79.8    1.0   1.0     -0.7        3.0    70.2   \n",
       " Giorgio Chiellini          91.9    0.0   1.0     -0.6        3.0    69.2   \n",
       " Hans Hateboer              87.1    9.0  20.0     -1.1        5.0    59.6   \n",
       " Igor                       89.4    1.0   3.0     -0.1        5.0    51.5   \n",
       " Ivan RadovanoviÄ‡          85.9    0.0   3.0     -0.4        6.0    61.1   \n",
       " Jean-Daniel Akpa-Akpro     81.4    0.0  12.0     -0.9       20.0    50.0   \n",
       " Julian Chabot              87.4    0.0   4.0      0.4       13.0    64.9   \n",
       " Kalidou Koulibaly          89.6    2.0   5.0     -0.7       12.0    57.0   \n",
       " Kamil Glik                 89.7    0.0   4.0     -1.3        4.0    65.0   \n",
       " Kevin Bonifazi             89.6    0.0   2.0     -1.4       13.0    65.7   \n",
       " Koffi Djidji               81.7    0.0   4.0      0.6        8.0    58.6   \n",
       " Koray GÃ¼nter              88.7    0.0   5.0     -0.3        6.0    63.1   \n",
       " Kostas Manolas             93.5    1.0   5.0     -0.8        2.0    60.2   \n",
       " Leonardo Bonucci           90.1    1.0   3.0     -0.7        4.0    73.6   \n",
       " Lisandro MagallÃ¡n         83.4    0.0  10.0     -0.1        4.0    59.0   \n",
       " Lorenzo Tonelli            82.4    0.0   0.0     -0.3        0.0    59.5   \n",
       " Luca Caldirola             84.7    2.0   3.0      1.0        0.0    43.1   \n",
       " Luca Ceppitelli            84.4    1.0   1.0     -0.4        2.0    69.7   \n",
       " Luca Marrone               87.8    0.0   0.0     -0.3        1.0    61.1   \n",
       " Luca Vignali               80.6    3.0  11.0     -0.1        4.0    67.3   \n",
       " Lucas MartÃ­nez Quarta     82.4    1.0   6.0     -0.4       13.0    50.0   \n",
       " Lukas Lerager              82.7    0.0   8.0     -0.5       10.0    41.7   \n",
       " Lyanco                     86.4    1.0   4.0     -0.8       18.0    59.7   \n",
       " Marash Kumbulla            89.9    0.0   3.0      0.1        2.0    69.6   \n",
       " Marlon                     96.2    0.0   1.0     -0.4        5.0    59.1   \n",
       " Martin Erlic               85.6    0.0   1.0      1.7        4.0    58.1   \n",
       " Matteo Darmian             81.0    8.0  11.0      1.8        2.0    62.1   \n",
       " Matteo Lovato              81.2    0.0   5.0     -0.1        3.0    62.9   \n",
       " Matthijs de Ligt           93.2    2.0   9.0     -0.1        5.0    68.4   \n",
       " Maya Yoshida               85.3    0.0   5.0     -0.9        3.0    69.0   \n",
       " Miguel Veloso              78.2    4.0  10.0     -0.3       12.0    60.9   \n",
       " MiloÅ¡ VuliÄ‡              79.6    2.0  20.0      0.0       12.0    54.8   \n",
       " NiccolÃ² Zanellato         80.6    3.0   9.0      0.5       15.0    56.3   \n",
       " Nicolas Nkoulou            87.0    0.0   2.0      0.6        3.0    47.9   \n",
       " NicolÃ¡s DomÃ­nguez        86.1    2.0  21.0     -0.5        9.0    50.0   \n",
       " Nikola MaksimoviÄ‡         93.8    0.0   3.0     -0.4        4.0    74.0   \n",
       " Omar Colley                82.0    0.0   1.0      0.5        1.0    64.3   \n",
       " Patric                     86.9    5.0  11.0     -0.3        1.0    48.5   \n",
       " PaweÅ‚ Dawidowicz          85.6    0.0   2.0     -1.3        5.0    56.3   \n",
       " Pedro Obiang               88.6    0.0  12.0     -0.7       12.0    57.4   \n",
       " Ricardo RodrÃ­guez         84.3    1.0   6.0     -0.5        8.0    58.1   \n",
       " Roberto Gagliardini        85.9    2.0   7.0      1.8        7.0    61.5   \n",
       " Sebastian Walukiewicz      85.6    0.0   1.0     -0.5        7.0    52.3   \n",
       " Sebastiano Luperto         82.6    0.0   7.0     -0.7        5.0    52.8   \n",
       " Simon KjÃ¦r                88.3    0.0   4.0     -1.3        0.0    62.3   \n",
       " Simone Iacoponi            86.4    0.0   0.0     -0.1        3.0    55.0   \n",
       " Stefan de Vrij             94.6    1.0   7.0     -0.4        6.0    69.5   \n",
       " Vlad ChiricheÈ™            93.5    0.0   7.0      0.9       12.0    58.2   \n",
       " Vladimir GolemiÄ‡          86.9    0.0   4.0      0.5        3.0    56.6   \n",
       " Weston McKennie            85.1    1.0  24.0      0.8       13.0    54.0   \n",
       " Yordan Osorio              89.9    1.0   3.0     -0.5       16.0    66.7   \n",
       " \n",
       "                         Progressive  WonPossession  cluster  \n",
       " Adama Soumaoro                 67.0             48        1  \n",
       " Ahmad Benali                  100.0             32        1  \n",
       " Alberto Grassi                 63.0             35        1  \n",
       " Alessandro Tuia                63.0             60        1  \n",
       " Alessio Romagnoli              74.0             23        1  \n",
       " Amir Rrahmani                  25.0             18        1  \n",
       " Andrea Carboni                 93.0             22        1  \n",
       " Andrea Masiello               141.0             63        1  \n",
       " Ardian Ismajli                 74.0             36        1  \n",
       " Arturo Vidal                  134.0             41        1  \n",
       " Bram Nuytinck                  78.0             36        1  \n",
       " Bruno Alves                    59.0             21        1  \n",
       " Bryan Dabo                    125.0             22        1  \n",
       " Chris Smalling                 27.0             29        1  \n",
       " Christian Eriksen             162.0             18        1  \n",
       " Claudio Terzi                 168.0             49        1  \n",
       " Daam Foulon                    59.0             15        1  \n",
       " Daniele Rugani                 47.0             28        1  \n",
       " Danilo Larangeira             158.0             63        1  \n",
       " Domenico Criscito             171.0             62        1  \n",
       " Elseid Hysaj                  184.0             53        1  \n",
       " Fikayo Tomori                  63.0             36        1  \n",
       " GermÃ¡n Pezzella               66.0             60        1  \n",
       " Giangiacomo Magnani            53.0             60        1  \n",
       " Giorgio Chiellini              95.0             32        1  \n",
       " Hans Hateboer                 163.0             29        1  \n",
       " Igor                          133.0             39        1  \n",
       " Ivan RadovanoviÄ‡              84.0             55        1  \n",
       " Jean-Daniel Akpa-Akpro         56.0             47        1  \n",
       " Julian Chabot                  90.0             60        1  \n",
       " Kalidou Koulibaly             188.0             59        1  \n",
       " Kamil Glik                     82.0             73        1  \n",
       " Kevin Bonifazi                115.0             75        1  \n",
       " Koffi Djidji                   90.0             50        1  \n",
       " Koray GÃ¼nter                 107.0             65        1  \n",
       " Kostas Manolas                 90.0             47        1  \n",
       " Leonardo Bonucci              124.0             33        1  \n",
       " Lisandro MagallÃ¡n            112.0             77        1  \n",
       " Lorenzo Tonelli                59.0             40        1  \n",
       " Luca Caldirola                 90.0             29        1  \n",
       " Luca Ceppitelli                83.0             40        1  \n",
       " Luca Marrone                   52.0             33        1  \n",
       " Luca Vignali                  147.0             54        1  \n",
       " Lucas MartÃ­nez Quarta        118.0             67        1  \n",
       " Lukas Lerager                  63.0             33        1  \n",
       " Lyanco                        127.0             61        1  \n",
       " Marash Kumbulla                92.0             25        1  \n",
       " Marlon                        194.0             47        1  \n",
       " Martin Erlic                   77.0             48        1  \n",
       " Matteo Darmian                 72.0             29        1  \n",
       " Matteo Lovato                  61.0             37        1  \n",
       " Matthijs de Ligt              149.0             47        1  \n",
       " Maya Yoshida                   75.0             56        1  \n",
       " Miguel Veloso                 116.0             30        1  \n",
       " MiloÅ¡ VuliÄ‡                 106.0             20        1  \n",
       " NiccolÃ² Zanellato             82.0             33        1  \n",
       " Nicolas Nkoulou                30.0             44        1  \n",
       " NicolÃ¡s DomÃ­nguez           106.0             60        1  \n",
       " Nikola MaksimoviÄ‡             84.0             22        1  \n",
       " Omar Colley                   131.0             76        1  \n",
       " Patric                        133.0             26        1  \n",
       " PaweÅ‚ Dawidowicz              85.0             56        1  \n",
       " Pedro Obiang                  105.0             41        1  \n",
       " Ricardo RodrÃ­guez             96.0             39        1  \n",
       " Roberto Gagliardini           124.0             32        1  \n",
       " Sebastian Walukiewicz          82.0             36        1  \n",
       " Sebastiano Luperto            106.0             37        1  \n",
       " Simon KjÃ¦r                   106.0             59        1  \n",
       " Simone Iacoponi                93.0             23        1  \n",
       " Stefan de Vrij                193.0             56        1  \n",
       " Vlad ChiricheÈ™               131.0             54        1  \n",
       " Vladimir GolemiÄ‡              81.0             45        1  \n",
       " Weston McKennie               116.0             51        1  \n",
       " Yordan Osorio                  91.0             67        1  ,\n",
       " 2:                          Cmp_PS%  Cross    KP  np:G-xG  Dribbling  ADwon%  \\\n",
       " Alexis SÃ¡nchez             78.3    2.0  33.0      2.2       28.0    54.2   \n",
       " Ante RebiÄ‡                 63.6    9.0  34.0      3.7       25.0    33.3   \n",
       " Borja Mayoral               80.1    0.0  22.0      1.7       15.0    20.5   \n",
       " Ciro Immobile               74.7    2.0  54.0      2.1       32.0    32.5   \n",
       " Dries Mertens               73.7    5.0  40.0      3.7       13.0     0.0   \n",
       " DuÅ¡an VlahoviÄ‡            68.2    1.0  17.0      1.2       36.0    42.3   \n",
       " Eldor Shomurodov            70.8    3.0  20.0      3.0       17.0    34.9   \n",
       " Fabio Quagliarella          68.0    1.0  18.0      2.3       16.0    31.3   \n",
       " Francesco Caputo            77.7    0.0  16.0      0.9        5.0    39.5   \n",
       " Giacomo Raspadori           78.6    0.0  28.0      1.7       15.0    10.0   \n",
       " Gianluca Caprari            72.0    6.0  32.0      1.6       46.0    11.1   \n",
       " Gianluca Scamacca           67.1    1.0  14.0      0.2       14.0    47.3   \n",
       " Goran Pandev                77.7    0.0  16.0      2.8       12.0    30.4   \n",
       " Hernani                     79.6    8.0  36.0      3.5       39.0    59.0   \n",
       " Jakub Jankto                69.1    8.0  31.0      0.9       11.0    25.0   \n",
       " JoÃ£o Pedro                 72.8    3.0  35.0      2.7       34.0    42.1   \n",
       " Keita BaldÃ©                74.8    1.0  18.0      1.2       14.0    30.2   \n",
       " Lautaro MartÃ­nez           72.4    1.0  32.0      1.0       37.0    34.4   \n",
       " Lennart-Marten Czyborra     74.6    5.0   5.0      0.7       10.0    34.4   \n",
       " Luis Muriel                 70.4    4.0  45.0      6.2       55.0    35.5   \n",
       " Matteo Politano             75.8    5.0  37.0      3.8       38.0    24.0   \n",
       " Mattia Destro               70.3    1.0   7.0      4.2       22.0    29.4   \n",
       " Nicolas Viola               66.9    1.0  17.0      0.3        9.0    38.1   \n",
       " Simeon Nwankwo              77.4    1.0  26.0      1.8       32.0    33.5   \n",
       " Stefano Okaka               81.4    0.0   9.0      1.1       16.0    33.7   \n",
       " Tommaso Pobega              77.8    0.0   7.0      2.5        4.0    51.3   \n",
       " Valerio Verre               71.6    2.0  18.0      0.7       17.0    34.9   \n",
       " \n",
       "                          Progressive  WonPossession  cluster  \n",
       " Alexis SÃ¡nchez                124.0             21        2  \n",
       " Ante RebiÄ‡                    132.0             29        2  \n",
       " Borja Mayoral                   66.0              8        2  \n",
       " Ciro Immobile                  190.0             14        2  \n",
       " Dries Mertens                  121.0             23        2  \n",
       " DuÅ¡an VlahoviÄ‡                90.0             17        2  \n",
       " Eldor Shomurodov                70.0             24        2  \n",
       " Fabio Quagliarella              74.0             14        2  \n",
       " Francesco Caputo                49.0              5        2  \n",
       " Giacomo Raspadori               57.0              5        2  \n",
       " Gianluca Caprari               166.0             46        2  \n",
       " Gianluca Scamacca               58.0             19        2  \n",
       " Goran Pandev                    79.0             10        2  \n",
       " Hernani                        177.0             46        2  \n",
       " Jakub Jankto                   162.0             29        2  \n",
       " JoÃ£o Pedro                    175.0             23        2  \n",
       " Keita BaldÃ©                    80.0             10        2  \n",
       " Lautaro MartÃ­nez              141.0             46        2  \n",
       " Lennart-Marten Czyborra         67.0             19        2  \n",
       " Luis Muriel                    202.0             19        2  \n",
       " Matteo Politano                267.0             35        2  \n",
       " Mattia Destro                   44.0              9        2  \n",
       " Nicolas Viola                   72.0             26        2  \n",
       " Simeon Nwankwo                  73.0             15        2  \n",
       " Stefano Okaka                   33.0             13        2  \n",
       " Tommaso Pobega                  50.0             35        2  \n",
       " Valerio Verre                  130.0             18        2  ,\n",
       " 3:                            Cmp_PS%  Cross    KP  np:G-xG  Dribbling  ADwon%  \\\n",
       " Achraf Hakimi                 82.5   21.0  36.0      2.4       36.0    31.0   \n",
       " Antonio Candreva              67.5   21.0  62.0     -0.3       31.0    11.8   \n",
       " Cristian Ansaldi              67.9   32.0  35.0     -0.9       34.0    29.2   \n",
       " Cristiano Biraghi             69.1   32.0  51.0     -1.0       16.0    36.7   \n",
       " Darko LazoviÄ‡                72.9   16.0  36.0      0.1       18.0    50.0   \n",
       " Dejan Kulusevski              78.0   11.0  52.0      1.1       35.0    24.0   \n",
       " Domenico Berardi              76.2   21.0  57.0      1.5       30.0    26.8   \n",
       " Federico Dimarco              71.1   13.0  67.0      2.7       14.0    30.2   \n",
       " Gabriele Zappa                78.4   19.0  31.0     -0.7       25.0    25.5   \n",
       " Hirving Lozano                72.4   12.0  39.0      3.1       28.0    40.5   \n",
       " Josip IliÄiÄ‡                74.4   17.0  62.0     -0.1       56.0     4.2   \n",
       " Leonardo Spinazzola           79.0   21.0  36.0      0.0       59.0    66.7   \n",
       " Manuel Lazzari                80.5   20.0  31.0     -0.2       28.0    44.7   \n",
       " Musa Barrow                   71.3   12.0  58.0      0.0       36.0    26.7   \n",
       " Nahitan NÃ¡ndez               75.5   21.0  32.0     -0.3       38.0    42.7   \n",
       " Sergej MilinkoviÄ‡-SaviÄ‡     78.1   16.0  41.0      2.3       25.0    54.6   \n",
       " Tommaso Augello               76.6   19.0  29.0      0.7       29.0    56.5   \n",
       " \n",
       "                            Progressive  WonPossession  cluster  \n",
       " Achraf Hakimi                    345.0             55        3  \n",
       " Antonio Candreva                 414.0             39        3  \n",
       " Cristian Ansaldi                 226.0             53        3  \n",
       " Cristiano Biraghi                288.0             39        3  \n",
       " Darko LazoviÄ‡                   300.0             41        3  \n",
       " Dejan Kulusevski                 249.0             37        3  \n",
       " Domenico Berardi                 387.0             58        3  \n",
       " Federico Dimarco                 315.0             67        3  \n",
       " Gabriele Zappa                   257.0             49        3  \n",
       " Hirving Lozano                   236.0             38        3  \n",
       " Josip IliÄiÄ‡                   345.0             10        3  \n",
       " Leonardo Spinazzola              344.0             36        3  \n",
       " Manuel Lazzari                   258.0             39        3  \n",
       " Musa Barrow                      276.0             22        3  \n",
       " Nahitan NÃ¡ndez                  214.0             68        3  \n",
       " Sergej MilinkoviÄ‡-SaviÄ‡        312.0             83        3  \n",
       " Tommaso Augello                  328.0             64        3  ,\n",
       " 4:                      Cmp_PS%  Cross     KP  np:G-xG  Dribbling  ADwon%  \\\n",
       " Cristiano Ronaldo       78.5    6.0   30.0      2.6       58.0    58.0   \n",
       " Giovanni Di Lorenzo     87.2   14.0   45.0     -0.8       28.0    56.4   \n",
       " Hakan Ã‡alhanoÄŸlu      77.4   11.0  100.0     -1.8       35.0    24.0   \n",
       " Henrikh Mkhitaryan      76.2    5.0   50.0      0.5       46.0    33.3   \n",
       " Juan Cuadrado           82.9    8.0   58.0     -0.2       56.0    36.1   \n",
       " Junior Messias          73.7    5.0   35.0      1.5       93.0    31.4   \n",
       " Lorenzo Insigne         79.8   13.0   64.0      2.0       59.0    50.0   \n",
       " Lorenzo Pellegrini      76.4    6.0   63.0      0.3       34.0    34.6   \n",
       " Luis Alberto            78.3    9.0   82.0      3.7       50.0    32.1   \n",
       " Mattia Zaccagni         69.2   10.0   37.0      0.9       68.0    46.1   \n",
       " NicolÃ² Barella         83.0   11.0   47.0      0.4       39.0    57.9   \n",
       " Piotr ZieliÅ„ski        82.8    2.0   58.0      2.6       53.0    23.5   \n",
       " Roberto Pereyra         84.6    3.0   44.0      1.1       36.0    32.4   \n",
       " Roberto Soriano         81.2    5.0   48.0      2.8       41.0    36.8   \n",
       " Rodrigo De Paul         73.2   20.0   89.0      1.7      112.0    35.0   \n",
       " Ruslan Malinovskyi      74.6    6.0   75.0      1.3       53.0    50.9   \n",
       " RÄƒzvan Marin           81.7    4.0   68.0      1.5       32.0    40.5   \n",
       " Theo HernÃ¡ndez         81.2   10.0   39.0      3.4       65.0    66.3   \n",
       " \n",
       "                      Progressive  WonPossession  cluster  \n",
       " Cristiano Ronaldo          346.0             11        4  \n",
       " Giovanni Di Lorenzo        512.0             96        4  \n",
       " Hakan Ã‡alhanoÄŸlu         385.0             40        4  \n",
       " Henrikh Mkhitaryan         320.0             74        4  \n",
       " Juan Cuadrado              365.0             52        4  \n",
       " Junior Messias             407.0             80        4  \n",
       " Lorenzo Insigne            499.0             61        4  \n",
       " Lorenzo Pellegrini         316.0             67        4  \n",
       " Luis Alberto               613.0             53        4  \n",
       " Mattia Zaccagni            296.0             57        4  \n",
       " NicolÃ² Barella            430.0             73        4  \n",
       " Piotr ZieliÅ„ski           293.0             35        4  \n",
       " Roberto Pereyra            327.0             43        4  \n",
       " Roberto Soriano            368.0             57        4  \n",
       " Rodrigo De Paul            599.0             48        4  \n",
       " Ruslan Malinovskyi         348.0             20        4  \n",
       " RÄƒzvan Marin              275.0             75        4  \n",
       " Theo HernÃ¡ndez            443.0             88        4  ,\n",
       " 5:                          Cmp_PS%  Cross    KP  np:G-xG  Dribbling  ADwon%  \\\n",
       " Adam MaruÅ¡iÄ‡              83.5   17.0  32.0      0.0       27.0    63.2   \n",
       " Arkadiusz Reca              70.2   13.0  25.0      0.4       35.0    47.8   \n",
       " Ashley Young                81.5   10.0  29.0     -0.2        7.0    38.5   \n",
       " Charalambos Lykogiannis     68.8    8.0  13.0      2.1       14.0    63.2   \n",
       " Davide Calabria             78.2   13.0  20.0      0.8       17.0    38.2   \n",
       " Davide Faraoni              72.1    8.0  23.0     -0.1       23.0    58.9   \n",
       " Davide Zappacosta           80.1   10.0  12.0      1.5       30.0    41.4   \n",
       " Diogo Dalot                 75.8    8.0   9.0      0.3        9.0    71.0   \n",
       " Edoardo Goldaniga           73.0    7.0   7.0     -0.4        5.0    49.2   \n",
       " Gaetano Castrovilli         77.3   12.0  19.0      1.5       29.0    27.6   \n",
       " Gaetano Letizia             75.5   17.0  14.0      2.6       10.0    63.2   \n",
       " Giacomo Bonaventura         80.6    7.0  23.0      0.2       35.0    41.5   \n",
       " Giuseppe Pezzella           78.4   12.0  19.0      0.7       32.0    58.8   \n",
       " Ivan PeriÅ¡iÄ‡              72.3   17.0  30.0     -0.4        7.0    71.4   \n",
       " Jasmin KurtiÄ‡              83.1   14.0  27.0      0.3       16.0    56.3   \n",
       " Jens Stryger Larsen         78.6    8.0  11.0     -0.9       15.0    36.7   \n",
       " Juraj Kucka                 73.2    3.0  17.0     -0.8       32.0    60.1   \n",
       " Lorenzo De Silvestri        75.9    6.0  12.0     -0.3        4.0    59.3   \n",
       " Lorenzo Venuti              73.2   11.0  16.0     -0.2        4.0    40.9   \n",
       " MartÃ­n CÃ¡ceres            79.5    9.0  11.0      0.7        2.0    44.7   \n",
       " Marvin Zeegelaar            77.7    9.0  10.0     -0.5       21.0    55.2   \n",
       " Mohamed Fares               76.8   12.0  14.0     -0.7        7.0    48.0   \n",
       " MÃ¡rio Rui                  81.5   12.0  30.0     -0.7       15.0    45.8   \n",
       " MÃ«rgim Vojvoda             77.5   10.0   8.0      0.7       12.0    52.6   \n",
       " Nahuel EstÃ©vez             74.6   10.0  23.0     -1.7       10.0    39.5   \n",
       " Nahuel Molina               77.5   14.0  22.0      0.4       20.0    44.0   \n",
       " Paolo Ghiglione             67.4   15.0  20.0     -0.6        6.0    47.2   \n",
       " Pedro Pereira               76.0   11.0  18.0     -0.7       18.0    40.0   \n",
       " PÃ«rparim Hetemaj           76.8    9.0  16.0     -0.8       13.0    30.4   \n",
       " Riccardo Gagliolo           80.7   11.0  16.0     -0.4        9.0    49.1   \n",
       " Riccardo Improta            72.4   17.0  22.0     -1.3       20.0    51.5   \n",
       " Riccardo Marchizza          79.6    9.0  14.0     -0.6       11.0    62.8   \n",
       " Rick Karsdorp               83.8    9.0  26.0      0.1       15.0    41.7   \n",
       " Robin Gosens                81.7   13.0  28.0      3.2       16.0    62.5   \n",
       " RogÃ©rio                    84.8    7.0  12.0     -0.6       24.0    57.6   \n",
       " Salvatore Molina            78.0   14.0  24.0      0.3       28.0    52.3   \n",
       " Simone Bastoni              75.6    8.0  29.0     -0.4       14.0    45.3   \n",
       " Wilfried Singo              76.7    9.0  23.0     -0.1       55.0    58.1   \n",
       " \n",
       "                          Progressive  WonPossession  cluster  \n",
       " Adam MaruÅ¡iÄ‡                 250.0             76        5  \n",
       " Arkadiusz Reca                 248.0             72        5  \n",
       " Ashley Young                   107.0             18        5  \n",
       " Charalambos Lykogiannis        166.0             44        5  \n",
       " Davide Calabria                328.0             77        5  \n",
       " Davide Faraoni                 232.0             93        5  \n",
       " Davide Zappacosta              205.0             35        5  \n",
       " Diogo Dalot                     98.0             35        5  \n",
       " Edoardo Goldaniga              118.0             50        5  \n",
       " Gaetano Castrovilli            225.0             60        5  \n",
       " Gaetano Letizia                135.0             49        5  \n",
       " Giacomo Bonaventura            196.0             67        5  \n",
       " Giuseppe Pezzella              182.0             48        5  \n",
       " Ivan PeriÅ¡iÄ‡                 158.0             32        5  \n",
       " Jasmin KurtiÄ‡                 253.0             68        5  \n",
       " Jens Stryger Larsen            223.0             44        5  \n",
       " Juraj Kucka                    149.0             69        5  \n",
       " Lorenzo De Silvestri           146.0             44        5  \n",
       " Lorenzo Venuti                 134.0             34        5  \n",
       " MartÃ­n CÃ¡ceres               166.0             30        5  \n",
       " Marvin Zeegelaar               118.0             40        5  \n",
       " Mohamed Fares                   90.0             22        5  \n",
       " MÃ¡rio Rui                     175.0             48        5  \n",
       " MÃ«rgim Vojvoda                103.0             31        5  \n",
       " Nahuel EstÃ©vez                156.0             45        5  \n",
       " Nahuel Molina                  172.0             52        5  \n",
       " Paolo Ghiglione                107.0             31        5  \n",
       " Pedro Pereira                  135.0             58        5  \n",
       " PÃ«rparim Hetemaj              150.0             69        5  \n",
       " Riccardo Gagliolo              215.0             60        5  \n",
       " Riccardo Improta               219.0             55        5  \n",
       " Riccardo Marchizza             109.0             31        5  \n",
       " Rick Karsdorp                  206.0             62        5  \n",
       " Robin Gosens                   345.0             71        5  \n",
       " RogÃ©rio                       187.0             40        5  \n",
       " Salvatore Molina               200.0             47        5  \n",
       " Simone Bastoni                 188.0             51        5  \n",
       " Wilfried Singo                 199.0             51        5  ,\n",
       " 6:                         Cmp_PS%  Cross    KP  np:G-xG  Dribbling  ADwon%  \\\n",
       " Adrien Rabiot              90.4    3.0  10.0      1.0       26.0    63.5   \n",
       " Adrien Tameze              80.2    2.0  15.0     -0.7       36.0    48.0   \n",
       " Albin Ekdal                84.0    0.0   9.0      1.2       22.0    56.7   \n",
       " Alessandro Bastoni         89.9    3.0  11.0     -1.2        7.0    63.8   \n",
       " Alex Sandro                85.8    8.0  17.0      0.8       16.0    58.5   \n",
       " Armando Izzo               82.7    3.0   6.0      0.6        7.0    65.1   \n",
       " Bartosz BereszyÅ„ski       81.6    8.0   7.0      0.9       17.0    52.9   \n",
       " Berat Djimsiti             88.1    3.0  15.0     -2.1        7.0    72.2   \n",
       " Bryan Cristante            83.5    3.0  15.0     -1.2       17.0    57.8   \n",
       " Cristian Romero            90.5    0.0   8.0      0.2       10.0    67.5   \n",
       " Danilo                     88.3    9.0  27.0     -0.2       20.0    65.4   \n",
       " Diego GodÃ­n               85.7    1.0   7.0      0.3       14.0    67.5   \n",
       " Erick Pulgar               81.5    5.0  22.0      0.2       11.0    68.2   \n",
       " FabiÃ¡n Ruiz PeÃ±a         88.8    4.0  42.0      0.4       20.0    54.5   \n",
       " Federico Barba             80.4    3.0  14.0     -1.0        4.0    52.1   \n",
       " Francesco Acerbi           88.6    9.0  12.0     -1.0       11.0    74.8   \n",
       " Franck KessiÃ©             88.9    3.0  30.0     -1.7       48.0    51.5   \n",
       " Gian Marco Ferrari         92.7    1.0  13.0     -1.6        5.0    63.8   \n",
       " Gianluca Mancini           88.1    4.0   7.0      1.5       12.0    64.6   \n",
       " Gleison Bremer             84.4    0.0   7.0      1.6        6.0    60.5   \n",
       " Gonzalo Villar             89.6    2.0   9.0     -0.4       33.0    57.4   \n",
       " Jerdy Schouten             86.7    0.0  24.0      0.7       39.0    53.2   \n",
       " JosÃ© Luis Palomino        84.0    0.0   9.0      0.6        1.0    67.4   \n",
       " Lucas Leiva                86.9    2.0   6.0     -0.4        6.0    54.6   \n",
       " Manuel Locatelli           87.5    6.0  41.0     -0.7       24.0    54.6   \n",
       " Marcelo BrozoviÄ‡          88.0   10.0  45.0      0.2       11.0    50.0   \n",
       " Marten de Roon             87.0    4.0  25.0      0.3       14.0    60.7   \n",
       " Matteo Ricci               85.2    0.0  22.0     -0.9        9.0    56.8   \n",
       " Milan Badelj               81.4    2.0  27.0      0.5       29.0    56.3   \n",
       " Milan Å kriniar            92.4    2.0   4.0      1.2        6.0    52.1   \n",
       " Morten Thorsby             75.9    1.0  14.0     -0.7       12.0    53.6   \n",
       " Nikola MilenkoviÄ‡         87.1    0.0   6.0      0.4        9.0    77.0   \n",
       " Pasquale Schiattarella     81.2    2.0  24.0     -0.1       13.0    60.0   \n",
       " Rafael TolÃ³i              83.7    3.0  14.0     -1.5       12.0    73.1   \n",
       " Remo Freuler               88.3    4.0  29.0     -0.2       38.0    48.2   \n",
       " Rodrigo BecÃ£o             87.9    1.0   6.0      0.1        8.0    65.1   \n",
       " Rodrigo Bentancur          89.2    5.0  30.0     -0.7       25.0    54.4   \n",
       " Roger Ibanez               87.5    0.0   8.0     -0.9       20.0    66.3   \n",
       " Samir Santos               86.9    2.0   7.0     -0.2        6.0    62.1   \n",
       " Takehiro Tomiyasu          83.8    3.0   8.0      0.8       18.0    64.6   \n",
       " TiemouÃ© Bakayoko          90.2    0.0  11.0      0.9       22.0    55.0   \n",
       " Tolgay Arslan              84.5    3.0   8.0      2.0       35.0    59.1   \n",
       " TomÃ¡s RincÃ³n             84.1    4.0  14.0     -0.6       29.0    52.3   \n",
       " Walace                     88.4    2.0   9.0     -0.6       26.0    44.8   \n",
       " È˜tefan Radu               83.9   11.0  18.0     -0.3       14.0    62.7   \n",
       " \n",
       "                         Progressive  WonPossession  cluster  \n",
       " Adrien Rabiot                 245.0             76        6  \n",
       " Adrien Tameze                 175.0             76        6  \n",
       " Albin Ekdal                   156.0             83        6  \n",
       " Alessandro Bastoni            340.0             63        6  \n",
       " Alex Sandro                   272.0             51        6  \n",
       " Armando Izzo                  148.0             77        6  \n",
       " Bartosz BereszyÅ„ski          193.0             80        6  \n",
       " Berat Djimsiti                307.0             74        6  \n",
       " Bryan Cristante               224.0             65        6  \n",
       " Cristian Romero               149.0            127        6  \n",
       " Danilo                        374.0             81        6  \n",
       " Diego GodÃ­n                  162.0             77        6  \n",
       " Erick Pulgar                  123.0             67        6  \n",
       " FabiÃ¡n Ruiz PeÃ±a            352.0             80        6  \n",
       " Federico Barba                142.0             77        6  \n",
       " Francesco Acerbi              215.0            100        6  \n",
       " Franck KessiÃ©                289.0             87        6  \n",
       " Gian Marco Ferrari            342.0             63        6  \n",
       " Gianluca Mancini              283.0            111        6  \n",
       " Gleison Bremer                138.0            129        6  \n",
       " Gonzalo Villar                226.0             53        6  \n",
       " Jerdy Schouten                186.0            119        6  \n",
       " JosÃ© Luis Palomino           159.0            116        6  \n",
       " Lucas Leiva                   242.0             90        6  \n",
       " Manuel Locatelli              455.0             95        6  \n",
       " Marcelo BrozoviÄ‡             355.0             75        6  \n",
       " Marten de Roon                353.0            136        6  \n",
       " Matteo Ricci                  259.0             62        6  \n",
       " Milan Badelj                  231.0            137        6  \n",
       " Milan Å kriniar               258.0             55        6  \n",
       " Morten Thorsby                136.0             79        6  \n",
       " Nikola MilenkoviÄ‡            206.0             70        6  \n",
       " Pasquale Schiattarella        227.0             58        6  \n",
       " Rafael TolÃ³i                 291.0             71        6  \n",
       " Remo Freuler                  459.0            106        6  \n",
       " Rodrigo BecÃ£o                146.0             84        6  \n",
       " Rodrigo Bentancur             270.0             93        6  \n",
       " Roger Ibanez                  217.0            110        6  \n",
       " Samir Santos                  154.0             74        6  \n",
       " Takehiro Tomiyasu             252.0             80        6  \n",
       " TiemouÃ© Bakayoko             122.0             81        6  \n",
       " Tolgay Arslan                 194.0             60        6  \n",
       " TomÃ¡s RincÃ³n                179.0             77        6  \n",
       " Walace                        125.0             86        6  \n",
       " È˜tefan Radu                  284.0             68        6  ,\n",
       " 7:                      Cmp_PS%  Cross    KP  np:G-xG  Dribbling  ADwon%  \\\n",
       " Aaron Ramsey            85.5    4.0  30.0     -3.0       12.0    30.4   \n",
       " Andrea Belotti          69.0    6.0  34.0     -0.9       51.0    39.3   \n",
       " Andreas Cornelius       69.9    2.0  24.0     -1.3       14.0    61.5   \n",
       " Andreas Skov Olsen      75.5    5.0  24.0     -1.5       15.0    44.4   \n",
       " Christian KouamÃ©       75.2    1.0  10.0     -2.5       15.0    48.5   \n",
       " DuvÃ¡n Zapata           76.7    6.0  44.0     -0.6       40.0    33.9   \n",
       " Edin DÅ¾eko             66.9    0.0  27.0     -5.2       25.0    63.0   \n",
       " Emanuel Vignato         75.0    5.0  28.0     -0.8       23.0    14.3   \n",
       " Emmanuel Gyasi          83.3    6.0  28.0     -2.5       37.0    30.7   \n",
       " Filip ÄuriÄiÄ‡        78.7    1.0  53.0     -1.0       34.0    41.4   \n",
       " Gianluca Lapadula       70.9    1.0  31.0     -1.3       13.0    29.0   \n",
       " Giovanni Simeone        73.8    1.0  11.0     -2.1       21.0    22.9   \n",
       " Giulio Maggiore         70.1    2.0  14.0     -2.1       17.0    53.2   \n",
       " Joakim MÃ¦hle           81.1   10.0  15.0     -1.4       19.0    31.8   \n",
       " Kevin Agudelo           72.5    0.0  11.0     -0.9       40.0    35.7   \n",
       " Kevin Lasagna           70.7    1.0   8.0     -5.3        7.0    33.3   \n",
       " Leonardo Pavoletti      72.0    0.0   6.0     -2.1        3.0    61.2   \n",
       " Mikkel Damsgaard        70.8    5.0  27.0     -0.4       51.0    40.0   \n",
       " Nicola Sansone          77.0    3.0  28.0     -1.8       26.0    19.4   \n",
       " Nikola KaliniÄ‡         69.8    0.0   7.0     -2.0        6.0    23.7   \n",
       " Rafael LeÃ£o            72.0    6.0  27.0      0.3       35.0    46.2   \n",
       " Riccardo Orsolini       66.5    6.0  30.0     -2.4       39.0    46.0   \n",
       " Riccardo Sottil         74.9    4.0  17.0      0.0       38.0    25.0   \n",
       " Roberto Insigne         79.2    7.0  39.0     -1.5       15.0    24.1   \n",
       " Rodrigo Palacio         75.6    8.0  36.0     -3.3       43.0    38.5   \n",
       " Romelu Lukaku           72.5    4.0  50.0     -0.1       38.0    37.4   \n",
       " Samu Castillejo         78.8    4.0  10.0     -1.0       24.0    33.3   \n",
       " Simone Verdi            66.1   10.0  52.0     -3.0       29.0    19.0   \n",
       " Simone Zaza             73.6    0.0  13.0     -2.1        9.0    34.9   \n",
       " Victor Osimhen          70.1    1.0  23.0     -0.3       16.0    36.6   \n",
       " Yann Karamoh            77.2    3.0  17.0     -1.3       37.0    23.1   \n",
       " Zlatan IbrahimoviÄ‡     70.6    2.0  15.0     -0.1       15.0    62.2   \n",
       " Ãlvaro Morata          74.8    4.0  40.0     -0.2       27.0    50.0   \n",
       " \n",
       "                      Progressive  WonPossession  cluster  \n",
       " Aaron Ramsey               138.0             22        7  \n",
       " Andrea Belotti             219.0             34        7  \n",
       " Andreas Cornelius           75.0              7        7  \n",
       " Andreas Skov Olsen         128.0             14        7  \n",
       " Christian KouamÃ©           32.0             15        7  \n",
       " DuvÃ¡n Zapata              183.0             16        7  \n",
       " Edin DÅ¾eko                119.0             11        7  \n",
       " Emanuel Vignato            160.0             23        7  \n",
       " Emmanuel Gyasi             189.0             43        7  \n",
       " Filip ÄuriÄiÄ‡           232.0             29        7  \n",
       " Gianluca Lapadula          116.0             27        7  \n",
       " Giovanni Simeone            48.0             30        7  \n",
       " Giulio Maggiore            172.0             75        7  \n",
       " Joakim MÃ¦hle              146.0             24        7  \n",
       " Kevin Agudelo              106.0             35        7  \n",
       " Kevin Lasagna               43.0              5        7  \n",
       " Leonardo Pavoletti          22.0              8        7  \n",
       " Mikkel Damsgaard           181.0             56        7  \n",
       " Nicola Sansone             135.0             23        7  \n",
       " Nikola KaliniÄ‡             32.0              2        7  \n",
       " Rafael LeÃ£o               145.0             13        7  \n",
       " Riccardo Orsolini          181.0             21        7  \n",
       " Riccardo Sottil            148.0             12        7  \n",
       " Roberto Insigne            150.0             14        7  \n",
       " Rodrigo Palacio            236.0             19        7  \n",
       " Romelu Lukaku              189.0              8        7  \n",
       " Samu Castillejo            112.0             30        7  \n",
       " Simone Verdi               151.0             28        7  \n",
       " Simone Zaza                 40.0             13        7  \n",
       " Victor Osimhen              68.0             21        7  \n",
       " Yann Karamoh               107.0             27        7  \n",
       " Zlatan IbrahimoviÄ‡        124.0             12        7  \n",
       " Ãlvaro Morata             123.0             21        7  }"
      ]
     },
     "execution_count": 95,
     "metadata": {},
     "output_type": "execute_result"
    }
   ],
   "source": [
    "plotPrint[\"cluster\"] = plotX[\"cluster\"]\n",
    "pd.set_option(\"display.max_rows\", None, \"display.max_columns\", None)\n",
    "{i:plotPrint.iloc[np.where(kmeans.labels_ == i)] for i in range(kmeans.n_clusters)}"
   ]
  },
  {
   "cell_type": "markdown",
   "id": "approved-milan",
   "metadata": {},
   "source": [
    "<h2>Analisi dei risultati</h2>"
   ]
  },
  {
   "cell_type": "markdown",
   "id": "falling-position",
   "metadata": {},
   "source": [
    "Scegliamo di analizzare in particolare le statistiche di $ Razvan \\  Marin $ centrocampista del Cagliari. Il giocatore durante l'ultimo campionato è stato schierato davanti alla difesa come centrocampista centrale; tuttavia, dalla nostra analisi risulta che il giocatore non ricade nel cluster con i mediani ( cluster 6 ), ma è inserito nel cluster con giocatori più offensivi (cluster 4), come ad esempio Roberto Soriano (trequartista del Bologna) oppure Hakan Çalhanoğlu (trequartista del Milan).\n",
    "\\\n",
    "\\\n",
    "Selezioniamo i giocatori più significativi del cluster contenente i **mediani** e di quello con i **trequartisti** in modo da verificare la similarità tra le statistiche di questi ultimi e Marin."
   ]
  },
  {
   "cell_type": "code",
   "execution_count": 96,
   "id": "printable-crawford",
   "metadata": {},
   "outputs": [
    {
     "data": {
      "text/html": [
       "<div>\n",
       "<style scoped>\n",
       "    .dataframe tbody tr th:only-of-type {\n",
       "        vertical-align: middle;\n",
       "    }\n",
       "\n",
       "    .dataframe tbody tr th {\n",
       "        vertical-align: top;\n",
       "    }\n",
       "\n",
       "    .dataframe thead th {\n",
       "        text-align: right;\n",
       "    }\n",
       "</style>\n",
       "<table border=\"1\" class=\"dataframe\">\n",
       "  <thead>\n",
       "    <tr style=\"text-align: right;\">\n",
       "      <th></th>\n",
       "      <th>Cmp_PS%</th>\n",
       "      <th>Cross</th>\n",
       "      <th>KP</th>\n",
       "      <th>np:G-xG</th>\n",
       "      <th>Dribbling</th>\n",
       "      <th>ADwon%</th>\n",
       "      <th>Progressive</th>\n",
       "      <th>WonPossession</th>\n",
       "      <th>cluster</th>\n",
       "    </tr>\n",
       "  </thead>\n",
       "  <tbody>\n",
       "    <tr>\n",
       "      <th>Manuel Locatelli</th>\n",
       "      <td>87.5</td>\n",
       "      <td>6.0</td>\n",
       "      <td>41.0</td>\n",
       "      <td>-0.7</td>\n",
       "      <td>24.0</td>\n",
       "      <td>54.6</td>\n",
       "      <td>455.0</td>\n",
       "      <td>95</td>\n",
       "      <td>6</td>\n",
       "    </tr>\n",
       "    <tr>\n",
       "      <th>Marcelo BrozoviÄ‡</th>\n",
       "      <td>88.0</td>\n",
       "      <td>10.0</td>\n",
       "      <td>45.0</td>\n",
       "      <td>0.2</td>\n",
       "      <td>11.0</td>\n",
       "      <td>50.0</td>\n",
       "      <td>355.0</td>\n",
       "      <td>75</td>\n",
       "      <td>6</td>\n",
       "    </tr>\n",
       "    <tr>\n",
       "      <th>Roberto Pereyra</th>\n",
       "      <td>84.6</td>\n",
       "      <td>3.0</td>\n",
       "      <td>44.0</td>\n",
       "      <td>1.1</td>\n",
       "      <td>36.0</td>\n",
       "      <td>32.4</td>\n",
       "      <td>327.0</td>\n",
       "      <td>43</td>\n",
       "      <td>4</td>\n",
       "    </tr>\n",
       "    <tr>\n",
       "      <th>Roberto Soriano</th>\n",
       "      <td>81.2</td>\n",
       "      <td>5.0</td>\n",
       "      <td>48.0</td>\n",
       "      <td>2.8</td>\n",
       "      <td>41.0</td>\n",
       "      <td>36.8</td>\n",
       "      <td>368.0</td>\n",
       "      <td>57</td>\n",
       "      <td>4</td>\n",
       "    </tr>\n",
       "    <tr>\n",
       "      <th>RÄƒzvan Marin</th>\n",
       "      <td>81.7</td>\n",
       "      <td>4.0</td>\n",
       "      <td>68.0</td>\n",
       "      <td>1.5</td>\n",
       "      <td>32.0</td>\n",
       "      <td>40.5</td>\n",
       "      <td>275.0</td>\n",
       "      <td>75</td>\n",
       "      <td>4</td>\n",
       "    </tr>\n",
       "  </tbody>\n",
       "</table>\n",
       "</div>"
      ],
      "text/plain": [
       "                   Cmp_PS%  Cross    KP  np:G-xG  Dribbling  ADwon%  \\\n",
       "Manuel Locatelli      87.5    6.0  41.0     -0.7       24.0    54.6   \n",
       "Marcelo BrozoviÄ‡     88.0   10.0  45.0      0.2       11.0    50.0   \n",
       "Roberto Pereyra       84.6    3.0  44.0      1.1       36.0    32.4   \n",
       "Roberto Soriano       81.2    5.0  48.0      2.8       41.0    36.8   \n",
       "RÄƒzvan Marin         81.7    4.0  68.0      1.5       32.0    40.5   \n",
       "\n",
       "                   Progressive  WonPossession  cluster  \n",
       "Manuel Locatelli         455.0             95        6  \n",
       "Marcelo BrozoviÄ‡        355.0             75        6  \n",
       "Roberto Pereyra          327.0             43        4  \n",
       "Roberto Soriano          368.0             57        4  \n",
       "RÄƒzvan Marin            275.0             75        4  "
      ]
     },
     "execution_count": 96,
     "metadata": {},
     "output_type": "execute_result"
    }
   ],
   "source": [
    "mediani = [\"Adrien Rabiot\", \"Gonzalo Villar\", \"TiemouÃ© Bakayoko\" ,'Manuel Locatelli', 'Marcelo BrozoviÄ‡', \"Rodrigo Bentancur\"]\n",
    "trequartisti = [\"Piotr ZieliÅ„ski\" ,'Hakan Ã‡alhanoÄŸlu',  \"Henrikh Mkhitaryan\", \"Luis Alberto\", \"Roberto Pereyra\" , \"Roberto Soriano\",]\n",
    "marin = [\"RÄƒzvan Marin\"]\n",
    "player = mediani[3:5] + trequartisti[4:6] + marin[0:2]\n",
    "plotPrint.loc[player]"
   ]
  },
  {
   "cell_type": "markdown",
   "id": "legitimate-sympathy",
   "metadata": {},
   "source": [
    "Confrontiamo le statistiche di Marin con la media delle statistiche dei mediani (cluster 6)."
   ]
  },
  {
   "cell_type": "code",
   "execution_count": 97,
   "id": "supreme-anime",
   "metadata": {
    "tags": []
   },
   "outputs": [
    {
     "data": {
      "text/html": [
       "<div>\n",
       "<style scoped>\n",
       "    .dataframe tbody tr th:only-of-type {\n",
       "        vertical-align: middle;\n",
       "    }\n",
       "\n",
       "    .dataframe tbody tr th {\n",
       "        vertical-align: top;\n",
       "    }\n",
       "\n",
       "    .dataframe thead th {\n",
       "        text-align: right;\n",
       "    }\n",
       "</style>\n",
       "<table border=\"1\" class=\"dataframe\">\n",
       "  <thead>\n",
       "    <tr style=\"text-align: right;\">\n",
       "      <th></th>\n",
       "      <th>ADwon%</th>\n",
       "      <th>Cmp_PS%</th>\n",
       "      <th>Cross</th>\n",
       "      <th>Dribbling</th>\n",
       "      <th>KP</th>\n",
       "      <th>Progressive</th>\n",
       "      <th>WonPossession</th>\n",
       "      <th>cluster</th>\n",
       "      <th>np:G-xG</th>\n",
       "    </tr>\n",
       "  </thead>\n",
       "  <tbody>\n",
       "    <tr>\n",
       "      <th>media mediani</th>\n",
       "      <td>59.784444</td>\n",
       "      <td>86.12</td>\n",
       "      <td>3.133333</td>\n",
       "      <td>17.222222</td>\n",
       "      <td>15.822222</td>\n",
       "      <td>235.888889</td>\n",
       "      <td>83.977778</td>\n",
       "      <td>6.0</td>\n",
       "      <td>-0.055556</td>\n",
       "    </tr>\n",
       "    <tr>\n",
       "      <th>RÄƒzvan Marin</th>\n",
       "      <td>40.500000</td>\n",
       "      <td>81.70</td>\n",
       "      <td>4.000000</td>\n",
       "      <td>32.000000</td>\n",
       "      <td>68.000000</td>\n",
       "      <td>275.000000</td>\n",
       "      <td>75.000000</td>\n",
       "      <td>4.0</td>\n",
       "      <td>1.500000</td>\n",
       "    </tr>\n",
       "  </tbody>\n",
       "</table>\n",
       "</div>"
      ],
      "text/plain": [
       "                  ADwon%  Cmp_PS%     Cross  Dribbling         KP  \\\n",
       "media mediani  59.784444    86.12  3.133333  17.222222  15.822222   \n",
       "RÄƒzvan Marin  40.500000    81.70  4.000000  32.000000  68.000000   \n",
       "\n",
       "               Progressive  WonPossession  cluster   np:G-xG  \n",
       "media mediani   235.888889      83.977778      6.0 -0.055556  \n",
       "RÄƒzvan Marin   275.000000      75.000000      4.0  1.500000  "
      ]
     },
     "execution_count": 97,
     "metadata": {},
     "output_type": "execute_result"
    }
   ],
   "source": [
    "cluster = pd.DataFrame()\n",
    "Media_Mediani = pd.Series(plotPrint.iloc[np.where(kmeans.labels_ == 6)].mean(), name = \"media mediani\")\n",
    "cluster = cluster.append(Media_Mediani)\n",
    "cluster = cluster.append(plotPrint.loc[\"RÄƒzvan Marin\"])\n",
    "cluster"
   ]
  },
  {
   "cell_type": "markdown",
   "id": "backed-slovak",
   "metadata": {},
   "source": [
    "Possiamo notare dalle statistiche che Marin ha delle caratteristiche più simili a quelle di un trequartista rispetto a quelle dei centrocampisti centrali.\n",
    "\\\n",
    "Infatti:\n",
    "- Per quanto riguarda la precisione dei passaggi $( Cmp\\_PS\\%  ) $, il valore di Marin $(81.7) $ è molto più basso rispetto a quello dei mediani (Locatelli $ 87.5 $, ..) ed alla media del cluster 6 $ ( 86.05 ) $, mentre è simile ad esempio a quello di Roberto Soriano ( $ 81.2$  ).\n",
    "- Considerando invece i passaggi chiave $(KP)$, cioè i passaggi che portano a un tiro, Marin ha valore notevolmente più alto rispetto a quello dei mediani $(15.82) $.\n",
    "- Valutando inoltre l'efficacia nei tiri $ ( np:G- xG) $ Marin anche in questo caso ha un valore molto più alto rispetto ai mediani.\n",
    "\n",
    "Queste ultime due caratteristiche mostrano l'incisività di Marin nelle zone più offensive, dove dovrebbe essere posizionato secondo la nostra analisi."
   ]
  },
  {
   "cell_type": "markdown",
   "id": "numerical-christian",
   "metadata": {},
   "source": [
    "I valori del centrocampista del Cagliari sono più simili a quelli dei trequartisti; un esempio è visibile nel radar chart riportato sotto, in cui si confronta Marin con Soriano e Locatelli."
   ]
  },
  {
   "cell_type": "code",
   "execution_count": 98,
   "id": "aquatic-freedom",
   "metadata": {
    "jupyter": {
     "source_hidden": true
    },
    "tags": []
   },
   "outputs": [
    {
     "data": {
      "application/vnd.plotly.v1+json": {
       "config": {
        "plotlyServerURL": "https://plot.ly"
       },
       "data": [
        {
         "fill": "toself",
         "line": {
          "color": "lightgreen"
         },
         "mode": "lines",
         "name": "RÄƒzvan Marin",
         "r": [
          0.12016792851125731,
          -0.1397621464643425,
          2.838827832336524,
          1.0097380967888618,
          0.7295556948761557,
          -0.4347850592206956,
          0.9989366937847772,
          1.1207754170163482
         ],
         "subplot": "polar",
         "theta": [
          "ADwon%",
          "Cmp_PS%",
          "Cross",
          "Dribbling",
          "KP",
          "Progressive",
          "WonPossession",
          "np:G-xG"
         ],
         "type": "scatterpolar"
        },
        {
         "fill": "toself",
         "line": {
          "color": "lightgreen"
         },
         "mode": "lines",
         "name": "RÄƒzvan Marin",
         "r": [
          0.12016792851125731,
          -0.1397621464643425,
          2.838827832336524,
          1.0097380967888618,
          0.7295556948761557,
          -0.4347850592206956,
          0.9989366937847772,
          1.1207754170163482
         ],
         "subplot": "polar2",
         "theta": [
          "ADwon%",
          "Cmp_PS%",
          "Cross",
          "Dribbling",
          "KP",
          "Progressive",
          "WonPossession",
          "np:G-xG"
         ],
         "type": "scatterpolar"
        },
        {
         "fill": "toself",
         "line": {
          "color": "red"
         },
         "mode": "lines",
         "name": "Roberto Soriano\t",
         "r": [
          0.04528735846156264,
          0.03923147970928912,
          1.6490219947561235,
          1.9508050782301876,
          1.2716174325449532,
          -0.663525699063917,
          1.9130773797635274,
          0.4134272431645319
         ],
         "subplot": "polar",
         "theta": [
          "ADwon%",
          "Cmp_PS%",
          "Cross",
          "Dribbling",
          "KP",
          "Progressive",
          "WonPossession",
          "np:G-xG"
         ],
         "type": "scatterpolar"
        },
        {
         "fill": "toself",
         "line": {
          "color": "violet"
         },
         "mode": "lines",
         "name": "Manuel Locatelli",
         "r": [
          0.988782541087715,
          0.21822510588292074,
          1.2325899516029835,
          -0.5828367948810739,
          0.24772303917055782,
          0.4369022439656342,
          2.768241247292035,
          1.9067178324072551
         ],
         "subplot": "polar2",
         "theta": [
          "ADwon%",
          "Cmp_PS%",
          "Cross",
          "Dribbling",
          "KP",
          "Progressive",
          "WonPossession",
          "np:G-xG"
         ],
         "type": "scatterpolar"
        }
       ],
       "layout": {
        "autosize": true,
        "polar": {
         "angularaxis": {
          "type": "category"
         },
         "domain": {
          "x": [
           0,
           0.45
          ],
          "y": [
           0,
           1
          ]
         },
         "radialaxis": {
          "autorange": false,
          "range": [
           -4,
           5
          ],
          "type": "linear",
          "visible": true
         }
        },
        "polar2": {
         "angularaxis": {
          "type": "category"
         },
         "domain": {
          "x": [
           0.55,
           1
          ],
          "y": [
           0,
           1
          ]
         },
         "radialaxis": {
          "autorange": false,
          "range": [
           -4,
           5
          ],
          "type": "linear",
          "visible": true
         }
        },
        "template": {
         "data": {
          "bar": [
           {
            "error_x": {
             "color": "#2a3f5f"
            },
            "error_y": {
             "color": "#2a3f5f"
            },
            "marker": {
             "line": {
              "color": "#E5ECF6",
              "width": 0.5
             }
            },
            "type": "bar"
           }
          ],
          "barpolar": [
           {
            "marker": {
             "line": {
              "color": "#E5ECF6",
              "width": 0.5
             }
            },
            "type": "barpolar"
           }
          ],
          "carpet": [
           {
            "aaxis": {
             "endlinecolor": "#2a3f5f",
             "gridcolor": "white",
             "linecolor": "white",
             "minorgridcolor": "white",
             "startlinecolor": "#2a3f5f"
            },
            "baxis": {
             "endlinecolor": "#2a3f5f",
             "gridcolor": "white",
             "linecolor": "white",
             "minorgridcolor": "white",
             "startlinecolor": "#2a3f5f"
            },
            "type": "carpet"
           }
          ],
          "choropleth": [
           {
            "colorbar": {
             "outlinewidth": 0,
             "ticks": ""
            },
            "type": "choropleth"
           }
          ],
          "contour": [
           {
            "colorbar": {
             "outlinewidth": 0,
             "ticks": ""
            },
            "colorscale": [
             [
              0,
              "#0d0887"
             ],
             [
              0.1111111111111111,
              "#46039f"
             ],
             [
              0.2222222222222222,
              "#7201a8"
             ],
             [
              0.3333333333333333,
              "#9c179e"
             ],
             [
              0.4444444444444444,
              "#bd3786"
             ],
             [
              0.5555555555555556,
              "#d8576b"
             ],
             [
              0.6666666666666666,
              "#ed7953"
             ],
             [
              0.7777777777777778,
              "#fb9f3a"
             ],
             [
              0.8888888888888888,
              "#fdca26"
             ],
             [
              1,
              "#f0f921"
             ]
            ],
            "type": "contour"
           }
          ],
          "contourcarpet": [
           {
            "colorbar": {
             "outlinewidth": 0,
             "ticks": ""
            },
            "type": "contourcarpet"
           }
          ],
          "heatmap": [
           {
            "colorbar": {
             "outlinewidth": 0,
             "ticks": ""
            },
            "colorscale": [
             [
              0,
              "#0d0887"
             ],
             [
              0.1111111111111111,
              "#46039f"
             ],
             [
              0.2222222222222222,
              "#7201a8"
             ],
             [
              0.3333333333333333,
              "#9c179e"
             ],
             [
              0.4444444444444444,
              "#bd3786"
             ],
             [
              0.5555555555555556,
              "#d8576b"
             ],
             [
              0.6666666666666666,
              "#ed7953"
             ],
             [
              0.7777777777777778,
              "#fb9f3a"
             ],
             [
              0.8888888888888888,
              "#fdca26"
             ],
             [
              1,
              "#f0f921"
             ]
            ],
            "type": "heatmap"
           }
          ],
          "heatmapgl": [
           {
            "colorbar": {
             "outlinewidth": 0,
             "ticks": ""
            },
            "colorscale": [
             [
              0,
              "#0d0887"
             ],
             [
              0.1111111111111111,
              "#46039f"
             ],
             [
              0.2222222222222222,
              "#7201a8"
             ],
             [
              0.3333333333333333,
              "#9c179e"
             ],
             [
              0.4444444444444444,
              "#bd3786"
             ],
             [
              0.5555555555555556,
              "#d8576b"
             ],
             [
              0.6666666666666666,
              "#ed7953"
             ],
             [
              0.7777777777777778,
              "#fb9f3a"
             ],
             [
              0.8888888888888888,
              "#fdca26"
             ],
             [
              1,
              "#f0f921"
             ]
            ],
            "type": "heatmapgl"
           }
          ],
          "histogram": [
           {
            "marker": {
             "colorbar": {
              "outlinewidth": 0,
              "ticks": ""
             }
            },
            "type": "histogram"
           }
          ],
          "histogram2d": [
           {
            "colorbar": {
             "outlinewidth": 0,
             "ticks": ""
            },
            "colorscale": [
             [
              0,
              "#0d0887"
             ],
             [
              0.1111111111111111,
              "#46039f"
             ],
             [
              0.2222222222222222,
              "#7201a8"
             ],
             [
              0.3333333333333333,
              "#9c179e"
             ],
             [
              0.4444444444444444,
              "#bd3786"
             ],
             [
              0.5555555555555556,
              "#d8576b"
             ],
             [
              0.6666666666666666,
              "#ed7953"
             ],
             [
              0.7777777777777778,
              "#fb9f3a"
             ],
             [
              0.8888888888888888,
              "#fdca26"
             ],
             [
              1,
              "#f0f921"
             ]
            ],
            "type": "histogram2d"
           }
          ],
          "histogram2dcontour": [
           {
            "colorbar": {
             "outlinewidth": 0,
             "ticks": ""
            },
            "colorscale": [
             [
              0,
              "#0d0887"
             ],
             [
              0.1111111111111111,
              "#46039f"
             ],
             [
              0.2222222222222222,
              "#7201a8"
             ],
             [
              0.3333333333333333,
              "#9c179e"
             ],
             [
              0.4444444444444444,
              "#bd3786"
             ],
             [
              0.5555555555555556,
              "#d8576b"
             ],
             [
              0.6666666666666666,
              "#ed7953"
             ],
             [
              0.7777777777777778,
              "#fb9f3a"
             ],
             [
              0.8888888888888888,
              "#fdca26"
             ],
             [
              1,
              "#f0f921"
             ]
            ],
            "type": "histogram2dcontour"
           }
          ],
          "mesh3d": [
           {
            "colorbar": {
             "outlinewidth": 0,
             "ticks": ""
            },
            "type": "mesh3d"
           }
          ],
          "parcoords": [
           {
            "line": {
             "colorbar": {
              "outlinewidth": 0,
              "ticks": ""
             }
            },
            "type": "parcoords"
           }
          ],
          "pie": [
           {
            "automargin": true,
            "type": "pie"
           }
          ],
          "scatter": [
           {
            "marker": {
             "colorbar": {
              "outlinewidth": 0,
              "ticks": ""
             }
            },
            "type": "scatter"
           }
          ],
          "scatter3d": [
           {
            "line": {
             "colorbar": {
              "outlinewidth": 0,
              "ticks": ""
             }
            },
            "marker": {
             "colorbar": {
              "outlinewidth": 0,
              "ticks": ""
             }
            },
            "type": "scatter3d"
           }
          ],
          "scattercarpet": [
           {
            "marker": {
             "colorbar": {
              "outlinewidth": 0,
              "ticks": ""
             }
            },
            "type": "scattercarpet"
           }
          ],
          "scattergeo": [
           {
            "marker": {
             "colorbar": {
              "outlinewidth": 0,
              "ticks": ""
             }
            },
            "type": "scattergeo"
           }
          ],
          "scattergl": [
           {
            "marker": {
             "colorbar": {
              "outlinewidth": 0,
              "ticks": ""
             }
            },
            "type": "scattergl"
           }
          ],
          "scattermapbox": [
           {
            "marker": {
             "colorbar": {
              "outlinewidth": 0,
              "ticks": ""
             }
            },
            "type": "scattermapbox"
           }
          ],
          "scatterpolar": [
           {
            "marker": {
             "colorbar": {
              "outlinewidth": 0,
              "ticks": ""
             }
            },
            "type": "scatterpolar"
           }
          ],
          "scatterpolargl": [
           {
            "marker": {
             "colorbar": {
              "outlinewidth": 0,
              "ticks": ""
             }
            },
            "type": "scatterpolargl"
           }
          ],
          "scatterternary": [
           {
            "marker": {
             "colorbar": {
              "outlinewidth": 0,
              "ticks": ""
             }
            },
            "type": "scatterternary"
           }
          ],
          "surface": [
           {
            "colorbar": {
             "outlinewidth": 0,
             "ticks": ""
            },
            "colorscale": [
             [
              0,
              "#0d0887"
             ],
             [
              0.1111111111111111,
              "#46039f"
             ],
             [
              0.2222222222222222,
              "#7201a8"
             ],
             [
              0.3333333333333333,
              "#9c179e"
             ],
             [
              0.4444444444444444,
              "#bd3786"
             ],
             [
              0.5555555555555556,
              "#d8576b"
             ],
             [
              0.6666666666666666,
              "#ed7953"
             ],
             [
              0.7777777777777778,
              "#fb9f3a"
             ],
             [
              0.8888888888888888,
              "#fdca26"
             ],
             [
              1,
              "#f0f921"
             ]
            ],
            "type": "surface"
           }
          ],
          "table": [
           {
            "cells": {
             "fill": {
              "color": "#EBF0F8"
             },
             "line": {
              "color": "white"
             }
            },
            "header": {
             "fill": {
              "color": "#C8D4E3"
             },
             "line": {
              "color": "white"
             }
            },
            "type": "table"
           }
          ]
         },
         "layout": {
          "annotationdefaults": {
           "arrowcolor": "#2a3f5f",
           "arrowhead": 0,
           "arrowwidth": 1
          },
          "autotypenumbers": "strict",
          "coloraxis": {
           "colorbar": {
            "outlinewidth": 0,
            "ticks": ""
           }
          },
          "colorscale": {
           "diverging": [
            [
             0,
             "#8e0152"
            ],
            [
             0.1,
             "#c51b7d"
            ],
            [
             0.2,
             "#de77ae"
            ],
            [
             0.3,
             "#f1b6da"
            ],
            [
             0.4,
             "#fde0ef"
            ],
            [
             0.5,
             "#f7f7f7"
            ],
            [
             0.6,
             "#e6f5d0"
            ],
            [
             0.7,
             "#b8e186"
            ],
            [
             0.8,
             "#7fbc41"
            ],
            [
             0.9,
             "#4d9221"
            ],
            [
             1,
             "#276419"
            ]
           ],
           "sequential": [
            [
             0,
             "#0d0887"
            ],
            [
             0.1111111111111111,
             "#46039f"
            ],
            [
             0.2222222222222222,
             "#7201a8"
            ],
            [
             0.3333333333333333,
             "#9c179e"
            ],
            [
             0.4444444444444444,
             "#bd3786"
            ],
            [
             0.5555555555555556,
             "#d8576b"
            ],
            [
             0.6666666666666666,
             "#ed7953"
            ],
            [
             0.7777777777777778,
             "#fb9f3a"
            ],
            [
             0.8888888888888888,
             "#fdca26"
            ],
            [
             1,
             "#f0f921"
            ]
           ],
           "sequentialminus": [
            [
             0,
             "#0d0887"
            ],
            [
             0.1111111111111111,
             "#46039f"
            ],
            [
             0.2222222222222222,
             "#7201a8"
            ],
            [
             0.3333333333333333,
             "#9c179e"
            ],
            [
             0.4444444444444444,
             "#bd3786"
            ],
            [
             0.5555555555555556,
             "#d8576b"
            ],
            [
             0.6666666666666666,
             "#ed7953"
            ],
            [
             0.7777777777777778,
             "#fb9f3a"
            ],
            [
             0.8888888888888888,
             "#fdca26"
            ],
            [
             1,
             "#f0f921"
            ]
           ]
          },
          "colorway": [
           "#636efa",
           "#EF553B",
           "#00cc96",
           "#ab63fa",
           "#FFA15A",
           "#19d3f3",
           "#FF6692",
           "#B6E880",
           "#FF97FF",
           "#FECB52"
          ],
          "font": {
           "color": "#2a3f5f"
          },
          "geo": {
           "bgcolor": "white",
           "lakecolor": "white",
           "landcolor": "#E5ECF6",
           "showlakes": true,
           "showland": true,
           "subunitcolor": "white"
          },
          "hoverlabel": {
           "align": "left"
          },
          "hovermode": "closest",
          "mapbox": {
           "style": "light"
          },
          "paper_bgcolor": "white",
          "plot_bgcolor": "#E5ECF6",
          "polar": {
           "angularaxis": {
            "gridcolor": "white",
            "linecolor": "white",
            "ticks": ""
           },
           "bgcolor": "#E5ECF6",
           "radialaxis": {
            "gridcolor": "white",
            "linecolor": "white",
            "ticks": ""
           }
          },
          "scene": {
           "xaxis": {
            "backgroundcolor": "#E5ECF6",
            "gridcolor": "white",
            "gridwidth": 2,
            "linecolor": "white",
            "showbackground": true,
            "ticks": "",
            "zerolinecolor": "white"
           },
           "yaxis": {
            "backgroundcolor": "#E5ECF6",
            "gridcolor": "white",
            "gridwidth": 2,
            "linecolor": "white",
            "showbackground": true,
            "ticks": "",
            "zerolinecolor": "white"
           },
           "zaxis": {
            "backgroundcolor": "#E5ECF6",
            "gridcolor": "white",
            "gridwidth": 2,
            "linecolor": "white",
            "showbackground": true,
            "ticks": "",
            "zerolinecolor": "white"
           }
          },
          "shapedefaults": {
           "line": {
            "color": "#2a3f5f"
           }
          },
          "ternary": {
           "aaxis": {
            "gridcolor": "white",
            "linecolor": "white",
            "ticks": ""
           },
           "baxis": {
            "gridcolor": "white",
            "linecolor": "white",
            "ticks": ""
           },
           "bgcolor": "#E5ECF6",
           "caxis": {
            "gridcolor": "white",
            "linecolor": "white",
            "ticks": ""
           }
          },
          "title": {
           "x": 0.05
          },
          "xaxis": {
           "automargin": true,
           "gridcolor": "white",
           "linecolor": "white",
           "ticks": "",
           "title": {
            "standoff": 15
           },
           "zerolinecolor": "white",
           "zerolinewidth": 2
          },
          "yaxis": {
           "automargin": true,
           "gridcolor": "white",
           "linecolor": "white",
           "ticks": "",
           "title": {
            "standoff": 15
           },
           "zerolinecolor": "white",
           "zerolinewidth": 2
          }
         }
        },
        "title": {
         "text": "Statistiche Marin rispetto agli altri giocatori individuiati"
        }
       }
      },
      "image/png": "[encoded data removed]",
      "text/html": [
       "<div>                            <div id=\"fe751c4a-3605-4061-940f-db8f439ab833\" class=\"plotly-graph-div\" style=\"height:525px; width:100%;\"></div>            <script type=\"text/javascript\">                require([\"plotly\"], function(Plotly) {                    window.PLOTLYENV=window.PLOTLYENV || {};                                    if (document.getElementById(\"fe751c4a-3605-4061-940f-db8f439ab833\")) {                    Plotly.newPlot(                        \"fe751c4a-3605-4061-940f-db8f439ab833\",                        [{\"fill\": \"toself\", \"line\": {\"color\": \"lightgreen\"}, \"mode\": \"lines\", \"name\": \"R\\u00c4\\u0192zvan Marin\", \"r\": [0.12016792851125731, -0.1397621464643425, 2.838827832336524, 1.0097380967888618, 0.7295556948761557, -0.4347850592206956, 0.9989366937847772, 1.1207754170163482], \"subplot\": \"polar\", \"theta\": [\"ADwon%\", \"Cmp_PS%\", \"Cross\", \"Dribbling\", \"KP\", \"Progressive\", \"WonPossession\", \"np:G-xG\"], \"type\": \"scatterpolar\"}, {\"fill\": \"toself\", \"line\": {\"color\": \"lightgreen\"}, \"mode\": \"lines\", \"name\": \"R\\u00c4\\u0192zvan Marin\", \"r\": [0.12016792851125731, -0.1397621464643425, 2.838827832336524, 1.0097380967888618, 0.7295556948761557, -0.4347850592206956, 0.9989366937847772, 1.1207754170163482], \"subplot\": \"polar2\", \"theta\": [\"ADwon%\", \"Cmp_PS%\", \"Cross\", \"Dribbling\", \"KP\", \"Progressive\", \"WonPossession\", \"np:G-xG\"], \"type\": \"scatterpolar\"}, {\"fill\": \"toself\", \"line\": {\"color\": \"red\"}, \"mode\": \"lines\", \"name\": \"Roberto Soriano\\t\", \"r\": [0.04528735846156264, 0.03923147970928912, 1.6490219947561235, 1.9508050782301876, 1.2716174325449532, -0.663525699063917, 1.9130773797635274, 0.4134272431645319], \"subplot\": \"polar\", \"theta\": [\"ADwon%\", \"Cmp_PS%\", \"Cross\", \"Dribbling\", \"KP\", \"Progressive\", \"WonPossession\", \"np:G-xG\"], \"type\": \"scatterpolar\"}, {\"fill\": \"toself\", \"line\": {\"color\": \"violet\"}, \"mode\": \"lines\", \"name\": \"Manuel Locatelli\", \"r\": [0.988782541087715, 0.21822510588292074, 1.2325899516029835, -0.5828367948810739, 0.24772303917055782, 0.4369022439656342, 2.768241247292035, 1.9067178324072551], \"subplot\": \"polar2\", \"theta\": [\"ADwon%\", \"Cmp_PS%\", \"Cross\", \"Dribbling\", \"KP\", \"Progressive\", \"WonPossession\", \"np:G-xG\"], \"type\": \"scatterpolar\"}],                        {\"polar\": {\"domain\": {\"x\": [0.0, 0.45], \"y\": [0.0, 1.0]}, \"radialaxis\": {\"range\": [-4, 5], \"visible\": true}}, \"polar2\": {\"domain\": {\"x\": [0.55, 1.0], \"y\": [0.0, 1.0]}, \"radialaxis\": {\"range\": [-4, 5], \"visible\": true}}, \"template\": {\"data\": {\"bar\": [{\"error_x\": {\"color\": \"#2a3f5f\"}, \"error_y\": {\"color\": \"#2a3f5f\"}, \"marker\": {\"line\": {\"color\": \"#E5ECF6\", \"width\": 0.5}}, \"type\": \"bar\"}], \"barpolar\": [{\"marker\": {\"line\": {\"color\": \"#E5ECF6\", \"width\": 0.5}}, \"type\": \"barpolar\"}], \"carpet\": [{\"aaxis\": {\"endlinecolor\": \"#2a3f5f\", \"gridcolor\": \"white\", \"linecolor\": \"white\", \"minorgridcolor\": \"white\", \"startlinecolor\": \"#2a3f5f\"}, \"baxis\": {\"endlinecolor\": \"#2a3f5f\", \"gridcolor\": \"white\", \"linecolor\": \"white\", \"minorgridcolor\": \"white\", \"startlinecolor\": \"#2a3f5f\"}, \"type\": \"carpet\"}], \"choropleth\": [{\"colorbar\": {\"outlinewidth\": 0, \"ticks\": \"\"}, \"type\": \"choropleth\"}], \"contour\": [{\"colorbar\": {\"outlinewidth\": 0, \"ticks\": \"\"}, \"colorscale\": [[0.0, \"#0d0887\"], [0.1111111111111111, \"#46039f\"], [0.2222222222222222, \"#7201a8\"], [0.3333333333333333, \"#9c179e\"], [0.4444444444444444, \"#bd3786\"], [0.5555555555555556, \"#d8576b\"], [0.6666666666666666, \"#ed7953\"], [0.7777777777777778, \"#fb9f3a\"], [0.8888888888888888, \"#fdca26\"], [1.0, \"#f0f921\"]], \"type\": \"contour\"}], \"contourcarpet\": [{\"colorbar\": {\"outlinewidth\": 0, \"ticks\": \"\"}, \"type\": \"contourcarpet\"}], \"heatmap\": [{\"colorbar\": {\"outlinewidth\": 0, \"ticks\": \"\"}, \"colorscale\": [[0.0, \"#0d0887\"], [0.1111111111111111, \"#46039f\"], [0.2222222222222222, \"#7201a8\"], [0.3333333333333333, \"#9c179e\"], [0.4444444444444444, \"#bd3786\"], [0.5555555555555556, \"#d8576b\"], [0.6666666666666666, \"#ed7953\"], [0.7777777777777778, \"#fb9f3a\"], [0.8888888888888888, \"#fdca26\"], [1.0, \"#f0f921\"]], \"type\": \"heatmap\"}], \"heatmapgl\": [{\"colorbar\": {\"outlinewidth\": 0, \"ticks\": \"\"}, \"colorscale\": [[0.0, \"#0d0887\"], [0.1111111111111111, \"#46039f\"], [0.2222222222222222, \"#7201a8\"], [0.3333333333333333, \"#9c179e\"], [0.4444444444444444, \"#bd3786\"], [0.5555555555555556, \"#d8576b\"], [0.6666666666666666, \"#ed7953\"], [0.7777777777777778, \"#fb9f3a\"], [0.8888888888888888, \"#fdca26\"], [1.0, \"#f0f921\"]], \"type\": \"heatmapgl\"}], \"histogram\": [{\"marker\": {\"colorbar\": {\"outlinewidth\": 0, \"ticks\": \"\"}}, \"type\": \"histogram\"}], \"histogram2d\": [{\"colorbar\": {\"outlinewidth\": 0, \"ticks\": \"\"}, \"colorscale\": [[0.0, \"#0d0887\"], [0.1111111111111111, \"#46039f\"], [0.2222222222222222, \"#7201a8\"], [0.3333333333333333, \"#9c179e\"], [0.4444444444444444, \"#bd3786\"], [0.5555555555555556, \"#d8576b\"], [0.6666666666666666, \"#ed7953\"], [0.7777777777777778, \"#fb9f3a\"], [0.8888888888888888, \"#fdca26\"], [1.0, \"#f0f921\"]], \"type\": \"histogram2d\"}], \"histogram2dcontour\": [{\"colorbar\": {\"outlinewidth\": 0, \"ticks\": \"\"}, \"colorscale\": [[0.0, \"#0d0887\"], [0.1111111111111111, \"#46039f\"], [0.2222222222222222, \"#7201a8\"], [0.3333333333333333, \"#9c179e\"], [0.4444444444444444, \"#bd3786\"], [0.5555555555555556, \"#d8576b\"], [0.6666666666666666, \"#ed7953\"], [0.7777777777777778, \"#fb9f3a\"], [0.8888888888888888, \"#fdca26\"], [1.0, \"#f0f921\"]], \"type\": \"histogram2dcontour\"}], \"mesh3d\": [{\"colorbar\": {\"outlinewidth\": 0, \"ticks\": \"\"}, \"type\": \"mesh3d\"}], \"parcoords\": [{\"line\": {\"colorbar\": {\"outlinewidth\": 0, \"ticks\": \"\"}}, \"type\": \"parcoords\"}], \"pie\": [{\"automargin\": true, \"type\": \"pie\"}], \"scatter\": [{\"marker\": {\"colorbar\": {\"outlinewidth\": 0, \"ticks\": \"\"}}, \"type\": \"scatter\"}], \"scatter3d\": [{\"line\": {\"colorbar\": {\"outlinewidth\": 0, \"ticks\": \"\"}}, \"marker\": {\"colorbar\": {\"outlinewidth\": 0, \"ticks\": \"\"}}, \"type\": \"scatter3d\"}], \"scattercarpet\": [{\"marker\": {\"colorbar\": {\"outlinewidth\": 0, \"ticks\": \"\"}}, \"type\": \"scattercarpet\"}], \"scattergeo\": [{\"marker\": {\"colorbar\": {\"outlinewidth\": 0, \"ticks\": \"\"}}, \"type\": \"scattergeo\"}], \"scattergl\": [{\"marker\": {\"colorbar\": {\"outlinewidth\": 0, \"ticks\": \"\"}}, \"type\": \"scattergl\"}], \"scattermapbox\": [{\"marker\": {\"colorbar\": {\"outlinewidth\": 0, \"ticks\": \"\"}}, \"type\": \"scattermapbox\"}], \"scatterpolar\": [{\"marker\": {\"colorbar\": {\"outlinewidth\": 0, \"ticks\": \"\"}}, \"type\": \"scatterpolar\"}], \"scatterpolargl\": [{\"marker\": {\"colorbar\": {\"outlinewidth\": 0, \"ticks\": \"\"}}, \"type\": \"scatterpolargl\"}], \"scatterternary\": [{\"marker\": {\"colorbar\": {\"outlinewidth\": 0, \"ticks\": \"\"}}, \"type\": \"scatterternary\"}], \"surface\": [{\"colorbar\": {\"outlinewidth\": 0, \"ticks\": \"\"}, \"colorscale\": [[0.0, \"#0d0887\"], [0.1111111111111111, \"#46039f\"], [0.2222222222222222, \"#7201a8\"], [0.3333333333333333, \"#9c179e\"], [0.4444444444444444, \"#bd3786\"], [0.5555555555555556, \"#d8576b\"], [0.6666666666666666, \"#ed7953\"], [0.7777777777777778, \"#fb9f3a\"], [0.8888888888888888, \"#fdca26\"], [1.0, \"#f0f921\"]], \"type\": \"surface\"}], \"table\": [{\"cells\": {\"fill\": {\"color\": \"#EBF0F8\"}, \"line\": {\"color\": \"white\"}}, \"header\": {\"fill\": {\"color\": \"#C8D4E3\"}, \"line\": {\"color\": \"white\"}}, \"type\": \"table\"}]}, \"layout\": {\"annotationdefaults\": {\"arrowcolor\": \"#2a3f5f\", \"arrowhead\": 0, \"arrowwidth\": 1}, \"autotypenumbers\": \"strict\", \"coloraxis\": {\"colorbar\": {\"outlinewidth\": 0, \"ticks\": \"\"}}, \"colorscale\": {\"diverging\": [[0, \"#8e0152\"], [0.1, \"#c51b7d\"], [0.2, \"#de77ae\"], [0.3, \"#f1b6da\"], [0.4, \"#fde0ef\"], [0.5, \"#f7f7f7\"], [0.6, \"#e6f5d0\"], [0.7, \"#b8e186\"], [0.8, \"#7fbc41\"], [0.9, \"#4d9221\"], [1, \"#276419\"]], \"sequential\": [[0.0, \"#0d0887\"], [0.1111111111111111, \"#46039f\"], [0.2222222222222222, \"#7201a8\"], [0.3333333333333333, \"#9c179e\"], [0.4444444444444444, \"#bd3786\"], [0.5555555555555556, \"#d8576b\"], [0.6666666666666666, \"#ed7953\"], [0.7777777777777778, \"#fb9f3a\"], [0.8888888888888888, \"#fdca26\"], [1.0, \"#f0f921\"]], \"sequentialminus\": [[0.0, \"#0d0887\"], [0.1111111111111111, \"#46039f\"], [0.2222222222222222, \"#7201a8\"], [0.3333333333333333, \"#9c179e\"], [0.4444444444444444, \"#bd3786\"], [0.5555555555555556, \"#d8576b\"], [0.6666666666666666, \"#ed7953\"], [0.7777777777777778, \"#fb9f3a\"], [0.8888888888888888, \"#fdca26\"], [1.0, \"#f0f921\"]]}, \"colorway\": [\"#636efa\", \"#EF553B\", \"#00cc96\", \"#ab63fa\", \"#FFA15A\", \"#19d3f3\", \"#FF6692\", \"#B6E880\", \"#FF97FF\", \"#FECB52\"], \"font\": {\"color\": \"#2a3f5f\"}, \"geo\": {\"bgcolor\": \"white\", \"lakecolor\": \"white\", \"landcolor\": \"#E5ECF6\", \"showlakes\": true, \"showland\": true, \"subunitcolor\": \"white\"}, \"hoverlabel\": {\"align\": \"left\"}, \"hovermode\": \"closest\", \"mapbox\": {\"style\": \"light\"}, \"paper_bgcolor\": \"white\", \"plot_bgcolor\": \"#E5ECF6\", \"polar\": {\"angularaxis\": {\"gridcolor\": \"white\", \"linecolor\": \"white\", \"ticks\": \"\"}, \"bgcolor\": \"#E5ECF6\", \"radialaxis\": {\"gridcolor\": \"white\", \"linecolor\": \"white\", \"ticks\": \"\"}}, \"scene\": {\"xaxis\": {\"backgroundcolor\": \"#E5ECF6\", \"gridcolor\": \"white\", \"gridwidth\": 2, \"linecolor\": \"white\", \"showbackground\": true, \"ticks\": \"\", \"zerolinecolor\": \"white\"}, \"yaxis\": {\"backgroundcolor\": \"#E5ECF6\", \"gridcolor\": \"white\", \"gridwidth\": 2, \"linecolor\": \"white\", \"showbackground\": true, \"ticks\": \"\", \"zerolinecolor\": \"white\"}, \"zaxis\": {\"backgroundcolor\": \"#E5ECF6\", \"gridcolor\": \"white\", \"gridwidth\": 2, \"linecolor\": \"white\", \"showbackground\": true, \"ticks\": \"\", \"zerolinecolor\": \"white\"}}, \"shapedefaults\": {\"line\": {\"color\": \"#2a3f5f\"}}, \"ternary\": {\"aaxis\": {\"gridcolor\": \"white\", \"linecolor\": \"white\", \"ticks\": \"\"}, \"baxis\": {\"gridcolor\": \"white\", \"linecolor\": \"white\", \"ticks\": \"\"}, \"bgcolor\": \"#E5ECF6\", \"caxis\": {\"gridcolor\": \"white\", \"linecolor\": \"white\", \"ticks\": \"\"}}, \"title\": {\"x\": 0.05}, \"xaxis\": {\"automargin\": true, \"gridcolor\": \"white\", \"linecolor\": \"white\", \"ticks\": \"\", \"title\": {\"standoff\": 15}, \"zerolinecolor\": \"white\", \"zerolinewidth\": 2}, \"yaxis\": {\"automargin\": true, \"gridcolor\": \"white\", \"linecolor\": \"white\", \"ticks\": \"\", \"title\": {\"standoff\": 15}, \"zerolinecolor\": \"white\", \"zerolinewidth\": 2}}}, \"title\": {\"text\": \"Statistiche Marin rispetto agli altri giocatori individuiati\"}},                        {\"responsive\": true}                    ).then(function(){\n",
       "                            \n",
       "var gd = document.getElementById('fe751c4a-3605-4061-940f-db8f439ab833');\n",
       "var x = new MutationObserver(function (mutations, observer) {{\n",
       "        var display = window.getComputedStyle(gd).display;\n",
       "        if (!display || display === 'none') {{\n",
       "            console.log([gd, 'removed!']);\n",
       "            Plotly.purge(gd);\n",
       "            observer.disconnect();\n",
       "        }}\n",
       "}});\n",
       "\n",
       "// Listen for the removal of the full notebook cells\n",
       "var notebookContainer = gd.closest('#notebook-container');\n",
       "if (notebookContainer) {{\n",
       "    x.observe(notebookContainer, {childList: true});\n",
       "}}\n",
       "\n",
       "// Listen for the clearing of the current output cell\n",
       "var outputEl = gd.closest('.output');\n",
       "if (outputEl) {{\n",
       "    x.observe(outputEl, {childList: true});\n",
       "}}\n",
       "\n",
       "                        })                };                });            </script>        </div>"
      ]
     },
     "metadata": {},
     "output_type": "display_data"
    }
   ],
   "source": [
    "categories = [\"ADwon%\", \"Cmp_PS%\" , \"Cross\" , \"Dribbling\" , \"KP\" , \"Progressive\", \"WonPossession\" ,\"np:G-xG\"]\n",
    "range_ = [-4, 5]\n",
    "\n",
    "fig = go.Figure()\n",
    "\n",
    "fig = make_subplots(rows=1, cols=2, specs=[[{'type': 'polar'}]*2]*1)\n",
    "\n",
    "fig.add_trace(go.Scatterpolar(\n",
    "      r=dt.loc[\"RÄƒzvan Marin\"],\n",
    "      theta=categories,\n",
    "      fill='toself',\n",
    "      name='RÄƒzvan Marin', \n",
    "    line_color = 'lightgreen', \n",
    "    mode='lines'\n",
    "\n",
    "\n",
    "), row=[1,1], col=[1, 2])\n",
    "\n",
    "\n",
    "fig.add_trace(go.Scatterpolar(\n",
    "      r=dt.loc[\"Roberto Soriano\"],\n",
    "      theta=categories,\n",
    "      fill='toself',\n",
    "        line_color = 'red', \n",
    "\n",
    "      name='Roberto Soriano\t', \n",
    "          mode='lines'\n",
    "\n",
    "), row=1, col=1)\n",
    "\n",
    "fig.add_trace(go.Scatterpolar(\n",
    "      r=dt.loc[\"Manuel Locatelli\"],\n",
    "      theta=categories,\n",
    "      fill='toself',\n",
    "    line_color = 'violet', \n",
    "\n",
    "      name='Manuel Locatelli', \n",
    "          mode='lines'\n",
    "\n",
    "), row=1, col=2)\n",
    "\n",
    "\n",
    "\n",
    "\n",
    "\n",
    "fig.update_layout(title=\"Statistiche Marin rispetto agli altri giocatori individuiati\",\n",
    "  polar=dict(\n",
    "    radialaxis=dict(\n",
    "      visible=True,\n",
    "      range=range_\n",
    "    )),\n",
    "    \n",
    "    polar2=dict(\n",
    "        radialaxis=dict(\n",
    "        visible=True,\n",
    "        range=range_\n",
    "    ))\n",
    ")\n",
    "\n",
    "fig.show(width=1000, height=1000)\n"
   ]
  },
  {
   "cell_type": "markdown",
   "id": "national-scanner",
   "metadata": {},
   "source": [
    "Possiamo notare che il radar chart di Marin si sovrappone bene a quello di Soriano (in rosso) mentre si discosta abbastanza da quello di Locatelli (in viola)."
   ]
  },
  {
   "cell_type": "markdown",
   "id": "homeless-renewal",
   "metadata": {},
   "source": [
    "Individuati i giocatori di interesse per ognuno dei due ruoli (Mediani e Trequartisti), ne facciamo la media e la confrontiamo con i valori di Marin."
   ]
  },
  {
   "cell_type": "code",
   "execution_count": 99,
   "id": "persistent-jungle",
   "metadata": {
    "jupyter": {
     "source_hidden": true
    },
    "tags": []
   },
   "outputs": [
    {
     "data": {
      "text/html": [
       "<div>\n",
       "<style scoped>\n",
       "    .dataframe tbody tr th:only-of-type {\n",
       "        vertical-align: middle;\n",
       "    }\n",
       "\n",
       "    .dataframe tbody tr th {\n",
       "        vertical-align: top;\n",
       "    }\n",
       "\n",
       "    .dataframe thead th {\n",
       "        text-align: right;\n",
       "    }\n",
       "</style>\n",
       "<table border=\"1\" class=\"dataframe\">\n",
       "  <thead>\n",
       "    <tr style=\"text-align: right;\">\n",
       "      <th></th>\n",
       "      <th>ADwon%</th>\n",
       "      <th>Cmp_PS%</th>\n",
       "      <th>Cross</th>\n",
       "      <th>Dribbling</th>\n",
       "      <th>KP</th>\n",
       "      <th>Progressive</th>\n",
       "      <th>WonPossession</th>\n",
       "      <th>np:G-xG</th>\n",
       "    </tr>\n",
       "  </thead>\n",
       "  <tbody>\n",
       "    <tr>\n",
       "      <th>Mediani</th>\n",
       "      <td>0.512119</td>\n",
       "      <td>1.235888</td>\n",
       "      <td>-0.080098</td>\n",
       "      <td>0.217608</td>\n",
       "      <td>0.241085</td>\n",
       "      <td>1.036616</td>\n",
       "      <td>1.271414</td>\n",
       "      <td>-0.039914</td>\n",
       "    </tr>\n",
       "    <tr>\n",
       "      <th>Trequartisti</th>\n",
       "      <td>-1.062276</td>\n",
       "      <td>-0.121946</td>\n",
       "      <td>0.188393</td>\n",
       "      <td>1.422190</td>\n",
       "      <td>2.581037</td>\n",
       "      <td>2.073625</td>\n",
       "      <td>0.151446</td>\n",
       "      <td>0.997673</td>\n",
       "    </tr>\n",
       "    <tr>\n",
       "      <th>Marin</th>\n",
       "      <td>-0.434785</td>\n",
       "      <td>0.120168</td>\n",
       "      <td>-0.139762</td>\n",
       "      <td>0.729556</td>\n",
       "      <td>2.838828</td>\n",
       "      <td>0.998937</td>\n",
       "      <td>1.120775</td>\n",
       "      <td>1.009738</td>\n",
       "    </tr>\n",
       "  </tbody>\n",
       "</table>\n",
       "</div>"
      ],
      "text/plain": [
       "                ADwon%   Cmp_PS%     Cross  Dribbling        KP  Progressive  \\\n",
       "Mediani       0.512119  1.235888 -0.080098   0.217608  0.241085     1.036616   \n",
       "Trequartisti -1.062276 -0.121946  0.188393   1.422190  2.581037     2.073625   \n",
       "Marin        -0.434785  0.120168 -0.139762   0.729556  2.838828     0.998937   \n",
       "\n",
       "              WonPossession   np:G-xG  \n",
       "Mediani            1.271414 -0.039914  \n",
       "Trequartisti       0.151446  0.997673  \n",
       "Marin              1.120775  1.009738  "
      ]
     },
     "execution_count": 99,
     "metadata": {},
     "output_type": "execute_result"
    }
   ],
   "source": [
    "plot_medie = pd.DataFrame()\n",
    "plot_medie = plot_medie.append(pd.Series(dt.loc[mediani].mean(axis=0)), ignore_index=True)\n",
    "plot_medie = plot_medie.append(pd.Series(dt.loc[trequartisti].mean(axis=0)), ignore_index=True)\n",
    "plot_medie = plot_medie.append(pd.Series(dt.loc[marin].mean(axis=0)), ignore_index=True)\n",
    "\n",
    "plot_medie = plot_medie.rename(index={0: \"Mediani\", 1:\"Trequartisti\", 2:\"Marin\"})\n",
    "\n",
    "plot_medie"
   ]
  },
  {
   "cell_type": "code",
   "execution_count": 100,
   "id": "dominican-spotlight",
   "metadata": {
    "tags": []
   },
   "outputs": [
    {
     "data": {
      "application/vnd.plotly.v1+json": {
       "config": {
        "plotlyServerURL": "https://plot.ly"
       },
       "data": [
        {
         "fill": "toself",
         "line": {
          "color": "lightgreen"
         },
         "mode": "lines",
         "name": "RÄƒzvan Marin",
         "r": [
          -0.4347850592206956,
          0.12016792851125731,
          -0.1397621464643425,
          0.7295556948761557,
          2.838827832336524,
          0.9989366937847772,
          1.1207754170163482,
          1.0097380967888618
         ],
         "subplot": "polar",
         "theta": [
          "ADwon%",
          "Cmp_PS%",
          "Cross",
          "Dribbling",
          "KP",
          "Progressive",
          "WonPossession",
          "np:G-xG"
         ],
         "type": "scatterpolar"
        },
        {
         "fill": "toself",
         "line": {
          "color": "lightgreen"
         },
         "mode": "lines",
         "name": "RÄƒzvan Marin",
         "r": [
          -0.4347850592206956,
          0.12016792851125731,
          -0.1397621464643425,
          0.7295556948761557,
          2.838827832336524,
          0.9989366937847772,
          1.1207754170163482,
          1.0097380967888618
         ],
         "subplot": "polar2",
         "theta": [
          "ADwon%",
          "Cmp_PS%",
          "Cross",
          "Dribbling",
          "KP",
          "Progressive",
          "WonPossession",
          "np:G-xG"
         ],
         "type": "scatterpolar"
        },
        {
         "fill": "toself",
         "line": {
          "color": "violet"
         },
         "mode": "lines",
         "name": "Mediani",
         "r": [
          0.5121187606708375,
          1.2358884222517077,
          -0.08009760440646531,
          0.21760849818895792,
          0.24108508695264966,
          1.0366163277946538,
          1.271414379966272,
          -0.03991353635723219
         ],
         "subplot": "polar2",
         "theta": [
          "ADwon%",
          "Cmp_PS%",
          "Cross",
          "Dribbling",
          "KP",
          "Progressive",
          "WonPossession",
          "np:G-xG"
         ],
         "type": "scatterpolar"
        },
        {
         "fill": "toself",
         "line": {
          "color": "red"
         },
         "mode": "lines",
         "name": "Trequartisti",
         "r": [
          -1.0622762739257483,
          -0.1219459146494225,
          0.18839283485398214,
          1.4221901374529524,
          2.581036567527437,
          2.0736253855447413,
          0.15144643803422955,
          0.997673135488332
         ],
         "subplot": "polar",
         "theta": [
          "ADwon%",
          "Cmp_PS%",
          "Cross",
          "Dribbling",
          "KP",
          "Progressive",
          "WonPossession",
          "np:G-xG"
         ],
         "type": "scatterpolar"
        }
       ],
       "layout": {
        "autosize": true,
        "polar": {
         "angularaxis": {
          "type": "category"
         },
         "domain": {
          "x": [
           0,
           0.45
          ],
          "y": [
           0,
           1
          ]
         },
         "radialaxis": {
          "autorange": false,
          "range": [
           -2,
           3
          ],
          "type": "linear",
          "visible": true
         }
        },
        "polar2": {
         "angularaxis": {
          "type": "category"
         },
         "domain": {
          "x": [
           0.55,
           1
          ],
          "y": [
           0,
           1
          ]
         },
         "radialaxis": {
          "autorange": false,
          "range": [
           -2,
           3
          ],
          "type": "linear",
          "visible": true
         }
        },
        "template": {
         "data": {
          "bar": [
           {
            "error_x": {
             "color": "#2a3f5f"
            },
            "error_y": {
             "color": "#2a3f5f"
            },
            "marker": {
             "line": {
              "color": "#E5ECF6",
              "width": 0.5
             }
            },
            "type": "bar"
           }
          ],
          "barpolar": [
           {
            "marker": {
             "line": {
              "color": "#E5ECF6",
              "width": 0.5
             }
            },
            "type": "barpolar"
           }
          ],
          "carpet": [
           {
            "aaxis": {
             "endlinecolor": "#2a3f5f",
             "gridcolor": "white",
             "linecolor": "white",
             "minorgridcolor": "white",
             "startlinecolor": "#2a3f5f"
            },
            "baxis": {
             "endlinecolor": "#2a3f5f",
             "gridcolor": "white",
             "linecolor": "white",
             "minorgridcolor": "white",
             "startlinecolor": "#2a3f5f"
            },
            "type": "carpet"
           }
          ],
          "choropleth": [
           {
            "colorbar": {
             "outlinewidth": 0,
             "ticks": ""
            },
            "type": "choropleth"
           }
          ],
          "contour": [
           {
            "colorbar": {
             "outlinewidth": 0,
             "ticks": ""
            },
            "colorscale": [
             [
              0,
              "#0d0887"
             ],
             [
              0.1111111111111111,
              "#46039f"
             ],
             [
              0.2222222222222222,
              "#7201a8"
             ],
             [
              0.3333333333333333,
              "#9c179e"
             ],
             [
              0.4444444444444444,
              "#bd3786"
             ],
             [
              0.5555555555555556,
              "#d8576b"
             ],
             [
              0.6666666666666666,
              "#ed7953"
             ],
             [
              0.7777777777777778,
              "#fb9f3a"
             ],
             [
              0.8888888888888888,
              "#fdca26"
             ],
             [
              1,
              "#f0f921"
             ]
            ],
            "type": "contour"
           }
          ],
          "contourcarpet": [
           {
            "colorbar": {
             "outlinewidth": 0,
             "ticks": ""
            },
            "type": "contourcarpet"
           }
          ],
          "heatmap": [
           {
            "colorbar": {
             "outlinewidth": 0,
             "ticks": ""
            },
            "colorscale": [
             [
              0,
              "#0d0887"
             ],
             [
              0.1111111111111111,
              "#46039f"
             ],
             [
              0.2222222222222222,
              "#7201a8"
             ],
             [
              0.3333333333333333,
              "#9c179e"
             ],
             [
              0.4444444444444444,
              "#bd3786"
             ],
             [
              0.5555555555555556,
              "#d8576b"
             ],
             [
              0.6666666666666666,
              "#ed7953"
             ],
             [
              0.7777777777777778,
              "#fb9f3a"
             ],
             [
              0.8888888888888888,
              "#fdca26"
             ],
             [
              1,
              "#f0f921"
             ]
            ],
            "type": "heatmap"
           }
          ],
          "heatmapgl": [
           {
            "colorbar": {
             "outlinewidth": 0,
             "ticks": ""
            },
            "colorscale": [
             [
              0,
              "#0d0887"
             ],
             [
              0.1111111111111111,
              "#46039f"
             ],
             [
              0.2222222222222222,
              "#7201a8"
             ],
             [
              0.3333333333333333,
              "#9c179e"
             ],
             [
              0.4444444444444444,
              "#bd3786"
             ],
             [
              0.5555555555555556,
              "#d8576b"
             ],
             [
              0.6666666666666666,
              "#ed7953"
             ],
             [
              0.7777777777777778,
              "#fb9f3a"
             ],
             [
              0.8888888888888888,
              "#fdca26"
             ],
             [
              1,
              "#f0f921"
             ]
            ],
            "type": "heatmapgl"
           }
          ],
          "histogram": [
           {
            "marker": {
             "colorbar": {
              "outlinewidth": 0,
              "ticks": ""
             }
            },
            "type": "histogram"
           }
          ],
          "histogram2d": [
           {
            "colorbar": {
             "outlinewidth": 0,
             "ticks": ""
            },
            "colorscale": [
             [
              0,
              "#0d0887"
             ],
             [
              0.1111111111111111,
              "#46039f"
             ],
             [
              0.2222222222222222,
              "#7201a8"
             ],
             [
              0.3333333333333333,
              "#9c179e"
             ],
             [
              0.4444444444444444,
              "#bd3786"
             ],
             [
              0.5555555555555556,
              "#d8576b"
             ],
             [
              0.6666666666666666,
              "#ed7953"
             ],
             [
              0.7777777777777778,
              "#fb9f3a"
             ],
             [
              0.8888888888888888,
              "#fdca26"
             ],
             [
              1,
              "#f0f921"
             ]
            ],
            "type": "histogram2d"
           }
          ],
          "histogram2dcontour": [
           {
            "colorbar": {
             "outlinewidth": 0,
             "ticks": ""
            },
            "colorscale": [
             [
              0,
              "#0d0887"
             ],
             [
              0.1111111111111111,
              "#46039f"
             ],
             [
              0.2222222222222222,
              "#7201a8"
             ],
             [
              0.3333333333333333,
              "#9c179e"
             ],
             [
              0.4444444444444444,
              "#bd3786"
             ],
             [
              0.5555555555555556,
              "#d8576b"
             ],
             [
              0.6666666666666666,
              "#ed7953"
             ],
             [
              0.7777777777777778,
              "#fb9f3a"
             ],
             [
              0.8888888888888888,
              "#fdca26"
             ],
             [
              1,
              "#f0f921"
             ]
            ],
            "type": "histogram2dcontour"
           }
          ],
          "mesh3d": [
           {
            "colorbar": {
             "outlinewidth": 0,
             "ticks": ""
            },
            "type": "mesh3d"
           }
          ],
          "parcoords": [
           {
            "line": {
             "colorbar": {
              "outlinewidth": 0,
              "ticks": ""
             }
            },
            "type": "parcoords"
           }
          ],
          "pie": [
           {
            "automargin": true,
            "type": "pie"
           }
          ],
          "scatter": [
           {
            "marker": {
             "colorbar": {
              "outlinewidth": 0,
              "ticks": ""
             }
            },
            "type": "scatter"
           }
          ],
          "scatter3d": [
           {
            "line": {
             "colorbar": {
              "outlinewidth": 0,
              "ticks": ""
             }
            },
            "marker": {
             "colorbar": {
              "outlinewidth": 0,
              "ticks": ""
             }
            },
            "type": "scatter3d"
           }
          ],
          "scattercarpet": [
           {
            "marker": {
             "colorbar": {
              "outlinewidth": 0,
              "ticks": ""
             }
            },
            "type": "scattercarpet"
           }
          ],
          "scattergeo": [
           {
            "marker": {
             "colorbar": {
              "outlinewidth": 0,
              "ticks": ""
             }
            },
            "type": "scattergeo"
           }
          ],
          "scattergl": [
           {
            "marker": {
             "colorbar": {
              "outlinewidth": 0,
              "ticks": ""
             }
            },
            "type": "scattergl"
           }
          ],
          "scattermapbox": [
           {
            "marker": {
             "colorbar": {
              "outlinewidth": 0,
              "ticks": ""
             }
            },
            "type": "scattermapbox"
           }
          ],
          "scatterpolar": [
           {
            "marker": {
             "colorbar": {
              "outlinewidth": 0,
              "ticks": ""
             }
            },
            "type": "scatterpolar"
           }
          ],
          "scatterpolargl": [
           {
            "marker": {
             "colorbar": {
              "outlinewidth": 0,
              "ticks": ""
             }
            },
            "type": "scatterpolargl"
           }
          ],
          "scatterternary": [
           {
            "marker": {
             "colorbar": {
              "outlinewidth": 0,
              "ticks": ""
             }
            },
            "type": "scatterternary"
           }
          ],
          "surface": [
           {
            "colorbar": {
             "outlinewidth": 0,
             "ticks": ""
            },
            "colorscale": [
             [
              0,
              "#0d0887"
             ],
             [
              0.1111111111111111,
              "#46039f"
             ],
             [
              0.2222222222222222,
              "#7201a8"
             ],
             [
              0.3333333333333333,
              "#9c179e"
             ],
             [
              0.4444444444444444,
              "#bd3786"
             ],
             [
              0.5555555555555556,
              "#d8576b"
             ],
             [
              0.6666666666666666,
              "#ed7953"
             ],
             [
              0.7777777777777778,
              "#fb9f3a"
             ],
             [
              0.8888888888888888,
              "#fdca26"
             ],
             [
              1,
              "#f0f921"
             ]
            ],
            "type": "surface"
           }
          ],
          "table": [
           {
            "cells": {
             "fill": {
              "color": "#EBF0F8"
             },
             "line": {
              "color": "white"
             }
            },
            "header": {
             "fill": {
              "color": "#C8D4E3"
             },
             "line": {
              "color": "white"
             }
            },
            "type": "table"
           }
          ]
         },
         "layout": {
          "annotationdefaults": {
           "arrowcolor": "#2a3f5f",
           "arrowhead": 0,
           "arrowwidth": 1
          },
          "autotypenumbers": "strict",
          "coloraxis": {
           "colorbar": {
            "outlinewidth": 0,
            "ticks": ""
           }
          },
          "colorscale": {
           "diverging": [
            [
             0,
             "#8e0152"
            ],
            [
             0.1,
             "#c51b7d"
            ],
            [
             0.2,
             "#de77ae"
            ],
            [
             0.3,
             "#f1b6da"
            ],
            [
             0.4,
             "#fde0ef"
            ],
            [
             0.5,
             "#f7f7f7"
            ],
            [
             0.6,
             "#e6f5d0"
            ],
            [
             0.7,
             "#b8e186"
            ],
            [
             0.8,
             "#7fbc41"
            ],
            [
             0.9,
             "#4d9221"
            ],
            [
             1,
             "#276419"
            ]
           ],
           "sequential": [
            [
             0,
             "#0d0887"
            ],
            [
             0.1111111111111111,
             "#46039f"
            ],
            [
             0.2222222222222222,
             "#7201a8"
            ],
            [
             0.3333333333333333,
             "#9c179e"
            ],
            [
             0.4444444444444444,
             "#bd3786"
            ],
            [
             0.5555555555555556,
             "#d8576b"
            ],
            [
             0.6666666666666666,
             "#ed7953"
            ],
            [
             0.7777777777777778,
             "#fb9f3a"
            ],
            [
             0.8888888888888888,
             "#fdca26"
            ],
            [
             1,
             "#f0f921"
            ]
           ],
           "sequentialminus": [
            [
             0,
             "#0d0887"
            ],
            [
             0.1111111111111111,
             "#46039f"
            ],
            [
             0.2222222222222222,
             "#7201a8"
            ],
            [
             0.3333333333333333,
             "#9c179e"
            ],
            [
             0.4444444444444444,
             "#bd3786"
            ],
            [
             0.5555555555555556,
             "#d8576b"
            ],
            [
             0.6666666666666666,
             "#ed7953"
            ],
            [
             0.7777777777777778,
             "#fb9f3a"
            ],
            [
             0.8888888888888888,
             "#fdca26"
            ],
            [
             1,
             "#f0f921"
            ]
           ]
          },
          "colorway": [
           "#636efa",
           "#EF553B",
           "#00cc96",
           "#ab63fa",
           "#FFA15A",
           "#19d3f3",
           "#FF6692",
           "#B6E880",
           "#FF97FF",
           "#FECB52"
          ],
          "font": {
           "color": "#2a3f5f"
          },
          "geo": {
           "bgcolor": "white",
           "lakecolor": "white",
           "landcolor": "#E5ECF6",
           "showlakes": true,
           "showland": true,
           "subunitcolor": "white"
          },
          "hoverlabel": {
           "align": "left"
          },
          "hovermode": "closest",
          "mapbox": {
           "style": "light"
          },
          "paper_bgcolor": "white",
          "plot_bgcolor": "#E5ECF6",
          "polar": {
           "angularaxis": {
            "gridcolor": "white",
            "linecolor": "white",
            "ticks": ""
           },
           "bgcolor": "#E5ECF6",
           "radialaxis": {
            "gridcolor": "white",
            "linecolor": "white",
            "ticks": ""
           }
          },
          "scene": {
           "xaxis": {
            "backgroundcolor": "#E5ECF6",
            "gridcolor": "white",
            "gridwidth": 2,
            "linecolor": "white",
            "showbackground": true,
            "ticks": "",
            "zerolinecolor": "white"
           },
           "yaxis": {
            "backgroundcolor": "#E5ECF6",
            "gridcolor": "white",
            "gridwidth": 2,
            "linecolor": "white",
            "showbackground": true,
            "ticks": "",
            "zerolinecolor": "white"
           },
           "zaxis": {
            "backgroundcolor": "#E5ECF6",
            "gridcolor": "white",
            "gridwidth": 2,
            "linecolor": "white",
            "showbackground": true,
            "ticks": "",
            "zerolinecolor": "white"
           }
          },
          "shapedefaults": {
           "line": {
            "color": "#2a3f5f"
           }
          },
          "ternary": {
           "aaxis": {
            "gridcolor": "white",
            "linecolor": "white",
            "ticks": ""
           },
           "baxis": {
            "gridcolor": "white",
            "linecolor": "white",
            "ticks": ""
           },
           "bgcolor": "#E5ECF6",
           "caxis": {
            "gridcolor": "white",
            "linecolor": "white",
            "ticks": ""
           }
          },
          "title": {
           "x": 0.05
          },
          "xaxis": {
           "automargin": true,
           "gridcolor": "white",
           "linecolor": "white",
           "ticks": "",
           "title": {
            "standoff": 15
           },
           "zerolinecolor": "white",
           "zerolinewidth": 2
          },
          "yaxis": {
           "automargin": true,
           "gridcolor": "white",
           "linecolor": "white",
           "ticks": "",
           "title": {
            "standoff": 15
           },
           "zerolinecolor": "white",
           "zerolinewidth": 2
          }
         }
        },
        "title": {
         "text": "Statistiche Marin rispetto alle medie dei cluster di trequartisti e mediani"
        }
       }
      },
      "image/png": "[encoded data removed]",
      "text/html": [
       "<div>                            <div id=\"313623ee-cf8a-44ef-a6d2-4012729df9af\" class=\"plotly-graph-div\" style=\"height:525px; width:100%;\"></div>            <script type=\"text/javascript\">                require([\"plotly\"], function(Plotly) {                    window.PLOTLYENV=window.PLOTLYENV || {};                                    if (document.getElementById(\"313623ee-cf8a-44ef-a6d2-4012729df9af\")) {                    Plotly.newPlot(                        \"313623ee-cf8a-44ef-a6d2-4012729df9af\",                        [{\"fill\": \"toself\", \"line\": {\"color\": \"lightgreen\"}, \"mode\": \"lines\", \"name\": \"R\\u00c4\\u0192zvan Marin\", \"r\": [-0.4347850592206956, 0.12016792851125731, -0.1397621464643425, 0.7295556948761557, 2.838827832336524, 0.9989366937847772, 1.1207754170163482, 1.0097380967888618], \"subplot\": \"polar\", \"theta\": [\"ADwon%\", \"Cmp_PS%\", \"Cross\", \"Dribbling\", \"KP\", \"Progressive\", \"WonPossession\", \"np:G-xG\"], \"type\": \"scatterpolar\"}, {\"fill\": \"toself\", \"line\": {\"color\": \"lightgreen\"}, \"mode\": \"lines\", \"name\": \"R\\u00c4\\u0192zvan Marin\", \"r\": [-0.4347850592206956, 0.12016792851125731, -0.1397621464643425, 0.7295556948761557, 2.838827832336524, 0.9989366937847772, 1.1207754170163482, 1.0097380967888618], \"subplot\": \"polar2\", \"theta\": [\"ADwon%\", \"Cmp_PS%\", \"Cross\", \"Dribbling\", \"KP\", \"Progressive\", \"WonPossession\", \"np:G-xG\"], \"type\": \"scatterpolar\"}, {\"fill\": \"toself\", \"line\": {\"color\": \"violet\"}, \"mode\": \"lines\", \"name\": \"Mediani\", \"r\": [0.5121187606708375, 1.2358884222517077, -0.08009760440646531, 0.21760849818895792, 0.24108508695264966, 1.0366163277946538, 1.271414379966272, -0.03991353635723219], \"subplot\": \"polar2\", \"theta\": [\"ADwon%\", \"Cmp_PS%\", \"Cross\", \"Dribbling\", \"KP\", \"Progressive\", \"WonPossession\", \"np:G-xG\"], \"type\": \"scatterpolar\"}, {\"fill\": \"toself\", \"line\": {\"color\": \"red\"}, \"mode\": \"lines\", \"name\": \"Trequartisti\", \"r\": [-1.0622762739257483, -0.1219459146494225, 0.18839283485398214, 1.4221901374529524, 2.581036567527437, 2.0736253855447413, 0.15144643803422955, 0.997673135488332], \"subplot\": \"polar\", \"theta\": [\"ADwon%\", \"Cmp_PS%\", \"Cross\", \"Dribbling\", \"KP\", \"Progressive\", \"WonPossession\", \"np:G-xG\"], \"type\": \"scatterpolar\"}],                        {\"polar\": {\"domain\": {\"x\": [0.0, 0.45], \"y\": [0.0, 1.0]}, \"radialaxis\": {\"range\": [-2, 3], \"visible\": true}}, \"polar2\": {\"domain\": {\"x\": [0.55, 1.0], \"y\": [0.0, 1.0]}, \"radialaxis\": {\"range\": [-2, 3], \"visible\": true}}, \"template\": {\"data\": {\"bar\": [{\"error_x\": {\"color\": \"#2a3f5f\"}, \"error_y\": {\"color\": \"#2a3f5f\"}, \"marker\": {\"line\": {\"color\": \"#E5ECF6\", \"width\": 0.5}}, \"type\": \"bar\"}], \"barpolar\": [{\"marker\": {\"line\": {\"color\": \"#E5ECF6\", \"width\": 0.5}}, \"type\": \"barpolar\"}], \"carpet\": [{\"aaxis\": {\"endlinecolor\": \"#2a3f5f\", \"gridcolor\": \"white\", \"linecolor\": \"white\", \"minorgridcolor\": \"white\", \"startlinecolor\": \"#2a3f5f\"}, \"baxis\": {\"endlinecolor\": \"#2a3f5f\", \"gridcolor\": \"white\", \"linecolor\": \"white\", \"minorgridcolor\": \"white\", \"startlinecolor\": \"#2a3f5f\"}, \"type\": \"carpet\"}], \"choropleth\": [{\"colorbar\": {\"outlinewidth\": 0, \"ticks\": \"\"}, \"type\": \"choropleth\"}], \"contour\": [{\"colorbar\": {\"outlinewidth\": 0, \"ticks\": \"\"}, \"colorscale\": [[0.0, \"#0d0887\"], [0.1111111111111111, \"#46039f\"], [0.2222222222222222, \"#7201a8\"], [0.3333333333333333, \"#9c179e\"], [0.4444444444444444, \"#bd3786\"], [0.5555555555555556, \"#d8576b\"], [0.6666666666666666, \"#ed7953\"], [0.7777777777777778, \"#fb9f3a\"], [0.8888888888888888, \"#fdca26\"], [1.0, \"#f0f921\"]], \"type\": \"contour\"}], \"contourcarpet\": [{\"colorbar\": {\"outlinewidth\": 0, \"ticks\": \"\"}, \"type\": \"contourcarpet\"}], \"heatmap\": [{\"colorbar\": {\"outlinewidth\": 0, \"ticks\": \"\"}, \"colorscale\": [[0.0, \"#0d0887\"], [0.1111111111111111, \"#46039f\"], [0.2222222222222222, \"#7201a8\"], [0.3333333333333333, \"#9c179e\"], [0.4444444444444444, \"#bd3786\"], [0.5555555555555556, \"#d8576b\"], [0.6666666666666666, \"#ed7953\"], [0.7777777777777778, \"#fb9f3a\"], [0.8888888888888888, \"#fdca26\"], [1.0, \"#f0f921\"]], \"type\": \"heatmap\"}], \"heatmapgl\": [{\"colorbar\": {\"outlinewidth\": 0, \"ticks\": \"\"}, \"colorscale\": [[0.0, \"#0d0887\"], [0.1111111111111111, \"#46039f\"], [0.2222222222222222, \"#7201a8\"], [0.3333333333333333, \"#9c179e\"], [0.4444444444444444, \"#bd3786\"], [0.5555555555555556, \"#d8576b\"], [0.6666666666666666, \"#ed7953\"], [0.7777777777777778, \"#fb9f3a\"], [0.8888888888888888, \"#fdca26\"], [1.0, \"#f0f921\"]], \"type\": \"heatmapgl\"}], \"histogram\": [{\"marker\": {\"colorbar\": {\"outlinewidth\": 0, \"ticks\": \"\"}}, \"type\": \"histogram\"}], \"histogram2d\": [{\"colorbar\": {\"outlinewidth\": 0, \"ticks\": \"\"}, \"colorscale\": [[0.0, \"#0d0887\"], [0.1111111111111111, \"#46039f\"], [0.2222222222222222, \"#7201a8\"], [0.3333333333333333, \"#9c179e\"], [0.4444444444444444, \"#bd3786\"], [0.5555555555555556, \"#d8576b\"], [0.6666666666666666, \"#ed7953\"], [0.7777777777777778, \"#fb9f3a\"], [0.8888888888888888, \"#fdca26\"], [1.0, \"#f0f921\"]], \"type\": \"histogram2d\"}], \"histogram2dcontour\": [{\"colorbar\": {\"outlinewidth\": 0, \"ticks\": \"\"}, \"colorscale\": [[0.0, \"#0d0887\"], [0.1111111111111111, \"#46039f\"], [0.2222222222222222, \"#7201a8\"], [0.3333333333333333, \"#9c179e\"], [0.4444444444444444, \"#bd3786\"], [0.5555555555555556, \"#d8576b\"], [0.6666666666666666, \"#ed7953\"], [0.7777777777777778, \"#fb9f3a\"], [0.8888888888888888, \"#fdca26\"], [1.0, \"#f0f921\"]], \"type\": \"histogram2dcontour\"}], \"mesh3d\": [{\"colorbar\": {\"outlinewidth\": 0, \"ticks\": \"\"}, \"type\": \"mesh3d\"}], \"parcoords\": [{\"line\": {\"colorbar\": {\"outlinewidth\": 0, \"ticks\": \"\"}}, \"type\": \"parcoords\"}], \"pie\": [{\"automargin\": true, \"type\": \"pie\"}], \"scatter\": [{\"marker\": {\"colorbar\": {\"outlinewidth\": 0, \"ticks\": \"\"}}, \"type\": \"scatter\"}], \"scatter3d\": [{\"line\": {\"colorbar\": {\"outlinewidth\": 0, \"ticks\": \"\"}}, \"marker\": {\"colorbar\": {\"outlinewidth\": 0, \"ticks\": \"\"}}, \"type\": \"scatter3d\"}], \"scattercarpet\": [{\"marker\": {\"colorbar\": {\"outlinewidth\": 0, \"ticks\": \"\"}}, \"type\": \"scattercarpet\"}], \"scattergeo\": [{\"marker\": {\"colorbar\": {\"outlinewidth\": 0, \"ticks\": \"\"}}, \"type\": \"scattergeo\"}], \"scattergl\": [{\"marker\": {\"colorbar\": {\"outlinewidth\": 0, \"ticks\": \"\"}}, \"type\": \"scattergl\"}], \"scattermapbox\": [{\"marker\": {\"colorbar\": {\"outlinewidth\": 0, \"ticks\": \"\"}}, \"type\": \"scattermapbox\"}], \"scatterpolar\": [{\"marker\": {\"colorbar\": {\"outlinewidth\": 0, \"ticks\": \"\"}}, \"type\": \"scatterpolar\"}], \"scatterpolargl\": [{\"marker\": {\"colorbar\": {\"outlinewidth\": 0, \"ticks\": \"\"}}, \"type\": \"scatterpolargl\"}], \"scatterternary\": [{\"marker\": {\"colorbar\": {\"outlinewidth\": 0, \"ticks\": \"\"}}, \"type\": \"scatterternary\"}], \"surface\": [{\"colorbar\": {\"outlinewidth\": 0, \"ticks\": \"\"}, \"colorscale\": [[0.0, \"#0d0887\"], [0.1111111111111111, \"#46039f\"], [0.2222222222222222, \"#7201a8\"], [0.3333333333333333, \"#9c179e\"], [0.4444444444444444, \"#bd3786\"], [0.5555555555555556, \"#d8576b\"], [0.6666666666666666, \"#ed7953\"], [0.7777777777777778, \"#fb9f3a\"], [0.8888888888888888, \"#fdca26\"], [1.0, \"#f0f921\"]], \"type\": \"surface\"}], \"table\": [{\"cells\": {\"fill\": {\"color\": \"#EBF0F8\"}, \"line\": {\"color\": \"white\"}}, \"header\": {\"fill\": {\"color\": \"#C8D4E3\"}, \"line\": {\"color\": \"white\"}}, \"type\": \"table\"}]}, \"layout\": {\"annotationdefaults\": {\"arrowcolor\": \"#2a3f5f\", \"arrowhead\": 0, \"arrowwidth\": 1}, \"autotypenumbers\": \"strict\", \"coloraxis\": {\"colorbar\": {\"outlinewidth\": 0, \"ticks\": \"\"}}, \"colorscale\": {\"diverging\": [[0, \"#8e0152\"], [0.1, \"#c51b7d\"], [0.2, \"#de77ae\"], [0.3, \"#f1b6da\"], [0.4, \"#fde0ef\"], [0.5, \"#f7f7f7\"], [0.6, \"#e6f5d0\"], [0.7, \"#b8e186\"], [0.8, \"#7fbc41\"], [0.9, \"#4d9221\"], [1, \"#276419\"]], \"sequential\": [[0.0, \"#0d0887\"], [0.1111111111111111, \"#46039f\"], [0.2222222222222222, \"#7201a8\"], [0.3333333333333333, \"#9c179e\"], [0.4444444444444444, \"#bd3786\"], [0.5555555555555556, \"#d8576b\"], [0.6666666666666666, \"#ed7953\"], [0.7777777777777778, \"#fb9f3a\"], [0.8888888888888888, \"#fdca26\"], [1.0, \"#f0f921\"]], \"sequentialminus\": [[0.0, \"#0d0887\"], [0.1111111111111111, \"#46039f\"], [0.2222222222222222, \"#7201a8\"], [0.3333333333333333, \"#9c179e\"], [0.4444444444444444, \"#bd3786\"], [0.5555555555555556, \"#d8576b\"], [0.6666666666666666, \"#ed7953\"], [0.7777777777777778, \"#fb9f3a\"], [0.8888888888888888, \"#fdca26\"], [1.0, \"#f0f921\"]]}, \"colorway\": [\"#636efa\", \"#EF553B\", \"#00cc96\", \"#ab63fa\", \"#FFA15A\", \"#19d3f3\", \"#FF6692\", \"#B6E880\", \"#FF97FF\", \"#FECB52\"], \"font\": {\"color\": \"#2a3f5f\"}, \"geo\": {\"bgcolor\": \"white\", \"lakecolor\": \"white\", \"landcolor\": \"#E5ECF6\", \"showlakes\": true, \"showland\": true, \"subunitcolor\": \"white\"}, \"hoverlabel\": {\"align\": \"left\"}, \"hovermode\": \"closest\", \"mapbox\": {\"style\": \"light\"}, \"paper_bgcolor\": \"white\", \"plot_bgcolor\": \"#E5ECF6\", \"polar\": {\"angularaxis\": {\"gridcolor\": \"white\", \"linecolor\": \"white\", \"ticks\": \"\"}, \"bgcolor\": \"#E5ECF6\", \"radialaxis\": {\"gridcolor\": \"white\", \"linecolor\": \"white\", \"ticks\": \"\"}}, \"scene\": {\"xaxis\": {\"backgroundcolor\": \"#E5ECF6\", \"gridcolor\": \"white\", \"gridwidth\": 2, \"linecolor\": \"white\", \"showbackground\": true, \"ticks\": \"\", \"zerolinecolor\": \"white\"}, \"yaxis\": {\"backgroundcolor\": \"#E5ECF6\", \"gridcolor\": \"white\", \"gridwidth\": 2, \"linecolor\": \"white\", \"showbackground\": true, \"ticks\": \"\", \"zerolinecolor\": \"white\"}, \"zaxis\": {\"backgroundcolor\": \"#E5ECF6\", \"gridcolor\": \"white\", \"gridwidth\": 2, \"linecolor\": \"white\", \"showbackground\": true, \"ticks\": \"\", \"zerolinecolor\": \"white\"}}, \"shapedefaults\": {\"line\": {\"color\": \"#2a3f5f\"}}, \"ternary\": {\"aaxis\": {\"gridcolor\": \"white\", \"linecolor\": \"white\", \"ticks\": \"\"}, \"baxis\": {\"gridcolor\": \"white\", \"linecolor\": \"white\", \"ticks\": \"\"}, \"bgcolor\": \"#E5ECF6\", \"caxis\": {\"gridcolor\": \"white\", \"linecolor\": \"white\", \"ticks\": \"\"}}, \"title\": {\"x\": 0.05}, \"xaxis\": {\"automargin\": true, \"gridcolor\": \"white\", \"linecolor\": \"white\", \"ticks\": \"\", \"title\": {\"standoff\": 15}, \"zerolinecolor\": \"white\", \"zerolinewidth\": 2}, \"yaxis\": {\"automargin\": true, \"gridcolor\": \"white\", \"linecolor\": \"white\", \"ticks\": \"\", \"title\": {\"standoff\": 15}, \"zerolinecolor\": \"white\", \"zerolinewidth\": 2}}}, \"title\": {\"text\": \"Statistiche Marin rispetto alle medie dei cluster di trequartisti e mediani\"}},                        {\"responsive\": true}                    ).then(function(){\n",
       "                            \n",
       "var gd = document.getElementById('313623ee-cf8a-44ef-a6d2-4012729df9af');\n",
       "var x = new MutationObserver(function (mutations, observer) {{\n",
       "        var display = window.getComputedStyle(gd).display;\n",
       "        if (!display || display === 'none') {{\n",
       "            console.log([gd, 'removed!']);\n",
       "            Plotly.purge(gd);\n",
       "            observer.disconnect();\n",
       "        }}\n",
       "}});\n",
       "\n",
       "// Listen for the removal of the full notebook cells\n",
       "var notebookContainer = gd.closest('#notebook-container');\n",
       "if (notebookContainer) {{\n",
       "    x.observe(notebookContainer, {childList: true});\n",
       "}}\n",
       "\n",
       "// Listen for the clearing of the current output cell\n",
       "var outputEl = gd.closest('.output');\n",
       "if (outputEl) {{\n",
       "    x.observe(outputEl, {childList: true});\n",
       "}}\n",
       "\n",
       "                        })                };                });            </script>        </div>"
      ]
     },
     "metadata": {},
     "output_type": "display_data"
    }
   ],
   "source": [
    "fig2 = go.Figure()\n",
    "range_ = [-2, 3]\n",
    "\n",
    "fig2 = make_subplots(rows=1, cols=2, specs=[[{'type': 'polar'}]*2]*1)\n",
    "\n",
    "fig2.add_trace(go.Scatterpolar(\n",
    "      r=plot_medie.loc[\"Marin\"],\n",
    "      theta=categories,\n",
    "      fill='toself',\n",
    "      name='RÄƒzvan Marin', \n",
    "    line_color = 'lightgreen', \n",
    "    mode='lines'\n",
    "\n",
    "\n",
    "), row=[1,1], col=[1, 2])\n",
    "\n",
    "\n",
    "fig2.add_trace(go.Scatterpolar(\n",
    "      r=plot_medie.loc[\"Mediani\"],\n",
    "      theta=categories,\n",
    "      fill='toself',\n",
    "      name='Mediani',\n",
    "      line_color = 'violet', \n",
    "      mode='lines'\n",
    "      ), row=1, col=2)\n",
    "\n",
    "fig2.add_trace(go.Scatterpolar(\n",
    "      r=plot_medie.loc[\"Trequartisti\"],\n",
    "      theta=categories,\n",
    "      fill='toself',\n",
    "      name='Trequartisti',\n",
    "    line_color = 'red', \n",
    "\n",
    "      mode='lines'\n",
    "      ), row=1, col=1)\n",
    "\n",
    "fig2.update_layout(title=\"Statistiche Marin rispetto alle medie dei cluster di trequartisti e mediani\",\n",
    "  polar=dict(\n",
    "    radialaxis=dict(\n",
    "      visible=True,\n",
    "      range=range_\n",
    "    )),\n",
    " \n",
    "    polar2=dict(\n",
    "        radialaxis=dict(\n",
    "        visible=True,\n",
    "        range=range_\n",
    "    ))\n",
    ")\n",
    "\n",
    "fig2.show(width=1000, height=1000)\n"
   ]
  },
  {
   "cell_type": "markdown",
   "id": "extensive-bidding",
   "metadata": {},
   "source": [
    "Il grafico di Marin è molto simile a quello dei trequartisti (in rosso) mentre presenta notevoli differenze rispetto a quello dei mediani (in viola).\n",
    "\n",
    "<h4>Conclusione</h4>\n",
    "\n",
    "Dalla nostra analisi risulta che le statistiche di Marin fanno di lui un giocatore molto più adatto a giocare come trequartista piuttosto che come mediano davanti alla difesa."
   ]
  }
 ],
 "metadata": {
  "kernelspec": {
   "display_name": "Python 3",
   "language": "python",
   "name": "python3"
  },
  "language_info": {
   "codemirror_mode": {
    "name": "ipython",
    "version": 3
   },
   "file_extension": ".py",
   "mimetype": "text/x-python",
   "name": "python",
   "nbconvert_exporter": "python",
   "pygments_lexer": "ipython3",
   "version": "3.8.5"
  }
 },
 "nbformat": 4,
 "nbformat_minor": 5
}
